{
  "nbformat": 4,
  "nbformat_minor": 0,
  "metadata": {
    "colab": {
      "name": "증감(종속변수)계산.ipynb",
      "provenance": [],
      "collapsed_sections": [],
      "machine_shape": "hm",
      "mount_file_id": "1_xLu1IK3lbhVqnZvrvzSEbuDlHMAiQF5",
      "authorship_tag": "ABX9TyP9Qmihimy6pupYI0GjJNUI"
    },
    "kernelspec": {
      "name": "python3",
      "display_name": "Python 3"
    },
    "language_info": {
      "name": "python"
    },
    "accelerator": "TPU"
  },
  "cells": [
    {
      "cell_type": "code",
      "metadata": {
        "id": "lACzrlTcH5cB"
      },
      "source": [
        "!sudo apt-get install -y fonts-nanum\n",
        "!sudo fc-cache -fv\n",
        "!rm ~/.cache/matplotlib -rf\n",
        "# 런타임 다시시작"
      ],
      "execution_count": null,
      "outputs": []
    },
    {
      "cell_type": "code",
      "metadata": {
        "id": "A6eX1xW6J1t4"
      },
      "source": [
        "import matplotlib.pyplot as plt\n",
        "plt.rc('font', family='NanumBarunGothic') "
      ],
      "execution_count": null,
      "outputs": []
    },
    {
      "cell_type": "code",
      "metadata": {
        "id": "xguAzHeUJ3sp"
      },
      "source": [
        "import pandas as pd\n",
        "data = pd.read_pickle('/content/drive/MyDrive/1차팀플/dataset/1008등급폭_net(수정).pkl')"
      ],
      "execution_count": null,
      "outputs": []
    },
    {
      "cell_type": "code",
      "metadata": {
        "id": "C4DCWxUrKNth"
      },
      "source": [
        "# da2 = da2.drop(['성별','연령대','주요구매시간대'],axis=1)\n",
        "da2.to_pickle('/content/drive/MyDrive/1차팀플/dataset/x_test_독립변수.pkl')"
      ],
      "execution_count": null,
      "outputs": []
    },
    {
      "cell_type": "code",
      "metadata": {
        "id": "nQ7guTslLgyO"
      },
      "source": [
        "data = pd.read_pickle('/content/drive/MyDrive/1차팀플/dataset/새분류.pkl')"
      ],
      "execution_count": null,
      "outputs": []
    },
    {
      "cell_type": "code",
      "metadata": {
        "id": "OuxO9uDCQ6uu"
      },
      "source": [
        "index = da2.reset_index()['index']"
      ],
      "execution_count": null,
      "outputs": []
    },
    {
      "cell_type": "code",
      "metadata": {
        "id": "mn0e384aMbrY"
      },
      "source": [
        "g = data.groupby(['고객번호','년','분기'])['구매금액'].agg(['sum'])\n",
        "g = g.reset_index()\n",
        "\n",
        "import numpy as np\n",
        "\n",
        "g['1,2,3,4분기'] = np.nan\n",
        "\n",
        "cond =(g['년'] == 2014)&(g['분기'] == 1)\n",
        "df = g[cond]  #['전기/후기'] = '전기'\n",
        "df.loc[:,'1,2,3,4분기']= '1분기'\n",
        "cond1 =(g['년'] == 2014)&(g['분기'] == 2)\n",
        "df1 = g[cond1]  #['전기/후기'] = '전기'\n",
        "df1.loc[:,'1,2,3,4분기']= '1분기'\n",
        "\n",
        "cond2 =(g['년'] == 2014)&(g['분기'] == 3)\n",
        "df2 = g[cond2]  #['전기/후기'] = '전기'\n",
        "df2.loc[:,'1,2,3,4분기']= '2분기'\n",
        "cond3 =(g['년'] == 2014)&(g['분기'] == 4)\n",
        "df3 = g[cond3]\n",
        "df3.loc[:,'1,2,3,4분기']= '2분기'\n",
        "\n",
        "cond4 =(g['년'] == 2015)&(g['분기'] == 1)\n",
        "df4 =  g[cond4]\n",
        "df4.loc[:,'1,2,3,4분기']= '3분기'\n",
        "cond5 =(g['년'] == 2015)&(g['분기'] == 2)\n",
        "df5 =  g[cond5]\n",
        "df5.loc[:,'1,2,3,4분기']= '3분기'\n",
        "\n",
        "cond6 =(g['년'] == 2015)&(g['분기'] == 3)\n",
        "df6 =  g[cond6]\n",
        "df6.loc[:,'1,2,3,4분기']= '4분기'\n",
        "cond7 =(g['년'] == 2015)&(g['분기'] == 4)\n",
        "df7 =  g[cond7]\n",
        "df7.loc[:,'1,2,3,4분기']= '4분기'"
      ],
      "execution_count": null,
      "outputs": []
    },
    {
      "cell_type": "code",
      "metadata": {
        "colab": {
          "base_uri": "https://localhost:8080/",
          "height": 418
        },
        "id": "8cGQM86gM3w-",
        "outputId": "1b01d8b2-0842-439c-a3e4-70eb36598315"
      },
      "source": [
        "data_3 = pd.concat([df4,df5])\n",
        "data_4 = pd.concat([df6,df7])\n",
        "data_3"
      ],
      "execution_count": null,
      "outputs": [
        {
          "output_type": "execute_result",
          "data": {
            "text/html": [
              "<div>\n",
              "<style scoped>\n",
              "    .dataframe tbody tr th:only-of-type {\n",
              "        vertical-align: middle;\n",
              "    }\n",
              "\n",
              "    .dataframe tbody tr th {\n",
              "        vertical-align: top;\n",
              "    }\n",
              "\n",
              "    .dataframe thead th {\n",
              "        text-align: right;\n",
              "    }\n",
              "</style>\n",
              "<table border=\"1\" class=\"dataframe\">\n",
              "  <thead>\n",
              "    <tr style=\"text-align: right;\">\n",
              "      <th></th>\n",
              "      <th>고객번호</th>\n",
              "      <th>년</th>\n",
              "      <th>분기</th>\n",
              "      <th>sum</th>\n",
              "      <th>1,2,3,4분기</th>\n",
              "    </tr>\n",
              "  </thead>\n",
              "  <tbody>\n",
              "    <tr>\n",
              "      <th>4</th>\n",
              "      <td>1</td>\n",
              "      <td>2015</td>\n",
              "      <td>1</td>\n",
              "      <td>9302985</td>\n",
              "      <td>3분기</td>\n",
              "    </tr>\n",
              "    <tr>\n",
              "      <th>12</th>\n",
              "      <td>2</td>\n",
              "      <td>2015</td>\n",
              "      <td>1</td>\n",
              "      <td>18481480</td>\n",
              "      <td>3분기</td>\n",
              "    </tr>\n",
              "    <tr>\n",
              "      <th>20</th>\n",
              "      <td>3</td>\n",
              "      <td>2015</td>\n",
              "      <td>1</td>\n",
              "      <td>279310</td>\n",
              "      <td>3분기</td>\n",
              "    </tr>\n",
              "    <tr>\n",
              "      <th>28</th>\n",
              "      <td>4</td>\n",
              "      <td>2015</td>\n",
              "      <td>1</td>\n",
              "      <td>1737292</td>\n",
              "      <td>3분기</td>\n",
              "    </tr>\n",
              "    <tr>\n",
              "      <th>36</th>\n",
              "      <td>5</td>\n",
              "      <td>2015</td>\n",
              "      <td>1</td>\n",
              "      <td>2124430</td>\n",
              "      <td>3분기</td>\n",
              "    </tr>\n",
              "    <tr>\n",
              "      <th>...</th>\n",
              "      <td>...</td>\n",
              "      <td>...</td>\n",
              "      <td>...</td>\n",
              "      <td>...</td>\n",
              "      <td>...</td>\n",
              "    </tr>\n",
              "    <tr>\n",
              "      <th>153876</th>\n",
              "      <td>19379</td>\n",
              "      <td>2015</td>\n",
              "      <td>2</td>\n",
              "      <td>1264900</td>\n",
              "      <td>3분기</td>\n",
              "    </tr>\n",
              "    <tr>\n",
              "      <th>153881</th>\n",
              "      <td>19380</td>\n",
              "      <td>2015</td>\n",
              "      <td>2</td>\n",
              "      <td>351120</td>\n",
              "      <td>3분기</td>\n",
              "    </tr>\n",
              "    <tr>\n",
              "      <th>153885</th>\n",
              "      <td>19381</td>\n",
              "      <td>2015</td>\n",
              "      <td>2</td>\n",
              "      <td>1672421</td>\n",
              "      <td>3분기</td>\n",
              "    </tr>\n",
              "    <tr>\n",
              "      <th>153889</th>\n",
              "      <td>19382</td>\n",
              "      <td>2015</td>\n",
              "      <td>2</td>\n",
              "      <td>1040340</td>\n",
              "      <td>3분기</td>\n",
              "    </tr>\n",
              "    <tr>\n",
              "      <th>153892</th>\n",
              "      <td>19383</td>\n",
              "      <td>2015</td>\n",
              "      <td>2</td>\n",
              "      <td>27000</td>\n",
              "      <td>3분기</td>\n",
              "    </tr>\n",
              "  </tbody>\n",
              "</table>\n",
              "<p>38598 rows × 5 columns</p>\n",
              "</div>"
            ],
            "text/plain": [
              "         고객번호     년  분기       sum 1,2,3,4분기\n",
              "4           1  2015   1   9302985       3분기\n",
              "12          2  2015   1  18481480       3분기\n",
              "20          3  2015   1    279310       3분기\n",
              "28          4  2015   1   1737292       3분기\n",
              "36          5  2015   1   2124430       3분기\n",
              "...       ...   ...  ..       ...       ...\n",
              "153876  19379  2015   2   1264900       3분기\n",
              "153881  19380  2015   2    351120       3분기\n",
              "153885  19381  2015   2   1672421       3분기\n",
              "153889  19382  2015   2   1040340       3분기\n",
              "153892  19383  2015   2     27000       3분기\n",
              "\n",
              "[38598 rows x 5 columns]"
            ]
          },
          "metadata": {},
          "execution_count": 39
        }
      ]
    },
    {
      "cell_type": "code",
      "metadata": {
        "id": "CA44CccbNOrL"
      },
      "source": [
        "data_3 = data_3.groupby('고객번호').agg({'sum':'sum'})\n",
        "data_4 = data_4.groupby('고객번호').agg({'sum':'sum'})"
      ],
      "execution_count": null,
      "outputs": []
    },
    {
      "cell_type": "code",
      "metadata": {
        "id": "C-pdSVjbNbo0"
      },
      "source": [
        "data_3.columns=['sum3']\n",
        "data_4.columns=['sum4']"
      ],
      "execution_count": null,
      "outputs": []
    },
    {
      "cell_type": "code",
      "metadata": {
        "id": "BepJ2zPkNbtP"
      },
      "source": [
        "sum3_4 = pd.concat([data_3,data_4],axis=1)\n",
        "sum3_4 = sum3_4.fillna(0)\n",
        "sum3_4['3분기총'] = sum3_4['sum3'].sum()\n",
        "sum3_4['4분기총'] = sum3_4['sum4'].sum()"
      ],
      "execution_count": null,
      "outputs": []
    },
    {
      "cell_type": "code",
      "metadata": {
        "id": "0i_sjX0LO0vS"
      },
      "source": [
        "# 고객별4-3/고객별1분기총/4분기총-3분기총/1분기총"
      ],
      "execution_count": null,
      "outputs": []
    },
    {
      "cell_type": "code",
      "metadata": {
        "id": "Bvm6RHDxNbvh"
      },
      "source": [
        "sum3_4['증감계산'] = ((sum3_4['sum4']-sum3_4['sum3'])/sum3_4['sum3'])/((sum3_4['4분기총']-sum3_4['3분기총'])/sum3_4['3분기총'])"
      ],
      "execution_count": null,
      "outputs": []
    },
    {
      "cell_type": "code",
      "metadata": {
        "colab": {
          "base_uri": "https://localhost:8080/",
          "height": 449
        },
        "id": "_hrSX4l0NbyH",
        "outputId": "a9be6ab1-a62e-45d2-f060-c80b390b0b9b"
      },
      "source": [
        "sum3_4"
      ],
      "execution_count": null,
      "outputs": [
        {
          "output_type": "execute_result",
          "data": {
            "text/html": [
              "<div>\n",
              "<style scoped>\n",
              "    .dataframe tbody tr th:only-of-type {\n",
              "        vertical-align: middle;\n",
              "    }\n",
              "\n",
              "    .dataframe tbody tr th {\n",
              "        vertical-align: top;\n",
              "    }\n",
              "\n",
              "    .dataframe thead th {\n",
              "        text-align: right;\n",
              "    }\n",
              "</style>\n",
              "<table border=\"1\" class=\"dataframe\">\n",
              "  <thead>\n",
              "    <tr style=\"text-align: right;\">\n",
              "      <th></th>\n",
              "      <th>sum3</th>\n",
              "      <th>sum4</th>\n",
              "      <th>3분기총</th>\n",
              "      <th>4분기총</th>\n",
              "      <th>증감계산</th>\n",
              "    </tr>\n",
              "    <tr>\n",
              "      <th>고객번호</th>\n",
              "      <th></th>\n",
              "      <th></th>\n",
              "      <th></th>\n",
              "      <th></th>\n",
              "      <th></th>\n",
              "    </tr>\n",
              "  </thead>\n",
              "  <tbody>\n",
              "    <tr>\n",
              "      <th>1</th>\n",
              "      <td>17898365.0</td>\n",
              "      <td>13102518.0</td>\n",
              "      <td>1.692892e+11</td>\n",
              "      <td>1.781282e+11</td>\n",
              "      <td>-5.131888</td>\n",
              "    </tr>\n",
              "    <tr>\n",
              "      <th>2</th>\n",
              "      <td>27791610.0</td>\n",
              "      <td>25843820.0</td>\n",
              "      <td>1.692892e+11</td>\n",
              "      <td>1.781282e+11</td>\n",
              "      <td>-1.342312</td>\n",
              "    </tr>\n",
              "    <tr>\n",
              "      <th>3</th>\n",
              "      <td>592280.0</td>\n",
              "      <td>679118.0</td>\n",
              "      <td>1.692892e+11</td>\n",
              "      <td>1.781282e+11</td>\n",
              "      <td>2.808070</td>\n",
              "    </tr>\n",
              "    <tr>\n",
              "      <th>4</th>\n",
              "      <td>3656937.0</td>\n",
              "      <td>3737257.0</td>\n",
              "      <td>1.692892e+11</td>\n",
              "      <td>1.781282e+11</td>\n",
              "      <td>0.420660</td>\n",
              "    </tr>\n",
              "    <tr>\n",
              "      <th>5</th>\n",
              "      <td>2934930.0</td>\n",
              "      <td>2616260.0</td>\n",
              "      <td>1.692892e+11</td>\n",
              "      <td>1.781282e+11</td>\n",
              "      <td>-2.079546</td>\n",
              "    </tr>\n",
              "    <tr>\n",
              "      <th>...</th>\n",
              "      <td>...</td>\n",
              "      <td>...</td>\n",
              "      <td>...</td>\n",
              "      <td>...</td>\n",
              "      <td>...</td>\n",
              "    </tr>\n",
              "    <tr>\n",
              "      <th>19379</th>\n",
              "      <td>2395920.0</td>\n",
              "      <td>2192740.0</td>\n",
              "      <td>1.692892e+11</td>\n",
              "      <td>1.781282e+11</td>\n",
              "      <td>-1.624179</td>\n",
              "    </tr>\n",
              "    <tr>\n",
              "      <th>19380</th>\n",
              "      <td>837950.0</td>\n",
              "      <td>2552327.0</td>\n",
              "      <td>1.692892e+11</td>\n",
              "      <td>1.781282e+11</td>\n",
              "      <td>39.184420</td>\n",
              "    </tr>\n",
              "    <tr>\n",
              "      <th>19381</th>\n",
              "      <td>2797171.0</td>\n",
              "      <td>3243498.0</td>\n",
              "      <td>1.692892e+11</td>\n",
              "      <td>1.781282e+11</td>\n",
              "      <td>3.056042</td>\n",
              "    </tr>\n",
              "    <tr>\n",
              "      <th>19382</th>\n",
              "      <td>1826739.0</td>\n",
              "      <td>2575034.0</td>\n",
              "      <td>1.692892e+11</td>\n",
              "      <td>1.781282e+11</td>\n",
              "      <td>7.845517</td>\n",
              "    </tr>\n",
              "    <tr>\n",
              "      <th>19383</th>\n",
              "      <td>27000.0</td>\n",
              "      <td>2357400.0</td>\n",
              "      <td>1.692892e+11</td>\n",
              "      <td>1.781282e+11</td>\n",
              "      <td>1653.072529</td>\n",
              "    </tr>\n",
              "  </tbody>\n",
              "</table>\n",
              "<p>19368 rows × 5 columns</p>\n",
              "</div>"
            ],
            "text/plain": [
              "             sum3        sum4          3분기총          4분기총         증감계산\n",
              "고객번호                                                                  \n",
              "1      17898365.0  13102518.0  1.692892e+11  1.781282e+11    -5.131888\n",
              "2      27791610.0  25843820.0  1.692892e+11  1.781282e+11    -1.342312\n",
              "3        592280.0    679118.0  1.692892e+11  1.781282e+11     2.808070\n",
              "4       3656937.0   3737257.0  1.692892e+11  1.781282e+11     0.420660\n",
              "5       2934930.0   2616260.0  1.692892e+11  1.781282e+11    -2.079546\n",
              "...           ...         ...           ...           ...          ...\n",
              "19379   2395920.0   2192740.0  1.692892e+11  1.781282e+11    -1.624179\n",
              "19380    837950.0   2552327.0  1.692892e+11  1.781282e+11    39.184420\n",
              "19381   2797171.0   3243498.0  1.692892e+11  1.781282e+11     3.056042\n",
              "19382   1826739.0   2575034.0  1.692892e+11  1.781282e+11     7.845517\n",
              "19383     27000.0   2357400.0  1.692892e+11  1.781282e+11  1653.072529\n",
              "\n",
              "[19368 rows x 5 columns]"
            ]
          },
          "metadata": {},
          "execution_count": 54
        }
      ]
    },
    {
      "cell_type": "code",
      "metadata": {
        "id": "bezDfKtuPT-l"
      },
      "source": [
        "def make_01(x):\n",
        "  if x >= 0: \n",
        "    x = 1\n",
        "  elif x < 0 : \n",
        "    x = 0\n",
        "  return x"
      ],
      "execution_count": null,
      "outputs": []
    },
    {
      "cell_type": "code",
      "metadata": {
        "id": "eoHvvjPjQfU4"
      },
      "source": [
        "sum3_4['증감'] = sum3_4['증감계산'].map(make_01)"
      ],
      "execution_count": null,
      "outputs": []
    },
    {
      "cell_type": "code",
      "metadata": {
        "id": "Nju68W7YQkxc"
      },
      "source": [
        "y_test = sum3_4[['증감']]"
      ],
      "execution_count": null,
      "outputs": []
    },
    {
      "cell_type": "code",
      "metadata": {
        "id": "jBY94kDTQ12G"
      },
      "source": [
        "cus = pd.DataFrame(index)"
      ],
      "execution_count": null,
      "outputs": []
    },
    {
      "cell_type": "code",
      "metadata": {
        "id": "NEZoyL6AROcB"
      },
      "source": [
        "cus.columns=['고객번호']"
      ],
      "execution_count": null,
      "outputs": []
    },
    {
      "cell_type": "code",
      "metadata": {
        "id": "-2zBcgcBRRz1"
      },
      "source": [
        "# df = pd.merge(cus,y_test1, how='outer')\n",
        "# df = df.fillna(0)"
      ],
      "execution_count": null,
      "outputs": []
    },
    {
      "cell_type": "code",
      "metadata": {
        "id": "ce-PLz16Rhab"
      },
      "source": [
        "df['증감'] = df['증감'].astype('int')\n",
        "df = df.set_index('고객번호')"
      ],
      "execution_count": null,
      "outputs": []
    },
    {
      "cell_type": "code",
      "metadata": {
        "id": "iBjPbn9cRrS5"
      },
      "source": [
        "df.to_pickle('/content/drive/MyDrive/1차팀플/dataset/y_test_종속변수.pkl')"
      ],
      "execution_count": null,
      "outputs": []
    },
    {
      "cell_type": "code",
      "metadata": {
        "id": "cpEBMijvQpqh"
      },
      "source": [
        "y_test1 = y_test.reset_index()"
      ],
      "execution_count": null,
      "outputs": []
    }
  ]
}
