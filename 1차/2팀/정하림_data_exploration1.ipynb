{
 "cells": [
  {
   "cell_type": "markdown",
   "id": "7a7ffa8f",
   "metadata": {},
   "source": [
    "# L data\n",
    "https://deepvision.lpoint.com/app/deepVision/BPPA100100.do?mCode=M104&smCode=01"
   ]
  },
  {
   "cell_type": "markdown",
   "id": "fbc39e5b",
   "metadata": {},
   "source": [
    "A : 백화점 / B : 마트 / C : 슈퍼 / D : 롭스"
   ]
  },
  {
   "cell_type": "code",
   "execution_count": 1,
   "id": "764e784c",
   "metadata": {},
   "outputs": [],
   "source": [
    "import matplotlib.pyplot as plt\n",
    "import seaborn as sns\n",
    "import pandas as pd"
   ]
  },
  {
   "cell_type": "code",
   "execution_count": 2,
   "id": "2171a1ea",
   "metadata": {},
   "outputs": [
    {
     "name": "stdout",
     "output_type": "stream",
     "text": [
      "['sans-serif']\n",
      "10.0\n"
     ]
    }
   ],
   "source": [
    "print(plt.rcParams['font.family'])\n",
    "print(plt.rcParams['font.size'])\n",
    "\n",
    "plt.rcParams[\"font.family\"] = 'NanumBarunGothic'"
   ]
  },
  {
   "cell_type": "markdown",
   "id": "0b4e64ef",
   "metadata": {},
   "source": [
    "## 경쟁사이용.txt"
   ]
  },
  {
   "cell_type": "code",
   "execution_count": 3,
   "id": "c77e7427",
   "metadata": {},
   "outputs": [
    {
     "data": {
      "text/html": [
       "<div>\n",
       "<style scoped>\n",
       "    .dataframe tbody tr th:only-of-type {\n",
       "        vertical-align: middle;\n",
       "    }\n",
       "\n",
       "    .dataframe tbody tr th {\n",
       "        vertical-align: top;\n",
       "    }\n",
       "\n",
       "    .dataframe thead th {\n",
       "        text-align: right;\n",
       "    }\n",
       "</style>\n",
       "<table border=\"1\" class=\"dataframe\">\n",
       "  <thead>\n",
       "    <tr style=\"text-align: right;\">\n",
       "      <th></th>\n",
       "      <th>고객번호</th>\n",
       "      <th>제휴사</th>\n",
       "      <th>경쟁사</th>\n",
       "      <th>이용년월</th>\n",
       "    </tr>\n",
       "  </thead>\n",
       "  <tbody>\n",
       "    <tr>\n",
       "      <th>0</th>\n",
       "      <td>2</td>\n",
       "      <td>D</td>\n",
       "      <td>D02</td>\n",
       "      <td>201507</td>\n",
       "    </tr>\n",
       "    <tr>\n",
       "      <th>1</th>\n",
       "      <td>51</td>\n",
       "      <td>D</td>\n",
       "      <td>D01</td>\n",
       "      <td>201504</td>\n",
       "    </tr>\n",
       "    <tr>\n",
       "      <th>2</th>\n",
       "      <td>77</td>\n",
       "      <td>D</td>\n",
       "      <td>D02</td>\n",
       "      <td>201503</td>\n",
       "    </tr>\n",
       "    <tr>\n",
       "      <th>3</th>\n",
       "      <td>77</td>\n",
       "      <td>D</td>\n",
       "      <td>D02</td>\n",
       "      <td>201506</td>\n",
       "    </tr>\n",
       "    <tr>\n",
       "      <th>4</th>\n",
       "      <td>77</td>\n",
       "      <td>D</td>\n",
       "      <td>D02</td>\n",
       "      <td>201507</td>\n",
       "    </tr>\n",
       "  </tbody>\n",
       "</table>\n",
       "</div>"
      ],
      "text/plain": [
       "   고객번호 제휴사  경쟁사    이용년월\n",
       "0     2   D  D02  201507\n",
       "1    51   D  D01  201504\n",
       "2    77   D  D02  201503\n",
       "3    77   D  D02  201506\n",
       "4    77   D  D02  201507"
      ]
     },
     "execution_count": 3,
     "metadata": {},
     "output_type": "execute_result"
    }
   ],
   "source": [
    "data1 = pd.read_csv('ldata/경쟁사이용.txt',encoding='CP949')\n",
    "data1.head()"
   ]
  },
  {
   "cell_type": "code",
   "execution_count": 4,
   "id": "9d205545",
   "metadata": {},
   "outputs": [
    {
     "name": "stdout",
     "output_type": "stream",
     "text": [
      "<class 'pandas.core.frame.DataFrame'>\n",
      "RangeIndex: 28159 entries, 0 to 28158\n",
      "Data columns (total 4 columns):\n",
      " #   Column  Non-Null Count  Dtype \n",
      "---  ------  --------------  ----- \n",
      " 0   고객번호    28159 non-null  int64 \n",
      " 1   제휴사     28159 non-null  object\n",
      " 2   경쟁사     28159 non-null  object\n",
      " 3   이용년월    28159 non-null  int64 \n",
      "dtypes: int64(2), object(2)\n",
      "memory usage: 880.1+ KB\n"
     ]
    }
   ],
   "source": [
    "data1.info()"
   ]
  },
  {
   "cell_type": "code",
   "execution_count": 5,
   "id": "8f3c2a51",
   "metadata": {
    "scrolled": true
   },
   "outputs": [
    {
     "name": "stdout",
     "output_type": "stream",
     "text": [
      "['D' 'A' 'B' 'C'] \n",
      "\n",
      "['D02' 'D01' 'A01' 'A02' 'B01' 'C03' 'B02' 'C02' 'C01'] \n",
      "\n",
      "B    13526\n",
      "A     6385\n",
      "C     5176\n",
      "D     3072\n",
      "Name: 제휴사, dtype: int64\n"
     ]
    }
   ],
   "source": [
    "print(data1['제휴사'].unique(), '\\n')\n",
    "print(data1['경쟁사'].unique(), '\\n')\n",
    "print(data1['제휴사'].value_counts())\n",
    "\n",
    "# A,B,D는 경쟁사 2곳, C는 경쟁사 3곳\n",
    "# B -> A -> C -> D 순으로 경쟁사 이용이 많음."
   ]
  },
  {
   "cell_type": "markdown",
   "id": "daad5ef4",
   "metadata": {},
   "source": [
    "## 고객DEMO.txt"
   ]
  },
  {
   "cell_type": "code",
   "execution_count": 6,
   "id": "72ff3be4",
   "metadata": {},
   "outputs": [
    {
     "data": {
      "text/html": [
       "<div>\n",
       "<style scoped>\n",
       "    .dataframe tbody tr th:only-of-type {\n",
       "        vertical-align: middle;\n",
       "    }\n",
       "\n",
       "    .dataframe tbody tr th {\n",
       "        vertical-align: top;\n",
       "    }\n",
       "\n",
       "    .dataframe thead th {\n",
       "        text-align: right;\n",
       "    }\n",
       "</style>\n",
       "<table border=\"1\" class=\"dataframe\">\n",
       "  <thead>\n",
       "    <tr style=\"text-align: right;\">\n",
       "      <th></th>\n",
       "      <th>고객번호</th>\n",
       "      <th>성별</th>\n",
       "      <th>연령대</th>\n",
       "      <th>거주지역</th>\n",
       "    </tr>\n",
       "  </thead>\n",
       "  <tbody>\n",
       "    <tr>\n",
       "      <th>0</th>\n",
       "      <td>1</td>\n",
       "      <td>M</td>\n",
       "      <td>60세이상</td>\n",
       "      <td>60.0</td>\n",
       "    </tr>\n",
       "    <tr>\n",
       "      <th>1</th>\n",
       "      <td>2</td>\n",
       "      <td>M</td>\n",
       "      <td>60세이상</td>\n",
       "      <td>100.0</td>\n",
       "    </tr>\n",
       "    <tr>\n",
       "      <th>2</th>\n",
       "      <td>3</td>\n",
       "      <td>M</td>\n",
       "      <td>60세이상</td>\n",
       "      <td>33.0</td>\n",
       "    </tr>\n",
       "  </tbody>\n",
       "</table>\n",
       "</div>"
      ],
      "text/plain": [
       "   고객번호 성별    연령대   거주지역\n",
       "0     1  M  60세이상   60.0\n",
       "1     2  M  60세이상  100.0\n",
       "2     3  M  60세이상   33.0"
      ]
     },
     "execution_count": 6,
     "metadata": {},
     "output_type": "execute_result"
    }
   ],
   "source": [
    "data2 = pd.read_csv('ldata/고객DEMO.txt',encoding='CP949')\n",
    "data2 = pd.DataFrame(data2)\n",
    "data2.head(3)"
   ]
  },
  {
   "cell_type": "code",
   "execution_count": 7,
   "id": "a870dfbb",
   "metadata": {},
   "outputs": [
    {
     "name": "stdout",
     "output_type": "stream",
     "text": [
      "<class 'pandas.core.frame.DataFrame'>\n",
      "RangeIndex: 19383 entries, 0 to 19382\n",
      "Data columns (total 4 columns):\n",
      " #   Column  Non-Null Count  Dtype  \n",
      "---  ------  --------------  -----  \n",
      " 0   고객번호    19383 non-null  int64  \n",
      " 1   성별      19383 non-null  object \n",
      " 2   연령대     19383 non-null  object \n",
      " 3   거주지역    19205 non-null  float64\n",
      "dtypes: float64(1), int64(1), object(2)\n",
      "memory usage: 605.8+ KB\n"
     ]
    }
   ],
   "source": [
    "data2.info()"
   ]
  },
  {
   "cell_type": "code",
   "execution_count": 8,
   "id": "f4dad8d8",
   "metadata": {
    "scrolled": false
   },
   "outputs": [
    {
     "data": {
      "text/plain": [
       "고객번호      0\n",
       "성별        0\n",
       "연령대       0\n",
       "거주지역    178\n",
       "dtype: int64"
      ]
     },
     "execution_count": 8,
     "metadata": {},
     "output_type": "execute_result"
    }
   ],
   "source": [
    "data2.isnull().sum()\n",
    "\n",
    "# 거주지역을 모르는 고객 : 178명"
   ]
  },
  {
   "cell_type": "code",
   "execution_count": 9,
   "id": "aa8123f5",
   "metadata": {},
   "outputs": [
    {
     "name": "stdout",
     "output_type": "stream",
     "text": [
      "19383 \n",
      "\n",
      "['60세이상' '55세~59세' '50세~54세' '45세~49세' '40세~44세' '35세~39세' '30세~34세'\n",
      " '25세~29세' '20세~24세' '19세이하'] \n",
      "\n",
      "[ 60. 100.  33.  16. 240.  36.  10.  24.  43. 210. 460.  55.  nan  47.\n",
      "  39. 440.  87.  65.  13.  49. 360.  69. 410. 340. 500.  72. 610.  45.\n",
      "  75.  82.  30.  79.  27.  52. 270. 540. 310.  20. 570. 300.  85. 630.]\n"
     ]
    }
   ],
   "source": [
    "print(data2['고객번호'].nunique(),'\\n')\n",
    "print(data2['연령대'].unique(),'\\n')\n",
    "print(data2['거주지역'].unique())\n",
    "\n",
    "# 고객번호 중복 x. 연령대는 5살 범위로 범주화되어있음.\n",
    "# 거주지역의 숫자 = 거주지역 신우편번호 앞 3자리"
   ]
  },
  {
   "cell_type": "code",
   "execution_count": 10,
   "id": "6f61274c",
   "metadata": {
    "scrolled": true
   },
   "outputs": [
    {
     "name": "stdout",
     "output_type": "stream",
     "text": [
      "성별\n",
      "F    15898\n",
      "M     3485\n",
      "dtype: int64\n"
     ]
    },
    {
     "data": {
      "text/plain": [
       "<AxesSubplot:xlabel='성별', ylabel='count'>"
      ]
     },
     "execution_count": 10,
     "metadata": {},
     "output_type": "execute_result"
    },
    {
     "data": {
      "image/png": "[encoded data removed]",
      "text/plain": [
       "<Figure size 432x288 with 1 Axes>"
      ]
     },
     "metadata": {
      "needs_background": "light"
     },
     "output_type": "display_data"
    }
   ],
   "source": [
    "print(data2.groupby('성별').size())\n",
    "sns.countplot(data=data2, x=data2['성별'])\n",
    "\n",
    "# 여성은 15898명, 남성은 3485명으로 여성회원수가 남성회원수에 비해 4.5배 많음."
   ]
  },
  {
   "cell_type": "code",
   "execution_count": 11,
   "id": "17aab899",
   "metadata": {
    "scrolled": true
   },
   "outputs": [
    {
     "name": "stdout",
     "output_type": "stream",
     "text": [
      "연령대 별 고객수 :  45세~49세    4082\n",
      "40세~44세    3677\n",
      "50세~54세    3114\n",
      "35세~39세    2769\n",
      "55세~59세    1774\n",
      "30세~34세    1679\n",
      "60세이상      1303\n",
      "25세~29세     685\n",
      "20세~24세     283\n",
      "19세이하        17\n",
      "Name: 연령대, dtype: int64\n"
     ]
    },
    {
     "data": {
      "text/plain": [
       "<AxesSubplot:xlabel='연령대', ylabel='count'>"
      ]
     },
     "execution_count": 11,
     "metadata": {},
     "output_type": "execute_result"
    },
    {
     "data": {
      "image/png": "[encoded data removed]",
      "text/plain": [
       "<Figure size 432x288 with 1 Axes>"
      ]
     },
     "metadata": {
      "needs_background": "light"
     },
     "output_type": "display_data"
    }
   ],
   "source": [
    "print('연령대 별 고객수 : ', data2['연령대'].value_counts())\n",
    "plt.xticks(rotation = 45 )\n",
    "sns.countplot(data=data2, x=data2['연령대'])\n",
    "\n",
    "# 40~44세 연령대의 고객수가 가장 많음. \n",
    "# 각 연령대별의 차이는 많이 없지만 미성년자 고객수가 현저히 적음."
   ]
  },
  {
   "cell_type": "code",
   "execution_count": 12,
   "id": "3badd322",
   "metadata": {},
   "outputs": [
    {
     "data": {
      "text/html": [
       "<div>\n",
       "<style scoped>\n",
       "    .dataframe tbody tr th:only-of-type {\n",
       "        vertical-align: middle;\n",
       "    }\n",
       "\n",
       "    .dataframe tbody tr th {\n",
       "        vertical-align: top;\n",
       "    }\n",
       "\n",
       "    .dataframe thead th {\n",
       "        text-align: right;\n",
       "    }\n",
       "</style>\n",
       "<table border=\"1\" class=\"dataframe\">\n",
       "  <thead>\n",
       "    <tr style=\"text-align: right;\">\n",
       "      <th></th>\n",
       "      <th></th>\n",
       "      <th>고객 수</th>\n",
       "    </tr>\n",
       "    <tr>\n",
       "      <th>성별</th>\n",
       "      <th>연령대</th>\n",
       "      <th></th>\n",
       "    </tr>\n",
       "  </thead>\n",
       "  <tbody>\n",
       "    <tr>\n",
       "      <th rowspan=\"7\" valign=\"top\">F</th>\n",
       "      <th>45세~49세</th>\n",
       "      <td>3465</td>\n",
       "    </tr>\n",
       "    <tr>\n",
       "      <th>40세~44세</th>\n",
       "      <td>2996</td>\n",
       "    </tr>\n",
       "    <tr>\n",
       "      <th>50세~54세</th>\n",
       "      <td>2636</td>\n",
       "    </tr>\n",
       "    <tr>\n",
       "      <th>35세~39세</th>\n",
       "      <td>2171</td>\n",
       "    </tr>\n",
       "    <tr>\n",
       "      <th>55세~59세</th>\n",
       "      <td>1490</td>\n",
       "    </tr>\n",
       "    <tr>\n",
       "      <th>30세~34세</th>\n",
       "      <td>1283</td>\n",
       "    </tr>\n",
       "    <tr>\n",
       "      <th>60세이상</th>\n",
       "      <td>1054</td>\n",
       "    </tr>\n",
       "    <tr>\n",
       "      <th rowspan=\"3\" valign=\"top\">M</th>\n",
       "      <th>40세~44세</th>\n",
       "      <td>681</td>\n",
       "    </tr>\n",
       "    <tr>\n",
       "      <th>45세~49세</th>\n",
       "      <td>617</td>\n",
       "    </tr>\n",
       "    <tr>\n",
       "      <th>35세~39세</th>\n",
       "      <td>598</td>\n",
       "    </tr>\n",
       "    <tr>\n",
       "      <th>F</th>\n",
       "      <th>25세~29세</th>\n",
       "      <td>542</td>\n",
       "    </tr>\n",
       "    <tr>\n",
       "      <th rowspan=\"3\" valign=\"top\">M</th>\n",
       "      <th>50세~54세</th>\n",
       "      <td>478</td>\n",
       "    </tr>\n",
       "    <tr>\n",
       "      <th>30세~34세</th>\n",
       "      <td>396</td>\n",
       "    </tr>\n",
       "    <tr>\n",
       "      <th>55세~59세</th>\n",
       "      <td>284</td>\n",
       "    </tr>\n",
       "    <tr>\n",
       "      <th>F</th>\n",
       "      <th>20세~24세</th>\n",
       "      <td>250</td>\n",
       "    </tr>\n",
       "    <tr>\n",
       "      <th rowspan=\"3\" valign=\"top\">M</th>\n",
       "      <th>60세이상</th>\n",
       "      <td>249</td>\n",
       "    </tr>\n",
       "    <tr>\n",
       "      <th>25세~29세</th>\n",
       "      <td>143</td>\n",
       "    </tr>\n",
       "    <tr>\n",
       "      <th>20세~24세</th>\n",
       "      <td>33</td>\n",
       "    </tr>\n",
       "    <tr>\n",
       "      <th>F</th>\n",
       "      <th>19세이하</th>\n",
       "      <td>11</td>\n",
       "    </tr>\n",
       "    <tr>\n",
       "      <th>M</th>\n",
       "      <th>19세이하</th>\n",
       "      <td>6</td>\n",
       "    </tr>\n",
       "  </tbody>\n",
       "</table>\n",
       "</div>"
      ],
      "text/plain": [
       "            고객 수\n",
       "성별 연령대          \n",
       "F  45세~49세  3465\n",
       "   40세~44세  2996\n",
       "   50세~54세  2636\n",
       "   35세~39세  2171\n",
       "   55세~59세  1490\n",
       "   30세~34세  1283\n",
       "   60세이상    1054\n",
       "M  40세~44세   681\n",
       "   45세~49세   617\n",
       "   35세~39세   598\n",
       "F  25세~29세   542\n",
       "M  50세~54세   478\n",
       "   30세~34세   396\n",
       "   55세~59세   284\n",
       "F  20세~24세   250\n",
       "M  60세이상     249\n",
       "   25세~29세   143\n",
       "   20세~24세    33\n",
       "F  19세이하      11\n",
       "M  19세이하       6"
      ]
     },
     "execution_count": 12,
     "metadata": {},
     "output_type": "execute_result"
    }
   ],
   "source": [
    "data2_g = data2.groupby(['성별','연령대']).count()\n",
    "data2_g = data2_g.drop(['거주지역'], axis=1)\n",
    "data2_g.rename(columns = {'고객번호' : '고객 수'}, inplace = True)\n",
    "data2_g = data2_g.sort_values(by='고객 수', ascending=False)\n",
    "data2_g"
   ]
  },
  {
   "cell_type": "code",
   "execution_count": 13,
   "id": "a68f8124",
   "metadata": {},
   "outputs": [
    {
     "data": {
      "text/html": [
       "<div>\n",
       "<style scoped>\n",
       "    .dataframe tbody tr th:only-of-type {\n",
       "        vertical-align: middle;\n",
       "    }\n",
       "\n",
       "    .dataframe tbody tr th {\n",
       "        vertical-align: top;\n",
       "    }\n",
       "\n",
       "    .dataframe thead th {\n",
       "        text-align: right;\n",
       "    }\n",
       "</style>\n",
       "<table border=\"1\" class=\"dataframe\">\n",
       "  <thead>\n",
       "    <tr style=\"text-align: right;\">\n",
       "      <th></th>\n",
       "      <th></th>\n",
       "      <th>고객 수</th>\n",
       "    </tr>\n",
       "    <tr>\n",
       "      <th>성별</th>\n",
       "      <th>연령대</th>\n",
       "      <th></th>\n",
       "    </tr>\n",
       "  </thead>\n",
       "  <tbody>\n",
       "    <tr>\n",
       "      <th rowspan=\"10\" valign=\"top\">F</th>\n",
       "      <th>19세이하</th>\n",
       "      <td>11</td>\n",
       "    </tr>\n",
       "    <tr>\n",
       "      <th>20세~24세</th>\n",
       "      <td>250</td>\n",
       "    </tr>\n",
       "    <tr>\n",
       "      <th>25세~29세</th>\n",
       "      <td>542</td>\n",
       "    </tr>\n",
       "    <tr>\n",
       "      <th>30세~34세</th>\n",
       "      <td>1283</td>\n",
       "    </tr>\n",
       "    <tr>\n",
       "      <th>35세~39세</th>\n",
       "      <td>2171</td>\n",
       "    </tr>\n",
       "    <tr>\n",
       "      <th>40세~44세</th>\n",
       "      <td>2996</td>\n",
       "    </tr>\n",
       "    <tr>\n",
       "      <th>45세~49세</th>\n",
       "      <td>3465</td>\n",
       "    </tr>\n",
       "    <tr>\n",
       "      <th>50세~54세</th>\n",
       "      <td>2636</td>\n",
       "    </tr>\n",
       "    <tr>\n",
       "      <th>55세~59세</th>\n",
       "      <td>1490</td>\n",
       "    </tr>\n",
       "    <tr>\n",
       "      <th>60세이상</th>\n",
       "      <td>1054</td>\n",
       "    </tr>\n",
       "    <tr>\n",
       "      <th rowspan=\"10\" valign=\"top\">M</th>\n",
       "      <th>19세이하</th>\n",
       "      <td>6</td>\n",
       "    </tr>\n",
       "    <tr>\n",
       "      <th>20세~24세</th>\n",
       "      <td>33</td>\n",
       "    </tr>\n",
       "    <tr>\n",
       "      <th>25세~29세</th>\n",
       "      <td>143</td>\n",
       "    </tr>\n",
       "    <tr>\n",
       "      <th>30세~34세</th>\n",
       "      <td>396</td>\n",
       "    </tr>\n",
       "    <tr>\n",
       "      <th>35세~39세</th>\n",
       "      <td>598</td>\n",
       "    </tr>\n",
       "    <tr>\n",
       "      <th>40세~44세</th>\n",
       "      <td>681</td>\n",
       "    </tr>\n",
       "    <tr>\n",
       "      <th>45세~49세</th>\n",
       "      <td>617</td>\n",
       "    </tr>\n",
       "    <tr>\n",
       "      <th>50세~54세</th>\n",
       "      <td>478</td>\n",
       "    </tr>\n",
       "    <tr>\n",
       "      <th>55세~59세</th>\n",
       "      <td>284</td>\n",
       "    </tr>\n",
       "    <tr>\n",
       "      <th>60세이상</th>\n",
       "      <td>249</td>\n",
       "    </tr>\n",
       "  </tbody>\n",
       "</table>\n",
       "</div>"
      ],
      "text/plain": [
       "            고객 수\n",
       "성별 연령대          \n",
       "F  19세이하      11\n",
       "   20세~24세   250\n",
       "   25세~29세   542\n",
       "   30세~34세  1283\n",
       "   35세~39세  2171\n",
       "   40세~44세  2996\n",
       "   45세~49세  3465\n",
       "   50세~54세  2636\n",
       "   55세~59세  1490\n",
       "   60세이상    1054\n",
       "M  19세이하       6\n",
       "   20세~24세    33\n",
       "   25세~29세   143\n",
       "   30세~34세   396\n",
       "   35세~39세   598\n",
       "   40세~44세   681\n",
       "   45세~49세   617\n",
       "   50세~54세   478\n",
       "   55세~59세   284\n",
       "   60세이상     249"
      ]
     },
     "execution_count": 13,
     "metadata": {},
     "output_type": "execute_result"
    }
   ],
   "source": [
    "data2_g = data2.groupby(['성별','연령대']).count()\n",
    "data2_g = data2_g.drop(['거주지역'], axis=1)\n",
    "data2_g.rename(columns = {'고객번호' : '고객 수'}, inplace = True)\n",
    "data2_g"
   ]
  },
  {
   "cell_type": "code",
   "execution_count": 14,
   "id": "099bea5d",
   "metadata": {},
   "outputs": [
    {
     "data": {
      "text/plain": [
       "45세~49세    4082\n",
       "40세~44세    3677\n",
       "50세~54세    3114\n",
       "35세~39세    2769\n",
       "55세~59세    1774\n",
       "30세~34세    1679\n",
       "60세이상      1303\n",
       "25세~29세     685\n",
       "20세~24세     283\n",
       "19세이하        17\n",
       "Name: 연령대, dtype: int64"
      ]
     },
     "execution_count": 14,
     "metadata": {},
     "output_type": "execute_result"
    }
   ],
   "source": [
    "data2_1 = data2.set_index('성별')\n",
    "data2_1 = data2_1.drop(['고객번호','거주지역'],axis=1)\n",
    "data2_1 = data2_1['연령대'].value_counts()\n",
    "data2_1"
   ]
  },
  {
   "cell_type": "code",
   "execution_count": 15,
   "id": "eae24cd2",
   "metadata": {
    "scrolled": true
   },
   "outputs": [
    {
     "name": "stdout",
     "output_type": "stream",
     "text": [
      "고객 거주지역 빈도수 :  100.0    5993\n",
      "460.0    1922\n",
      "55.0     1431\n",
      "210.0    1071\n",
      "500.0     860\n",
      "16.0      819\n",
      "610.0     639\n",
      "60.0      603\n",
      "540.0     568\n",
      "340.0     346\n",
      "24.0      339\n",
      "360.0     339\n",
      "270.0     338\n",
      "49.0      329\n",
      "410.0     321\n",
      "570.0     294\n",
      "47.0      278\n",
      "310.0     234\n",
      "13.0      220\n",
      "440.0     217\n",
      "10.0      185\n",
      "240.0     177\n",
      "75.0      175\n",
      "27.0      146\n",
      "36.0      139\n",
      "39.0      119\n",
      "65.0      114\n",
      "43.0      109\n",
      "72.0      109\n",
      "33.0       96\n",
      "87.0       95\n",
      "69.0       94\n",
      "52.0       88\n",
      "20.0       76\n",
      "82.0       68\n",
      "30.0       66\n",
      "45.0       54\n",
      "79.0       48\n",
      "85.0       41\n",
      "300.0      32\n",
      "630.0      13\n",
      "Name: 거주지역, dtype: int64\n"
     ]
    },
    {
     "data": {
      "text/plain": [
       "<AxesSubplot:xlabel='거주지역', ylabel='count'>"
      ]
     },
     "execution_count": 15,
     "metadata": {},
     "output_type": "execute_result"
    },
    {
     "data": {
      "image/png": "[encoded data removed]",
      "text/plain": [
       "<Figure size 432x288 with 1 Axes>"
      ]
     },
     "metadata": {
      "needs_background": "light"
     },
     "output_type": "display_data"
    }
   ],
   "source": [
    "print('고객 거주지역 빈도수 : ', data2['거주지역'].value_counts())\n",
    "y=data2['거주지역'].value_counts()\n",
    "plt.xticks(rotation = 90 )\n",
    "sns.countplot(data=data2, x=data2['거주지역'])\n",
    "\n",
    "# 고객이 많은 지역과 적은 지역 분석가능.\n",
    "# 각 거주지역 번호가 나타내는 지역이 어디인지."
   ]
  },
  {
   "cell_type": "markdown",
   "id": "409d0f89",
   "metadata": {},
   "source": [
    "## 구매상품TR.txt"
   ]
  },
  {
   "cell_type": "code",
   "execution_count": 16,
   "id": "d68692b0",
   "metadata": {},
   "outputs": [
    {
     "data": {
      "text/html": [
       "<div>\n",
       "<style scoped>\n",
       "    .dataframe tbody tr th:only-of-type {\n",
       "        vertical-align: middle;\n",
       "    }\n",
       "\n",
       "    .dataframe tbody tr th {\n",
       "        vertical-align: top;\n",
       "    }\n",
       "\n",
       "    .dataframe thead th {\n",
       "        text-align: right;\n",
       "    }\n",
       "</style>\n",
       "<table border=\"1\" class=\"dataframe\">\n",
       "  <thead>\n",
       "    <tr style=\"text-align: right;\">\n",
       "      <th></th>\n",
       "      <th>제휴사</th>\n",
       "      <th>영수증번호</th>\n",
       "      <th>대분류코드</th>\n",
       "      <th>중분류코드</th>\n",
       "      <th>소분류코드</th>\n",
       "      <th>고객번호</th>\n",
       "      <th>점포코드</th>\n",
       "      <th>구매일자</th>\n",
       "      <th>구매시간</th>\n",
       "      <th>구매금액</th>\n",
       "    </tr>\n",
       "  </thead>\n",
       "  <tbody>\n",
       "    <tr>\n",
       "      <th>0</th>\n",
       "      <td>B</td>\n",
       "      <td>8664000</td>\n",
       "      <td>15</td>\n",
       "      <td>1504</td>\n",
       "      <td>B150401</td>\n",
       "      <td>17218</td>\n",
       "      <td>44</td>\n",
       "      <td>20140222</td>\n",
       "      <td>20</td>\n",
       "      <td>2420</td>\n",
       "    </tr>\n",
       "    <tr>\n",
       "      <th>1</th>\n",
       "      <td>B</td>\n",
       "      <td>8664000</td>\n",
       "      <td>16</td>\n",
       "      <td>1601</td>\n",
       "      <td>B160101</td>\n",
       "      <td>17218</td>\n",
       "      <td>44</td>\n",
       "      <td>20140222</td>\n",
       "      <td>20</td>\n",
       "      <td>1070</td>\n",
       "    </tr>\n",
       "    <tr>\n",
       "      <th>2</th>\n",
       "      <td>B</td>\n",
       "      <td>8664000</td>\n",
       "      <td>16</td>\n",
       "      <td>1602</td>\n",
       "      <td>B160201</td>\n",
       "      <td>17218</td>\n",
       "      <td>44</td>\n",
       "      <td>20140222</td>\n",
       "      <td>20</td>\n",
       "      <td>8060</td>\n",
       "    </tr>\n",
       "    <tr>\n",
       "      <th>3</th>\n",
       "      <td>B</td>\n",
       "      <td>8664000</td>\n",
       "      <td>18</td>\n",
       "      <td>1803</td>\n",
       "      <td>B180301</td>\n",
       "      <td>17218</td>\n",
       "      <td>44</td>\n",
       "      <td>20140222</td>\n",
       "      <td>20</td>\n",
       "      <td>6000</td>\n",
       "    </tr>\n",
       "    <tr>\n",
       "      <th>4</th>\n",
       "      <td>B</td>\n",
       "      <td>8664001</td>\n",
       "      <td>5</td>\n",
       "      <td>509</td>\n",
       "      <td>B050901</td>\n",
       "      <td>17674</td>\n",
       "      <td>44</td>\n",
       "      <td>20140222</td>\n",
       "      <td>22</td>\n",
       "      <td>1120</td>\n",
       "    </tr>\n",
       "  </tbody>\n",
       "</table>\n",
       "</div>"
      ],
      "text/plain": [
       "  제휴사    영수증번호  대분류코드  중분류코드    소분류코드   고객번호  점포코드      구매일자  구매시간  구매금액\n",
       "0   B  8664000     15   1504  B150401  17218    44  20140222    20  2420\n",
       "1   B  8664000     16   1601  B160101  17218    44  20140222    20  1070\n",
       "2   B  8664000     16   1602  B160201  17218    44  20140222    20  8060\n",
       "3   B  8664000     18   1803  B180301  17218    44  20140222    20  6000\n",
       "4   B  8664001      5    509  B050901  17674    44  20140222    22  1120"
      ]
     },
     "execution_count": 16,
     "metadata": {},
     "output_type": "execute_result"
    }
   ],
   "source": [
    "data3 = pd.read_csv('ldata/구매상품TR.txt',encoding='CP949')\n",
    "data3.head()"
   ]
  },
  {
   "cell_type": "code",
   "execution_count": 17,
   "id": "92e93919",
   "metadata": {},
   "outputs": [
    {
     "name": "stdout",
     "output_type": "stream",
     "text": [
      "<class 'pandas.core.frame.DataFrame'>\n",
      "RangeIndex: 28593030 entries, 0 to 28593029\n",
      "Data columns (total 10 columns):\n",
      " #   Column  Dtype \n",
      "---  ------  ----- \n",
      " 0   제휴사     object\n",
      " 1   영수증번호   int64 \n",
      " 2   대분류코드   int64 \n",
      " 3   중분류코드   int64 \n",
      " 4   소분류코드   object\n",
      " 5   고객번호    int64 \n",
      " 6   점포코드    int64 \n",
      " 7   구매일자    int64 \n",
      " 8   구매시간    int64 \n",
      " 9   구매금액    int64 \n",
      "dtypes: int64(8), object(2)\n",
      "memory usage: 2.1+ GB\n"
     ]
    }
   ],
   "source": [
    "data3.info()"
   ]
  },
  {
   "cell_type": "code",
   "execution_count": 18,
   "id": "4a202e73",
   "metadata": {},
   "outputs": [
    {
     "data": {
      "text/html": [
       "<div>\n",
       "<style scoped>\n",
       "    .dataframe tbody tr th:only-of-type {\n",
       "        vertical-align: middle;\n",
       "    }\n",
       "\n",
       "    .dataframe tbody tr th {\n",
       "        vertical-align: top;\n",
       "    }\n",
       "\n",
       "    .dataframe thead th {\n",
       "        text-align: right;\n",
       "    }\n",
       "</style>\n",
       "<table border=\"1\" class=\"dataframe\">\n",
       "  <thead>\n",
       "    <tr style=\"text-align: right;\">\n",
       "      <th></th>\n",
       "      <th>제휴사</th>\n",
       "      <th>영수증번호</th>\n",
       "      <th>대분류코드</th>\n",
       "      <th>중분류코드</th>\n",
       "      <th>소분류코드</th>\n",
       "      <th>고객번호</th>\n",
       "      <th>점포코드</th>\n",
       "      <th>구매일자</th>\n",
       "      <th>구매시간</th>\n",
       "      <th>구매금액</th>\n",
       "    </tr>\n",
       "  </thead>\n",
       "  <tbody>\n",
       "    <tr>\n",
       "      <th>0</th>\n",
       "      <td>B</td>\n",
       "      <td>8664000</td>\n",
       "      <td>15</td>\n",
       "      <td>1504</td>\n",
       "      <td>B150401</td>\n",
       "      <td>17218</td>\n",
       "      <td>44</td>\n",
       "      <td>2014-02-22</td>\n",
       "      <td>20</td>\n",
       "      <td>2420</td>\n",
       "    </tr>\n",
       "    <tr>\n",
       "      <th>1</th>\n",
       "      <td>B</td>\n",
       "      <td>8664000</td>\n",
       "      <td>16</td>\n",
       "      <td>1601</td>\n",
       "      <td>B160101</td>\n",
       "      <td>17218</td>\n",
       "      <td>44</td>\n",
       "      <td>2014-02-22</td>\n",
       "      <td>20</td>\n",
       "      <td>1070</td>\n",
       "    </tr>\n",
       "    <tr>\n",
       "      <th>2</th>\n",
       "      <td>B</td>\n",
       "      <td>8664000</td>\n",
       "      <td>16</td>\n",
       "      <td>1602</td>\n",
       "      <td>B160201</td>\n",
       "      <td>17218</td>\n",
       "      <td>44</td>\n",
       "      <td>2014-02-22</td>\n",
       "      <td>20</td>\n",
       "      <td>8060</td>\n",
       "    </tr>\n",
       "    <tr>\n",
       "      <th>3</th>\n",
       "      <td>B</td>\n",
       "      <td>8664000</td>\n",
       "      <td>18</td>\n",
       "      <td>1803</td>\n",
       "      <td>B180301</td>\n",
       "      <td>17218</td>\n",
       "      <td>44</td>\n",
       "      <td>2014-02-22</td>\n",
       "      <td>20</td>\n",
       "      <td>6000</td>\n",
       "    </tr>\n",
       "    <tr>\n",
       "      <th>4</th>\n",
       "      <td>B</td>\n",
       "      <td>8664001</td>\n",
       "      <td>5</td>\n",
       "      <td>509</td>\n",
       "      <td>B050901</td>\n",
       "      <td>17674</td>\n",
       "      <td>44</td>\n",
       "      <td>2014-02-22</td>\n",
       "      <td>22</td>\n",
       "      <td>1120</td>\n",
       "    </tr>\n",
       "  </tbody>\n",
       "</table>\n",
       "</div>"
      ],
      "text/plain": [
       "  제휴사    영수증번호  대분류코드  중분류코드    소분류코드   고객번호  점포코드       구매일자  구매시간  구매금액\n",
       "0   B  8664000     15   1504  B150401  17218    44 2014-02-22    20  2420\n",
       "1   B  8664000     16   1601  B160101  17218    44 2014-02-22    20  1070\n",
       "2   B  8664000     16   1602  B160201  17218    44 2014-02-22    20  8060\n",
       "3   B  8664000     18   1803  B180301  17218    44 2014-02-22    20  6000\n",
       "4   B  8664001      5    509  B050901  17674    44 2014-02-22    22  1120"
      ]
     },
     "execution_count": 18,
     "metadata": {},
     "output_type": "execute_result"
    }
   ],
   "source": [
    "# 구매일자의 형식 변환(int -> datetime)\n",
    "\n",
    "data3['구매일자'] = data3['구매일자'].astype(str)\n",
    "data3['구매일자'] = pd.to_datetime(data3['구매일자'])\n",
    "# data3['구매일자'] = data3['구매일자'].dt.tz_localize('UTC')\n",
    "# data3['구매일자'] = data3['구매일자'].dt.year # 연도만 출력\n",
    "data3.head()"
   ]
  },
  {
   "cell_type": "code",
   "execution_count": 96,
   "id": "c3c45fcf",
   "metadata": {},
   "outputs": [],
   "source": [
    "# 14, 15년도별로 데이터 분류\n",
    "\n",
    "y3_14 = data3[data3.구매일자 == '2014']\n",
    "y3_15 = data3[data3.구매일자 == '2015']"
   ]
  },
  {
   "cell_type": "code",
   "execution_count": 98,
   "id": "e23c64d3",
   "metadata": {},
   "outputs": [
    {
     "name": "stdout",
     "output_type": "stream",
     "text": [
      "14년도 총 구매금액 : 226382544 원\n",
      "15년도 총 구매금액 : 254806890 원\n"
     ]
    }
   ],
   "source": [
    "print('14년도 총 구매금액 :', y3_14['구매금액'].sum(),'원')\n",
    "print('15년도 총 구매금액 :', y3_15['구매금액'].sum(),'원')\n",
    "\n",
    "# 전년도 대비 3천만원가량 증가.(약 12% 증가)"
   ]
  },
  {
   "cell_type": "markdown",
   "id": "c2722d47",
   "metadata": {},
   "source": [
    "## 멤버십여부.txt"
   ]
  },
  {
   "cell_type": "code",
   "execution_count": 43,
   "id": "f868d729",
   "metadata": {},
   "outputs": [
    {
     "data": {
      "text/html": [
       "<div>\n",
       "<style scoped>\n",
       "    .dataframe tbody tr th:only-of-type {\n",
       "        vertical-align: middle;\n",
       "    }\n",
       "\n",
       "    .dataframe tbody tr th {\n",
       "        vertical-align: top;\n",
       "    }\n",
       "\n",
       "    .dataframe thead th {\n",
       "        text-align: right;\n",
       "    }\n",
       "</style>\n",
       "<table border=\"1\" class=\"dataframe\">\n",
       "  <thead>\n",
       "    <tr style=\"text-align: right;\">\n",
       "      <th></th>\n",
       "      <th>고객번호</th>\n",
       "      <th>멤버십명</th>\n",
       "      <th>가입년월</th>\n",
       "    </tr>\n",
       "  </thead>\n",
       "  <tbody>\n",
       "    <tr>\n",
       "      <th>0</th>\n",
       "      <td>11</td>\n",
       "      <td>하이마트</td>\n",
       "      <td>201512</td>\n",
       "    </tr>\n",
       "    <tr>\n",
       "      <th>1</th>\n",
       "      <td>21</td>\n",
       "      <td>하이마트</td>\n",
       "      <td>201506</td>\n",
       "    </tr>\n",
       "    <tr>\n",
       "      <th>2</th>\n",
       "      <td>37</td>\n",
       "      <td>하이마트</td>\n",
       "      <td>201306</td>\n",
       "    </tr>\n",
       "    <tr>\n",
       "      <th>3</th>\n",
       "      <td>43</td>\n",
       "      <td>하이마트</td>\n",
       "      <td>201403</td>\n",
       "    </tr>\n",
       "    <tr>\n",
       "      <th>4</th>\n",
       "      <td>44</td>\n",
       "      <td>하이마트</td>\n",
       "      <td>201411</td>\n",
       "    </tr>\n",
       "  </tbody>\n",
       "</table>\n",
       "</div>"
      ],
      "text/plain": [
       "   고객번호  멤버십명    가입년월\n",
       "0    11  하이마트  201512\n",
       "1    21  하이마트  201506\n",
       "2    37  하이마트  201306\n",
       "3    43  하이마트  201403\n",
       "4    44  하이마트  201411"
      ]
     },
     "execution_count": 43,
     "metadata": {},
     "output_type": "execute_result"
    }
   ],
   "source": [
    "data4 = pd.read_csv('ldata/멤버십여부.txt',encoding='CP949')\n",
    "data4.head()"
   ]
  },
  {
   "cell_type": "code",
   "execution_count": 44,
   "id": "beb61539",
   "metadata": {
    "scrolled": true
   },
   "outputs": [
    {
     "name": "stdout",
     "output_type": "stream",
     "text": [
      "<class 'pandas.core.frame.DataFrame'>\n",
      "RangeIndex: 7456 entries, 0 to 7455\n",
      "Data columns (total 3 columns):\n",
      " #   Column  Non-Null Count  Dtype \n",
      "---  ------  --------------  ----- \n",
      " 0   고객번호    7456 non-null   int64 \n",
      " 1   멤버십명    7456 non-null   object\n",
      " 2   가입년월    7456 non-null   int64 \n",
      "dtypes: int64(2), object(1)\n",
      "memory usage: 174.9+ KB\n"
     ]
    }
   ],
   "source": [
    "data4.info()"
   ]
  },
  {
   "cell_type": "code",
   "execution_count": 45,
   "id": "393fa51b",
   "metadata": {},
   "outputs": [
    {
     "name": "stdout",
     "output_type": "stream",
     "text": [
      "['하이마트' '다둥이' '롭스' '더영'] \n",
      "\n",
      "하이마트    4418\n",
      "다둥이     2009\n",
      "더영       642\n",
      "롭스       387\n",
      "Name: 멤버십명, dtype: int64\n"
     ]
    }
   ],
   "source": [
    "print(data4['멤버십명'].unique(), '\\n')\n",
    "print(data4['멤버십명'].value_counts())\n",
    "\n",
    "# 멤버십은 하이마트, 다둥이, 롭스, 더영 총 4종류.\n",
    "# 하이마트 -> 다둥이 -> 더영 -> 롭스 순으로 고객수가 많음."
   ]
  },
  {
   "cell_type": "code",
   "execution_count": 46,
   "id": "72b1b91c",
   "metadata": {},
   "outputs": [],
   "source": [
    "# 가입년월의 형식 변환(int -> str)\n",
    "\n",
    "data4['가입년월'] = data4['가입년월'].astype(str)"
   ]
  },
  {
   "cell_type": "code",
   "execution_count": 94,
   "id": "f9cfb786",
   "metadata": {},
   "outputs": [
    {
     "data": {
      "text/html": [
       "<div>\n",
       "<style scoped>\n",
       "    .dataframe tbody tr th:only-of-type {\n",
       "        vertical-align: middle;\n",
       "    }\n",
       "\n",
       "    .dataframe tbody tr th {\n",
       "        vertical-align: top;\n",
       "    }\n",
       "\n",
       "    .dataframe thead th {\n",
       "        text-align: right;\n",
       "    }\n",
       "</style>\n",
       "<table border=\"1\" class=\"dataframe\">\n",
       "  <thead>\n",
       "    <tr style=\"text-align: right;\">\n",
       "      <th></th>\n",
       "      <th>고객번호</th>\n",
       "      <th>멤버십명</th>\n",
       "      <th>가입년월</th>\n",
       "    </tr>\n",
       "  </thead>\n",
       "  <tbody>\n",
       "    <tr>\n",
       "      <th>5632</th>\n",
       "      <td>14781</td>\n",
       "      <td>더영</td>\n",
       "      <td>201210</td>\n",
       "    </tr>\n",
       "    <tr>\n",
       "      <th>7008</th>\n",
       "      <td>18264</td>\n",
       "      <td>더영</td>\n",
       "      <td>201210</td>\n",
       "    </tr>\n",
       "    <tr>\n",
       "      <th>2666</th>\n",
       "      <td>8656</td>\n",
       "      <td>더영</td>\n",
       "      <td>201210</td>\n",
       "    </tr>\n",
       "    <tr>\n",
       "      <th>2882</th>\n",
       "      <td>9001</td>\n",
       "      <td>더영</td>\n",
       "      <td>201210</td>\n",
       "    </tr>\n",
       "    <tr>\n",
       "      <th>4892</th>\n",
       "      <td>13071</td>\n",
       "      <td>더영</td>\n",
       "      <td>201211</td>\n",
       "    </tr>\n",
       "    <tr>\n",
       "      <th>...</th>\n",
       "      <td>...</td>\n",
       "      <td>...</td>\n",
       "      <td>...</td>\n",
       "    </tr>\n",
       "    <tr>\n",
       "      <th>7112</th>\n",
       "      <td>18504</td>\n",
       "      <td>더영</td>\n",
       "      <td>201512</td>\n",
       "    </tr>\n",
       "    <tr>\n",
       "      <th>4776</th>\n",
       "      <td>12833</td>\n",
       "      <td>더영</td>\n",
       "      <td>201512</td>\n",
       "    </tr>\n",
       "    <tr>\n",
       "      <th>4766</th>\n",
       "      <td>12804</td>\n",
       "      <td>하이마트</td>\n",
       "      <td>201512</td>\n",
       "    </tr>\n",
       "    <tr>\n",
       "      <th>5514</th>\n",
       "      <td>14493</td>\n",
       "      <td>하이마트</td>\n",
       "      <td>201512</td>\n",
       "    </tr>\n",
       "    <tr>\n",
       "      <th>0</th>\n",
       "      <td>11</td>\n",
       "      <td>하이마트</td>\n",
       "      <td>201512</td>\n",
       "    </tr>\n",
       "  </tbody>\n",
       "</table>\n",
       "<p>7456 rows × 3 columns</p>\n",
       "</div>"
      ],
      "text/plain": [
       "       고객번호  멤버십명    가입년월\n",
       "5632  14781    더영  201210\n",
       "7008  18264    더영  201210\n",
       "2666   8656    더영  201210\n",
       "2882   9001    더영  201210\n",
       "4892  13071    더영  201211\n",
       "...     ...   ...     ...\n",
       "7112  18504    더영  201512\n",
       "4776  12833    더영  201512\n",
       "4766  12804  하이마트  201512\n",
       "5514  14493  하이마트  201512\n",
       "0        11  하이마트  201512\n",
       "\n",
       "[7456 rows x 3 columns]"
      ]
     },
     "execution_count": 94,
     "metadata": {},
     "output_type": "execute_result"
    }
   ],
   "source": [
    "data4.sort_values(by=['가입년월'], axis=0)"
   ]
  },
  {
   "cell_type": "code",
   "execution_count": 95,
   "id": "f9dab3c8",
   "metadata": {},
   "outputs": [
    {
     "name": "stdout",
     "output_type": "stream",
     "text": [
      "12년도 가입고객수 : 6 명\n",
      "13년도 가입고객수 : 2097 명\n",
      "14년도 가입고객수 : 2578 명\n",
      "15년도 가입고객수 : 2439 명\n"
     ]
    }
   ],
   "source": [
    "y4_12 = data4[data4['가입년월'].str.contains('2012')]\n",
    "y4_13 = data4[data4['가입년월'].str.contains('2013')]\n",
    "y4_14 = data4[data4['가입년월'].str.contains('2014')]\n",
    "y4_15 = data4[data4['가입년월'].str.contains('2015')]\n",
    "print('12년도 가입고객수 :', y4_12['고객번호'].nunique(),'명')\n",
    "print('13년도 가입고객수 :', y4_13['고객번호'].nunique(),'명')\n",
    "print('14년도 가입고객수 :', y4_14['고객번호'].nunique(),'명')\n",
    "print('15년도 가입고객수 :', y4_15['고객번호'].nunique(),'명')\n",
    "\n",
    "# 13년도에 크게 증가. 13년 -> 14년에 전년도 대비 25% 증가\n",
    "# 14,15년도의 멤버십 가입고객수의 차이는 많지 않음."
   ]
  },
  {
   "cell_type": "markdown",
   "id": "49a183b7",
   "metadata": {},
   "source": [
    "## 상품분류.txt"
   ]
  },
  {
   "cell_type": "code",
   "execution_count": 24,
   "id": "ffbf2da0",
   "metadata": {
    "scrolled": true
   },
   "outputs": [
    {
     "data": {
      "text/html": [
       "<div>\n",
       "<style scoped>\n",
       "    .dataframe tbody tr th:only-of-type {\n",
       "        vertical-align: middle;\n",
       "    }\n",
       "\n",
       "    .dataframe tbody tr th {\n",
       "        vertical-align: top;\n",
       "    }\n",
       "\n",
       "    .dataframe thead th {\n",
       "        text-align: right;\n",
       "    }\n",
       "</style>\n",
       "<table border=\"1\" class=\"dataframe\">\n",
       "  <thead>\n",
       "    <tr style=\"text-align: right;\">\n",
       "      <th></th>\n",
       "      <th>제휴사</th>\n",
       "      <th>대분류코드</th>\n",
       "      <th>중분류코드</th>\n",
       "      <th>소분류코드</th>\n",
       "      <th>중분류명</th>\n",
       "      <th>소분류명</th>\n",
       "    </tr>\n",
       "  </thead>\n",
       "  <tbody>\n",
       "    <tr>\n",
       "      <th>0</th>\n",
       "      <td>A</td>\n",
       "      <td>1</td>\n",
       "      <td>101</td>\n",
       "      <td>A010101</td>\n",
       "      <td>일용잡화</td>\n",
       "      <td>위생세제</td>\n",
       "    </tr>\n",
       "    <tr>\n",
       "      <th>1</th>\n",
       "      <td>A</td>\n",
       "      <td>1</td>\n",
       "      <td>101</td>\n",
       "      <td>A010102</td>\n",
       "      <td>일용잡화</td>\n",
       "      <td>휴지류</td>\n",
       "    </tr>\n",
       "    <tr>\n",
       "      <th>2</th>\n",
       "      <td>A</td>\n",
       "      <td>1</td>\n",
       "      <td>101</td>\n",
       "      <td>A010103</td>\n",
       "      <td>일용잡화</td>\n",
       "      <td>뷰티상품</td>\n",
       "    </tr>\n",
       "    <tr>\n",
       "      <th>3</th>\n",
       "      <td>A</td>\n",
       "      <td>1</td>\n",
       "      <td>101</td>\n",
       "      <td>A010104</td>\n",
       "      <td>일용잡화</td>\n",
       "      <td>일용잡화</td>\n",
       "    </tr>\n",
       "    <tr>\n",
       "      <th>4</th>\n",
       "      <td>A</td>\n",
       "      <td>1</td>\n",
       "      <td>101</td>\n",
       "      <td>A010105</td>\n",
       "      <td>일용잡화</td>\n",
       "      <td>세트상품</td>\n",
       "    </tr>\n",
       "  </tbody>\n",
       "</table>\n",
       "</div>"
      ],
      "text/plain": [
       "  제휴사  대분류코드  중분류코드    소분류코드  중분류명  소분류명\n",
       "0   A      1    101  A010101  일용잡화  위생세제\n",
       "1   A      1    101  A010102  일용잡화   휴지류\n",
       "2   A      1    101  A010103  일용잡화  뷰티상품\n",
       "3   A      1    101  A010104  일용잡화  일용잡화\n",
       "4   A      1    101  A010105  일용잡화  세트상품"
      ]
     },
     "execution_count": 24,
     "metadata": {},
     "output_type": "execute_result"
    }
   ],
   "source": [
    "data5 = pd.read_csv('ldata/상품분류.txt',encoding='CP949')\n",
    "data5.head()"
   ]
  },
  {
   "cell_type": "code",
   "execution_count": 70,
   "id": "595a3ed1",
   "metadata": {},
   "outputs": [
    {
     "name": "stdout",
     "output_type": "stream",
     "text": [
      "<class 'pandas.core.frame.DataFrame'>\n",
      "RangeIndex: 4386 entries, 0 to 4385\n",
      "Data columns (total 6 columns):\n",
      " #   Column  Non-Null Count  Dtype \n",
      "---  ------  --------------  ----- \n",
      " 0   제휴사     4386 non-null   object\n",
      " 1   대분류코드   4386 non-null   int64 \n",
      " 2   중분류코드   4386 non-null   int64 \n",
      " 3   소분류코드   4386 non-null   object\n",
      " 4   중분류명    4386 non-null   object\n",
      " 5   소분류명    4386 non-null   object\n",
      "dtypes: int64(2), object(4)\n",
      "memory usage: 205.7+ KB\n"
     ]
    }
   ],
   "source": [
    "data5.info()"
   ]
  },
  {
   "cell_type": "code",
   "execution_count": 80,
   "id": "cfba3745",
   "metadata": {
    "scrolled": true
   },
   "outputs": [
    {
     "name": "stdout",
     "output_type": "stream",
     "text": [
      "● 대분류코드 종류와 갯수 : \n",
      " [ 1  2  3  4  5  6  7  8  9 10 11 12 13 14 15 16 17 18 19 20 21 22 23 24\n",
      " 25 26 27 28 29 30 31 32 33 34 35 36 37 38 39 40 41 42 43 44 45 46 47 48\n",
      " 49 50 51 52 53 54 55 56 57 58 59 60 61 62 63 64 65 66 67 68 69 70 71 72\n",
      " 73 74 75 76 77 78 79 80 81 82 83 84 85 86 87 88 89 90 91 92] \n",
      " 92\n",
      "● 중분류코드 갯수 : \n",
      " 656\n",
      "● 소분류코드 갯수 : \n",
      " 4386\n"
     ]
    }
   ],
   "source": [
    "print('● 대분류코드 종류와 갯수 : \\n', data5['대분류코드'].unique(), '\\n', data5['대분류코드'].nunique())\n",
    "print('● 중분류코드 갯수 : \\n', data5['중분류코드'].nunique())\n",
    "print('● 소분류코드 갯수 : \\n', data5['소분류코드'].nunique())"
   ]
  },
  {
   "cell_type": "code",
   "execution_count": 81,
   "id": "e441dd0a",
   "metadata": {},
   "outputs": [
    {
     "name": "stdout",
     "output_type": "stream",
     "text": [
      "● 중분류명 종류와 갯수 : \n",
      " ['일용잡화' '육류' '축산가공' '농산물' '수산품' '가공식품' '젓갈/반찬' '건강식품' '주류' '차/커피' '기타'\n",
      " '섬유잡화' '액세서리' '화장품' '보석' '준보석/시계' '피혁잡화' '구두' '아동' '캐주얼' '커리어' '트래디셔널'\n",
      " '시티웨어' '란제리/내의' '블라우스' '기타의류' '디자이너' '모피/피혁' '남성정장' '남성캐주얼' '교복' '셔츠'\n",
      " '남성 트랜디' '스포츠' '골프용품' '대형가전' '소형가전' '통신/컴퓨터' '악기' '전자/전기' '주방가전' '명품'\n",
      " '주방용품' '문구/팬시' '생활잡화' '식기' '가구' '침구/수예' '웨딩' '열매채소' '버섯' '온라인버섯/열매채소'\n",
      " '조리반찬' '시즌반찬' '포장젓갈' '포장반찬' '양곡' '잡곡류' '즉석도정미' '가공양곡' '잎채소' '뿌리채소' '버섯류'\n",
      " '샐러드채소' '약초' '양념류' '식자재' '친환경채소' '김치채소' '온라인잎/샐러드채소' 'LOCAL잎채소'\n",
      " 'LOCAL김치채소' '샐러드/간편채소' '대중선어' '냉동수산물' '생선선물세트' '고등어/삼치' '대구' '도미/민어'\n",
      " '기타구색생선' '꽁치/가자미' '오징어' '조기/명태' '국산게/갈치' '선물세트' '즉석구이안주' '마른안주' '멸치건명태'\n",
      " '해조류' '특산물' '건오징어' '조미오징어' '육포' '쥐치포' '마른안주선물세트' 'Fast Food' '편의시설'\n",
      " '레스토랑' '카페' '판매시설' '주유소' '브랜드조리' '베이커리' '구이' '튀김' '밥류' '구이찜조리' '반찬류'\n",
      " '대용식' '이벤트조리' '간식조리' '간편조리' '튀김조리' '피자' '냉장음료' '데일리처분' '흰우유' '가공우유'\n",
      " '요구르트' '유제품' '브랜드빵' '치즈' '디저트' '유가공' '조미료' '소스류' '장류' '식용유지' '조미선물세트'\n",
      " '가루' '향신료' '액상조미료' '복합조미료' '소금/설탕류' '수입조미' '간편조리식품' '라면' '면류' '분유' '잼'\n",
      " '통조림' '인스턴트선물세트' '이유식/유아간식' '두유' '커피' '차' '담배' '인스턴트커피' '원두커피' '커피선물세트'\n",
      " '시즌차' '차선물세트' '꿀' '스낵' '비스켓' '파이' '시리얼' '캔디' '초콜릿' '껌' '안주' '한과' '프리미엄과자'\n",
      " '간식용과자' '수입과자' '종합과자' '전통과자' '생수' '과채음료' '탄산음료' '이온음료' '커피차음료' '기능성음료'\n",
      " '수입음료' '소주' '맥주' '와인' '전통주' '양주' '세탁세제' '주거세제' '주방세제' '섬유유연제' '표백제' '살충제'\n",
      " '탈취제' '제습제' '기저귀' '화장지' '생리대' '유아세제' '유아위생용품' '시니어위생용품' '여성위생용품' '키친타올'\n",
      " '물티슈' '미용티슈' '구강용품' '헤어스타일링' '면도용품' '바디용품' '스킨케어' '개인위생용품' 'H&B선물세트'\n",
      " '일반헤어케어' '기능헤어케어' '그릇/수저' '음식조리' '음식저장/보관' '주방정리' '야외용품' '주방시즌/균일가'\n",
      " '야외/시즌용품' '균일가' '청소용품' '세탁용품' '수납용품' '욕실용품' '휴지통' '밀대/걸레' '청소편의도구'\n",
      " '종량제봉투' '소가구' '장식용품' '의자/상' '조명/전구' '보수용품' '건전지' '가구/인테리어샵' '테이블' '의자'\n",
      " '상' '제기용품' '아웃도어퍼니처' '벽지류' '성인침구류' '수예소품' '커튼류' '수예시즌' '아동침구류' '예능학용품'\n",
      " '노트/지류' '필기도구' '오피스용품' '파티/팬시/시즌' '미술용품' '교육보조재' '파티/팬시' '노트' '시즌행사'\n",
      " '일반서적' '음반' '유/아동서적' '영상' '서적' '음반영상' 'BABY/INFANT' 'GIRLS' '교육'\n",
      " 'VIDEOGAME' '남아' 'SPORTS/OUTDOOR' 'EDUCATION 1' 'EDUCATION 2' 'BOYS 1'\n",
      " 'BOYS 2' '애완/동물용품' '원예용품' '애견용품' '덴탈케어' '고양이용품' '동물병원' '수족관용품' '자동차 정비용품'\n",
      " '자동차 청소용품' '카시트/매트' '자동차처분' '자동차 액세서리' '교환/보수용품' '세차용품' '자동차방향제/소취제'\n",
      " '자동차 편의용품' '자동차장식용품' '휴대폰용품' '장착용품' '오토바이용품' '스트리트편집샵' '행사' '이지캐주얼브랜드'\n",
      " '여성캐주얼브랜드' '비즈니스정장' '시티캐주얼' '복합샵' '남성브랜드' '남성행사' '남성시즌행사' '유아브랜드' '아동복합샵'\n",
      " '아동브랜드' '아동행사' '유아동용품' '유아용품' '유아토들러' '주니어스포츠' '주니어웨어' '유아동PB' '유아동NPB'\n",
      " '유아동특정' '성인내의' '란제리' '양말' '홈웨어' '스타킹' '란제리브랜드' '아동내의' '언더웨어행사' '국내화장품'\n",
      " '미용잡화' '수입브랜드' '화장품브랜드샵' '스키' '등산' '낚시' '수영복' '윈터스포츠' '워터스포츠' '스포츠웨어'\n",
      " '롤러보드' '구기용품' '헬스용품' '자전거' '스포츠ACC' '라켓스포츠' '시니어건강용품' '스포츠의류' '분식' '양식'\n",
      " '일식' '중식' '한식' '패스트푸드' '푸드코트' '컨세션' '해초류' '나물' '콩나물' '두부' '간편채소' '묵'\n",
      " '즉석참기름' '묵/즉석참기름' '냉장고' '세탁기' 'TV' 'DVD' '오디오' '홈시어터' '김치냉장고' '정수기'\n",
      " '공기청정기' '에어컨' '선풍기' '히터기' '전기요/장판' '가습기' '건강가전' '밥솥' '주방소형가전' '청소기'\n",
      " '전기포트' '믹서기' '생활소형가전' '커피메이커/머신' '기타주방가전' '조리기' '소형음향기기' '카메라/캠코더'\n",
      " '전화기/팩스' '이동통신' 'PC' '컴퓨터주변기기' '전기면도기' '건강디지털기기' 'NAVI/하이패스' '기타음향기기'\n",
      " '전자악기' 'MP3/PMP' '전자학습기' '어묵맛살' '냉장면류' '햄소시지' '냉장반찬' '냉동만두' '냉동간식'\n",
      " '냉동대용식' '아이스크림' '햄' '소시지' '냉장햄세트' '드레스화브랜드' '캐주얼화브랜드' '아동화브랜드' '슈즈행사'\n",
      " '남성구두' '여성구두' '샌들슬리퍼' 'NB구두' '운동화' '준보석' '시계' '피혁브랜드' '가방브랜드' '잡화멀티샵'\n",
      " '미입점행사' '지갑' '벨트' '핸드백' '가방' '피혁토탈' '모자' '우산/양산' '스카프' '장갑' '시즌토탈' '썬글라스'\n",
      " '여행용품' '우육' '수입육' '일반한우' '한우선물세트' '브랜드한우' '닭고기' '계란' '오리고기' '양념육' '돼지고기'\n",
      " '브랜드돼지고기' '차별화돼지고기' '온라인돼지고기' '마담/어덜트' '미시캐주얼' '여성베이직' '여성이지캐주얼' '여성PB'\n",
      " '여성NPB' '여성특정' '병행수입' '남성베이직' '남성스포츠' '남성어덜트캐주얼' '남성이지캐주얼' '남성스포츠PB'\n",
      " '남성스포츠NPB' '남성스포츠특정' '스포츠브랜드편집' '스포츠NB' '골프' '브랜드' '과실과일' '과채과일' '친환경과일'\n",
      " '감귤' '감' '복숭아' '자두' '토마토' '포도' '참외' '수박' '딸기' '메론' '수입감귤과일' '수입기타과일'\n",
      " '열대과일' '키위/석류' '포도/체리' '오렌지과일선물세트' '오렌지' '자몽' '오렌지과일기타' '석류' '레몬' '생선회'\n",
      " '해물연체류' '간편조리생선' '생선초밥' '기타회' '건과' '건강선물세트' '냉동가공' '생활한방' '한방식재류' '한방차'\n",
      " '김/초밥' '도시락' '선식' '떡' '족발' '순대' '단무지류' '김치류' '젓갈류' '브랜드푸드몰' '빵' '반찬'\n",
      " '전통간식' '먹거리' '먹거리행사' '맛집행사' '즉석구이김' '특산물행사' '블루베리' '체리' '수입포도' '냉동과일'\n",
      " '열대과일기타' '바나나' '파인애플' '망고' '키위' '열대과일선물세트' '남성용품' '바디케어' '훼이셜케어' '베이비케어'\n",
      " '풋/핸드케어' '미용소품' '아로마' '간식' '남성양말' '여성양말' '아동양말' '덧신' '주니어양말' '양말선물세트'\n",
      " '온라인양말' '시즌슈즈' '스포츠슈즈' '아동슈즈' '캐주얼슈즈' '슈즈용품' '지갑/벨트' 'TRAVEL' '시즌잡화' '캠핑'\n",
      " '잡곡' '온라인잡곡선식' '포장반찬HMR' '냉동HMR' '냉장간편식HMR' '냉장식사HMR' '간편요리' '밥죽류' '비타민'\n",
      " '기능성건강' '홍인삼' '수입연어' '수입고등어' '수입갈치' '수입게' '수입기타생선' '냉동규격생선' '냉동규격해물'\n",
      " '규격생선선물세트' '냉장규격생선' '온라인규격/간편조리생선' '규격RTC' '간편조리행사' '굴비' '반건생선'\n",
      " '굴비/반건생선선물세트' '해초' '조개' '조개살' '연체' '새우' '해물선물세트' '온라인해물연체' '멸치' '천연조미료'\n",
      " '황태' '미역/다시마' '멸치황태미역선물세트' '마른김' '조미김' '김가공품' '김선물세트' '미국산소고기' '호주산소고기'\n",
      " '수입육선물세트' '수입돼지고기' '기타국소고기' '육가공품' '유아식기' '조리용기' '조리도구' '시즌/건강가전'\n",
      " '패브릭욕실용품' '매트' '프리미엄매트' '일반욕실용품' 'DIY욕실용품' '수도용품' '조명기구' '전구' '전기용품'\n",
      " '안전용품' '공구' '브랜드침구' '성인침구' '아동침구' '가공란' '기초화장품' '색조화장품' '드럭스토어' '온라인화장품'\n",
      " '양념채소' '온라인양념/뿌리채소' '사과' '배' '국산과일선물세트' '온라인저장과일' '구색과일' '밤' '국산과일'\n",
      " '수입과일' '건과일' '견과류' '선식류' '엽채류' '과채류' '근채류' '두채류' '김치채소류' '양채류' '나물류'\n",
      " '계란류' '선어류' '선어가공' '건어류' '건어가공' '해물류' '기타수산' '국내산우육' '국내산돈육' '국내산계육'\n",
      " '수입우육' '수입돈육' '기타축산' '간편간식' '식사류' '기타조리식품' '우유' '발효유' '치즈버터' '냉장농산'\n",
      " '냉장수산' '냉장축산' '만두' '냉장간식MS' '냉장식사MS' '냉장기타MS' '냉동MS' '커피음료' '차음료' '기타음주류'\n",
      " '병통조림' '커피류' '차류' '즉석식품' '가공건식품' '식용유' '케첩마요네즈' '감미료' '가공분말류' '건면'\n",
      " '쿠키케이크' '캔디껌류' '초콜렛' '씨리얼' '주방주거세제' '두발용품' '생리용품' '위생용품' '청소욕실용품' '전기전자'\n",
      " '의류잡화' '레저취미' '문화용품' '가정잡화' '베이직케어' '선케어' '클렌징' '집중케어' '남성케어' '헤어케어'\n",
      " '핸드/풋케어' '구강케어' '여성용품' '피트니스' '건강기능식품' '일반의약외품' '과자' '음료' '화장지/티슈'\n",
      " '방향/제습/탈취제' '기기' '양말류' '우산/양산류' '파티/팬시용품' '계절팩' '여성' '남성' '베이스메이크업'\n",
      " '아이메이크업' '립메이크업' '네일메이크업'] \n",
      " 717\n"
     ]
    }
   ],
   "source": [
    "print('● 중분류명 종류와 갯수 : \\n', data5['중분류명'].unique(), '\\n', data5['중분류명'].nunique())"
   ]
  },
  {
   "cell_type": "code",
   "execution_count": 82,
   "id": "dba77476",
   "metadata": {},
   "outputs": [
    {
     "name": "stdout",
     "output_type": "stream",
     "text": [
      "● 소분류명 종류와 갯수 : \n",
      " ['위생세제' '휴지류' '뷰티상품' ... '아이브로우' '아이섀도우' '메이크업세트'] \n",
      " 3520\n"
     ]
    }
   ],
   "source": [
    "print('● 소분류명 종류와 갯수 : \\n', data5['소분류명'].unique(), '\\n', data5['소분류명'].nunique())"
   ]
  },
  {
   "cell_type": "code",
   "execution_count": 83,
   "id": "ebeac0a3",
   "metadata": {},
   "outputs": [
    {
     "name": "stdout",
     "output_type": "stream",
     "text": [
      "스포츠      79\n",
      "주방용품     72\n",
      "문화용품     65\n",
      "캐주얼      59\n",
      "전기전자     57\n",
      "         ..\n",
      "여성베이직     1\n",
      "전자학습기     1\n",
      "주유소       1\n",
      "여성        1\n",
      "차선물세트     1\n",
      "Name: 중분류명, Length: 717, dtype: int64\n"
     ]
    }
   ],
   "source": [
    "print(data5['중분류명'].value_counts())\n",
    "\n",
    "# 스포츠, 주방용품, 문화용품, 캐주얼, 전자용품 순으로 많은 비율을 차지함."
   ]
  },
  {
   "cell_type": "code",
   "execution_count": 84,
   "id": "ccfb044e",
   "metadata": {},
   "outputs": [
    {
     "name": "stdout",
     "output_type": "stream",
     "text": [
      "브랜드          8\n",
      "건전지          6\n",
      "기타           6\n",
      "초밥           6\n",
      "유아용품         6\n",
      "            ..\n",
      "국물팩          1\n",
      "마담/어덜트아우터    1\n",
      "세이브더칠드런      1\n",
      "남성세미드레스화     1\n",
      "기타건강측정용품     1\n",
      "Name: 소분류명, Length: 3520, dtype: int64\n"
     ]
    }
   ],
   "source": [
    "print(data5['소분류명'].value_counts())\n",
    "\n",
    "# 소분류는 종류와 그 분포가 매우 다양해서 분석에 무의미 할 것 같음."
   ]
  },
  {
   "cell_type": "code",
   "execution_count": 106,
   "id": "7b4c5787",
   "metadata": {},
   "outputs": [
    {
     "name": "stdout",
     "output_type": "stream",
     "text": [
      "630\n",
      "2624\n",
      "987\n",
      "145\n"
     ]
    }
   ],
   "source": [
    "print(data5['제휴사'][data5['제휴사'] == 'A'].count())\n",
    "print(data5['제휴사'][data5['제휴사'] == 'B'].count())\n",
    "print(data5['제휴사'][data5['제휴사'] == 'C'].count())\n",
    "print(data5['제휴사'][data5['제휴사'] == 'D'].count())\n",
    "\n",
    "# 상품 갯수는 B > C > A > D 제휴사 순으로 많음.\n",
    "# 그렇다면 매출액도 그런지?"
   ]
  },
  {
   "cell_type": "code",
   "execution_count": 110,
   "id": "a304b933",
   "metadata": {},
   "outputs": [
    {
     "name": "stdout",
     "output_type": "stream",
     "text": [
      "514841144030\n",
      "111221686478\n",
      "50060970889\n",
      "895355544\n"
     ]
    }
   ],
   "source": [
    "print(data3['구매금액'][data3['제휴사']=='A'].sum())\n",
    "print(data3['구매금액'][data3['제휴사']=='B'].sum())\n",
    "print(data3['구매금액'][data3['제휴사']=='C'].sum())\n",
    "print(data3['구매금액'][data3['제휴사']=='D'].sum())\n",
    "\n",
    "# 상품갯수는 B가 다른 제휴사보다 많지만\n",
    "# A 제휴사가 백화점이고, 판매되는 상품의 가격대가 상대적으로 높아서\n",
    "# 구매금액의 총합은 A 제휴사, 즉 롯데백화점이 가장 많음."
   ]
  },
  {
   "cell_type": "markdown",
   "id": "f4a3e5b9",
   "metadata": {},
   "source": [
    "## 채널이용.txt"
   ]
  },
  {
   "cell_type": "code",
   "execution_count": 25,
   "id": "fba02bed",
   "metadata": {
    "scrolled": true
   },
   "outputs": [
    {
     "data": {
      "text/html": [
       "<div>\n",
       "<style scoped>\n",
       "    .dataframe tbody tr th:only-of-type {\n",
       "        vertical-align: middle;\n",
       "    }\n",
       "\n",
       "    .dataframe tbody tr th {\n",
       "        vertical-align: top;\n",
       "    }\n",
       "\n",
       "    .dataframe thead th {\n",
       "        text-align: right;\n",
       "    }\n",
       "</style>\n",
       "<table border=\"1\" class=\"dataframe\">\n",
       "  <thead>\n",
       "    <tr style=\"text-align: right;\">\n",
       "      <th></th>\n",
       "      <th>고객번호</th>\n",
       "      <th>제휴사</th>\n",
       "      <th>이용횟수</th>\n",
       "    </tr>\n",
       "  </thead>\n",
       "  <tbody>\n",
       "    <tr>\n",
       "      <th>0</th>\n",
       "      <td>7</td>\n",
       "      <td>A_MOBILE/APP</td>\n",
       "      <td>4</td>\n",
       "    </tr>\n",
       "    <tr>\n",
       "      <th>1</th>\n",
       "      <td>14</td>\n",
       "      <td>A_MOBILE/APP</td>\n",
       "      <td>1</td>\n",
       "    </tr>\n",
       "    <tr>\n",
       "      <th>2</th>\n",
       "      <td>42</td>\n",
       "      <td>B_MOBILE/APP</td>\n",
       "      <td>23</td>\n",
       "    </tr>\n",
       "    <tr>\n",
       "      <th>3</th>\n",
       "      <td>74</td>\n",
       "      <td>A_MOBILE/APP</td>\n",
       "      <td>1</td>\n",
       "    </tr>\n",
       "    <tr>\n",
       "      <th>4</th>\n",
       "      <td>74</td>\n",
       "      <td>B_MOBILE/APP</td>\n",
       "      <td>30</td>\n",
       "    </tr>\n",
       "  </tbody>\n",
       "</table>\n",
       "</div>"
      ],
      "text/plain": [
       "   고객번호           제휴사  이용횟수\n",
       "0     7  A_MOBILE/APP     4\n",
       "1    14  A_MOBILE/APP     1\n",
       "2    42  B_MOBILE/APP    23\n",
       "3    74  A_MOBILE/APP     1\n",
       "4    74  B_MOBILE/APP    30"
      ]
     },
     "execution_count": 25,
     "metadata": {},
     "output_type": "execute_result"
    }
   ],
   "source": [
    "data6 = pd.read_csv('ldata/채널이용.txt',encoding='CP949')\n",
    "data6.head()"
   ]
  },
  {
   "cell_type": "code",
   "execution_count": 26,
   "id": "081e4a12",
   "metadata": {},
   "outputs": [
    {
     "name": "stdout",
     "output_type": "stream",
     "text": [
      "['A_MOBILE/APP' 'B_MOBILE/APP' 'C_MOBILE/APP' 'D_MOBILE/APP'\n",
      " 'B_ONLINEMALL' 'C_ONLINEMALL'] \n",
      "\n",
      "240\n",
      "1\n"
     ]
    }
   ],
   "source": [
    "print(data6['제휴사'].unique(), '\\n')\n",
    "# A,D는 모바일/앱만 있으며, B,C는 모바일/앱과 온라인몰 둘 다 있음.\n",
    "\n",
    "print(data6['이용횟수'].max())\n",
    "print(data6['이용횟수'].min())\n",
    "# 채널을 가장 많이 이용한 고객은 240번까지 사용함.(3개월간 데이터)"
   ]
  },
  {
   "cell_type": "markdown",
   "id": "e9794746",
   "metadata": {},
   "source": [
    "## 데이터 합치기\n",
    "- data1 : 경쟁사이용\n",
    "- data2 : 고객DEMO\n",
    "- data3 : 구매상품TR\n",
    "- data4 : 멤버십여부\n",
    "- data5 : 상품분류\n",
    "- data6 : 채널이용"
   ]
  },
  {
   "cell_type": "code",
   "execution_count": 27,
   "id": "cedeae43",
   "metadata": {},
   "outputs": [
    {
     "name": "stdout",
     "output_type": "stream",
     "text": [
      "data1 고객번호 갯수 : 5881\n",
      "data2 고객번호 갯수 : 19383\n",
      "data3 고객번호 갯수 : 19383\n",
      "data4 고객번호 갯수 : 6498\n",
      "data6 고객번호 갯수 : 6766\n"
     ]
    }
   ],
   "source": [
    "print('data1 고객번호 갯수 :', data1['고객번호'].nunique())\n",
    "print('data2 고객번호 갯수 :', data2['고객번호'].nunique())\n",
    "print('data3 고객번호 갯수 :', data3['고객번호'].nunique())\n",
    "print('data4 고객번호 갯수 :', data4['고객번호'].nunique())\n",
    "print('data6 고객번호 갯수 :', data6['고객번호'].nunique())\n",
    "\n",
    "# 고객의 고유 식별갯수인 고객번호 갯수가 같지않음.\n",
    "# data2와 data3은 고객번호 기준으로 합치기 가능할 것 같음."
   ]
  },
  {
   "cell_type": "code",
   "execution_count": 28,
   "id": "3b1b63eb",
   "metadata": {},
   "outputs": [
    {
     "name": "stdout",
     "output_type": "stream",
     "text": [
      "data2 고객번호 고유값 : \n",
      " 0            1\n",
      "1            2\n",
      "2            3\n",
      "3            4\n",
      "4            5\n",
      "         ...  \n",
      "19378    19379\n",
      "19379    19380\n",
      "19380    19381\n",
      "19381    19382\n",
      "19382    19383\n",
      "Name: 고객번호, Length: 19383, dtype: int64\n",
      "data3 고객번호 고유값 : \n",
      " 10596476        1\n",
      "18644938        1\n",
      "18644941        1\n",
      "18644942        1\n",
      "18644943        1\n",
      "            ...  \n",
      "64943       19383\n",
      "64945       19383\n",
      "341097      19383\n",
      "22514742    19383\n",
      "341188      19383\n",
      "Name: 고객번호, Length: 28593030, dtype: int64\n"
     ]
    }
   ],
   "source": [
    "print('data2 고객번호 고유값 : \\n', data2['고객번호'].sort_values())\n",
    "print('data3 고객번호 고유값 : \\n', data3['고객번호'].sort_values())\n",
    "\n",
    "# 고객번호의 갯수는 같지만 고유값이 같지않기때문에 데이터 합치기 불가능 할 듯."
   ]
  },
  {
   "cell_type": "markdown",
   "id": "69c3a098",
   "metadata": {},
   "source": [
    "- 최종적으로 고객별 맞춤 마케팅을 하기 위해서는 DesicionTreeClassifier 를 이용해야 할 것 같음.\n",
    "- 최적의 하이퍼 파라미터와 모델 판별기준에는 어떤 척도를 사용할 것인지(accuracy_score)"
   ]
  }
 ],
 "metadata": {
  "kernelspec": {
   "display_name": "Python 3",
   "language": "python",
   "name": "python3"
  },
  "language_info": {
   "codemirror_mode": {
    "name": "ipython",
    "version": 3
   },
   "file_extension": ".py",
   "mimetype": "text/x-python",
   "name": "python",
   "nbconvert_exporter": "python",
   "pygments_lexer": "ipython3",
   "version": "3.8.10"
  }
 },
 "nbformat": 4,
 "nbformat_minor": 5
}
