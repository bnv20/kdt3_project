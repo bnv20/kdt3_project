{
 "cells": [
  {
   "cell_type": "code",
   "execution_count": 1,
   "id": "5eb8e0d5",
   "metadata": {},
   "outputs": [],
   "source": [
    "import pandas as pd\n",
    "import matplotlib.pyplot as plt\n",
    "import seaborn as sns\n",
    "plt.rc(\"font\", family=\"Malgun Gothic\")"
   ]
  },
  {
   "cell_type": "code",
   "execution_count": null,
   "id": "d3dd37c6",
   "metadata": {},
   "outputs": [],
   "source": [
    "# 180일 이상 구매데이터가 없는 경우 신규고객또는 비활동고객이라고 정의.\n",
    "# 구매상품 데이터\n",
    "import pandas as pd\n",
    "from datetime import datetime\n",
    "dt_parser = lambda x: datetime.strptime(x, \"%Y%m%d\") \n",
    "df4 = pd.read_csv('/content/drive/MyDrive/1차팀플/dataset/구매상품TR.txt', encoding='CP949',\n",
    "                 parse_dates=['구매일자'], date_parser=dt_parser)\n",
    "df4.shape"
   ]
  },
  {
   "cell_type": "code",
   "execution_count": null,
   "id": "bc456e75",
   "metadata": {},
   "outputs": [],
   "source": [
    "def drop_dup(df):\n",
    "    df.drop_duplicates(subset='영수증번호', keep='first', inplace=False, ignore_index=False)\n",
    "    return df  "
   ]
  },
  {
   "cell_type": "code",
   "execution_count": null,
   "id": "f0e31a89",
   "metadata": {},
   "outputs": [],
   "source": [
    "df_last_day = df4[['고객번호', '구매일자']]\n",
    "a = df_last_day.groupby(['고객번호','구매일자'])[['count_s']].count()\n",
    "a = a.reset_index()\n",
    "a1 = a.drop_duplicates(subset='고객번호', keep='last', inplace=False, ignore_index=False)\n",
    "a1['last_day'] = '2015-12-31'\n",
    "a1['last_day'] = a1['last_day'].astype('datetime64[ns]')\n",
    "a1['days'] = a1['last_day'] - a1['구매일자']\n",
    "a1['days']= (a1['days']/ np.timedelta64(1,'D')).astype(int)\n",
    "data_a1 = a1[a1['days'] > 180]\n",
    "data_a1 = data_a1[['고객번호','days']]\n",
    "data_a1.columns = ['고객번호', '구매간격(days)']"
   ]
  },
  {
   "cell_type": "code",
   "execution_count": null,
   "id": "03f77881",
   "metadata": {},
   "outputs": [],
   "source": [
    "# 구매간격 구하는 사용자함수\n",
    "def diff_days(df):\n",
    "    df2 = pd.pivot_table(df,index=['고객번호','구매일자'])\n",
    "    df2 = df2.reset_index()\n",
    "    df2 = df2[['고객번호','구매일자']]\n",
    "  \n",
    "    dd = pd.DataFrame()\n",
    "    for i in range(1,19384):\n",
    "        try:\n",
    "            cond = df2['고객번호'] == i\n",
    "            d = df2[cond].diff()\n",
    "            dd = dd.append(d)\n",
    "        except: print(i)\n",
    "    dd = dd['구매일자'].dropna()\n",
    "    \n",
    "    dd['구매일자']= (dd['구매일자']/ np.timedelta64(1,'D')).astype(int)\n",
    "    df2['구매간격(days)'] = dd\n",
    "    return df2"
   ]
  },
  {
   "cell_type": "code",
   "execution_count": null,
   "id": "88dfbde9",
   "metadata": {},
   "outputs": [],
   "source": [
    "dd = pd.DataFrame()\n",
    "for i in range(1,19384):\n",
    "    try:\n",
    "        cond = df2['고객번호'] == i\n",
    "        d = df2[cond].diff()\n",
    "        dd = dd.append(d)\n",
    "\n",
    "    except: print(i)"
   ]
  },
  {
   "cell_type": "code",
   "execution_count": null,
   "id": "1834822f",
   "metadata": {},
   "outputs": [],
   "source": [
    "aa = pd.Series()\n",
    "\n",
    "for i in range(1,19384):\n",
    "    try:\n",
    "        cond = df2['고객번호'] == i\n",
    "        d = df2[cond].diff()\n",
    "        d = d.dropna()\n",
    "        d = d.max()\n",
    "        aa = aa.append(d)\n",
    "    except:print(i)  "
   ]
  },
  {
   "cell_type": "code",
   "execution_count": null,
   "id": "b03e35d5",
   "metadata": {},
   "outputs": [],
   "source": [
    "def diff_max(df):\n",
    "    aa = pd.Series()\n",
    "    for i in range(1,19384):\n",
    "        try:\n",
    "            cond = df['고객번호'] == i\n",
    "            d = df[cond].diff()\n",
    "            d = d.dropna()\n",
    "            d = d.max()\n",
    "            aa = aa.append(d)\n",
    "        except:print(i)\n",
    "    aa = pd.DataFrame(aa)\n",
    "    aa = aa.reset_index(drop=True)\n",
    "    aa.columns = ['구매일자']\n",
    "\n",
    "    cond = aa != 0\n",
    "    aa = aa[cond]\n",
    "    aa = aa.dropna()\n",
    "\n",
    "    aa['구매일자']= (aa['구매일자']/ np.timedelta64(1,'D')).astype(int)\n",
    "    aa = aa.reset_index(drop=True)\n",
    "    aa['고객번호'] = aa.index + 1\n",
    "    aa = aa.rename({'구매일자':'구매간격(days)'}, axis=1)\n",
    "    return aa"
   ]
  },
  {
   "cell_type": "code",
   "execution_count": null,
   "id": "546db893",
   "metadata": {},
   "outputs": [],
   "source": [
    "a = diff_max(df2)\n",
    "a"
   ]
  },
  {
   "cell_type": "code",
   "execution_count": null,
   "id": "27b29f76",
   "metadata": {},
   "outputs": [],
   "source": [
    "aa['구매일자']= (aa['구매일자']/ np.timedelta64(1,'D')).astype(int)\n",
    "aa = aa.reset_index(drop=True)\n",
    "aa['고객번호'] = aa.index + 1\n",
    "aa = aa.rename({'구매일자':'구매간격(days)'}, axis=1)\n",
    "aa.sort_values(by ='구매간격(days)')"
   ]
  },
  {
   "cell_type": "code",
   "execution_count": null,
   "id": "3eaa1138",
   "metadata": {},
   "outputs": [],
   "source": [
    "def outliers_iqr(data):\n",
    "    q1, q3 = np.percentile(data, [25,75])\n",
    "    iqr = q3 - q1\n",
    "    lower_bound = q1 - (iqr * 1.5)\n",
    "    upper_bound = q3 + (iqr * 1.5)\n",
    "\n",
    "    return lower_bound, upper_bound\n",
    "\n",
    "lower_wis, upper_wis = outliers_iqr(dd['구매일자']) #구매 기간의 간격 값\n",
    "# (-2.0, 6.0)\n",
    "lower_wis, upper_wis = outliers_iqr(aa['구매간격(days)'])\n",
    "# (-9.0, 39.0)"
   ]
  },
  {
   "cell_type": "code",
   "execution_count": null,
   "id": "b7ad4b45",
   "metadata": {},
   "outputs": [],
   "source": [
    "aa['구매간격(days)'].plot(kind='box')"
   ]
  },
  {
   "cell_type": "code",
   "execution_count": null,
   "id": "320e1f0a",
   "metadata": {},
   "outputs": [],
   "source": [
    "dd = dd['구매일자'].dropna()\n",
    "import numpy as np\n",
    "dd['구매일자']= (dd['구매일자']/ np.timedelta64(1,'D')).astype(int)\n",
    "df2['구매간격(days)'] = dd"
   ]
  },
  {
   "cell_type": "code",
   "execution_count": null,
   "id": "f3559fbc",
   "metadata": {},
   "outputs": [],
   "source": [
    "df4['year'] = df4['구매일자'].dt.year\n",
    "df4['month'] = df4['구매일자'].dt.month\n",
    "df4['day'] = df4['구매일자'].dt.day"
   ]
  },
  {
   "cell_type": "code",
   "execution_count": null,
   "id": "d6bc052d",
   "metadata": {},
   "outputs": [],
   "source": [
    "def drop_dup(df):\n",
    "    df.drop_duplicates(subset='영수증번호', keep='first', inplace=False, ignore_index=False)\n",
    "    df = df.reset_index(drop=True)\n",
    "    return df\n",
    "\n",
    "def diff_days(pi): \n",
    "    dd = pd.DataFrame()\n",
    "    for i in range(1,19384):\n",
    "        try:\n",
    "            cond = pi['고객번호'] == i\n",
    "            d = pi[cond].diff()\n",
    "            dd = dd.append(d)\n",
    "\n",
    "        except: print(i)\n",
    "\n",
    "    dd = dd['구매일자'].dropna()\n",
    "    dd = pd.DataFrame(dd)\n",
    "    dd['구매일자']= (dd['구매일자']/ np.timedelta64(1,'D')).astype(int)\n",
    "    pi['구매간격(days)'] = dd\n",
    "\n",
    "    return pi"
   ]
  },
  {
   "cell_type": "code",
   "execution_count": null,
   "id": "6568c02a",
   "metadata": {},
   "outputs": [],
   "source": [
    "# df2014_1_drop = drop_dup(df2014_1)\n",
    "pi = pd.pivot_table(df2014_1_drop,index=['고객번호','구매일자'],columns=['구매금액'], aggfunc='sum')\n",
    "pi = pi.reset_index()\n",
    "pi1 = pi[['고객번호','구매일자']]\n",
    "\n",
    "dd = pd.DataFrame()\n",
    "for i in range(1,19384):\n",
    "    try:\n",
    "        cond = pi1['고객번호'] == i\n",
    "        d = pi1[cond].diff()\n",
    "        dd = dd.append(d)\n",
    "\n",
    "    except: print(i)\n",
    "\n",
    "dd = dd['구매일자'].dropna()\n",
    "\n",
    "dd['구매일자']= (dd['구매일자']/ np.timedelta64(1,'D')).astype(int)\n",
    "pi['구매간격(days)'] = dd\n",
    "diff_days(pi)"
   ]
  },
  {
   "cell_type": "code",
   "execution_count": null,
   "id": "b59a9c5a",
   "metadata": {},
   "outputs": [],
   "source": [
    "pi[pi['구매간격(days)'] < 180]"
   ]
  },
  {
   "cell_type": "code",
   "execution_count": null,
   "id": "6db04268",
   "metadata": {},
   "outputs": [],
   "source": [
    "#----------------------------------------------------------------------------------"
   ]
  },
  {
   "cell_type": "code",
   "execution_count": null,
   "id": "8457b704",
   "metadata": {},
   "outputs": [],
   "source": [
    "# !pip3 install pickle5 \n",
    "import pickle5 as pickle\n",
    "with open('/content/drive/MyDrive/1차팀플/dataset/draft.pkl', \"rb\") as fh:\n",
    "    data= pickle.load(fh)"
   ]
  },
  {
   "cell_type": "code",
   "execution_count": null,
   "id": "681f7218",
   "metadata": {},
   "outputs": [],
   "source": [
    "df = data[['영수증번호','중분류명', '소분류명', '년', '분기', '성별','구매금액', '제휴사', '고객번호']]\n",
    "df.to_pickle('/content/drive/MyDrive/1차팀플/dataset/상품별분석.pkl')"
   ]
  },
  {
   "cell_type": "code",
   "execution_count": null,
   "id": "74d2560e",
   "metadata": {},
   "outputs": [],
   "source": [
    "df = pd.read_pickle('/content/drive/MyDrive/1차팀플/dataset/상품별분석.pkl')"
   ]
  },
  {
   "cell_type": "code",
   "execution_count": null,
   "id": "4722068e",
   "metadata": {},
   "outputs": [],
   "source": [
    "# 중분류명 분기별 신규/기존 고객별로 가장많이 판매된 상품 비교\n",
    "new_cust = pd.read_pickle('/content/drive/MyDrive/1차팀플/dataset/new고객번호.pkl')"
   ]
  },
  {
   "cell_type": "code",
   "execution_count": null,
   "id": "900c1c57",
   "metadata": {},
   "outputs": [],
   "source": [
    "newlist = new_cust['고객번호'].values"
   ]
  },
  {
   "cell_type": "code",
   "execution_count": null,
   "id": "abe8dc6c",
   "metadata": {},
   "outputs": [],
   "source": [
    "# 일단 년도별로 나누기\n",
    "df2014 = df[df['년']==2014]\n",
    "df2015 = df[df['년']==2015]\n",
    "df2014_1= df2014[df2014['분기']==1]\n",
    "df2014_2= df2014[df2014['분기']==2]\n",
    "df2014_3= df2014[df2014['분기']==3]\n",
    "df2014_4= df2014[df2014['분기']==4]\n",
    "df2015_1= df2015[df2015['분기']==1]\n",
    "df2015_2= df2015[df2015['분기']==2]\n",
    "df2015_3= df2015[df2015['분기']==3]\n",
    "df2015_4= df2015[df2015['분기']==4]"
   ]
  },
  {
   "cell_type": "code",
   "execution_count": null,
   "id": "cf326e7d",
   "metadata": {},
   "outputs": [],
   "source": [
    "def comparison_new(df, newlist):\n",
    "    df_new = pd.DataFrame()\n",
    "    df_exi = pd.DataFrame()\n",
    "    for i in range(1,19384):\n",
    "        if i in newlist:\n",
    "            cond2 = df['고객번호'] == i\n",
    "            new = df[cond2]\n",
    "            df_new = df_new.append(new)\n",
    "        else:\n",
    "            cond1 = df['고객번호'] == i\n",
    "            exi = df[cond1]\n",
    "            df_exi = df_exi.append(exi)\n",
    "    return df_new, df_exi"
   ]
  },
  {
   "cell_type": "code",
   "execution_count": null,
   "id": "e544cfe8",
   "metadata": {},
   "outputs": [],
   "source": [
    "# 2014_1분기~2015 기존, 신규고객 데이터\n",
    "df2014_1_new, df2014_1_exi = comparison_new(df2014_1, newlist)\n",
    "df2014_2_new, df2014_2_exi = comparison_new(df2014_2, newlist)\n",
    "df2014_3_new, df2014_3_exi = comparison_new(df2014_3, newlist)\n",
    "df2014_4_new, df2014_4_exi = comparison_new(df2014_4, newlist)\n",
    "df2015_1_new, df2015_1_exi = comparison_new(df2015_1, newlist)\n",
    "df2015_2_new, df2015_2_exi = comparison_new(df2015_2, newlist)\n",
    "df2015_3_new, df2015_3_exi = comparison_new(df2015_3, newlist)\n",
    "df2015_4_new, df2015_4_exi = comparison_new(df2015_4, newlist)"
   ]
  },
  {
   "cell_type": "code",
   "execution_count": null,
   "id": "576615e1",
   "metadata": {},
   "outputs": [],
   "source": [
    "# 빈 DataFrame 만드는 사용자함수\n",
    "def empty_df(index_a, columns_a):\n",
    "  empty = pd.DataFrame(index=index_a,\n",
    "                      columns = columns_a)\n",
    "  return empty"
   ]
  },
  {
   "cell_type": "code",
   "execution_count": null,
   "id": "f67fd52b",
   "metadata": {},
   "outputs": [],
   "source": [
    "list_index = ['1순위','2순위','3순위','4순위','5순위','6순위','7순위','8순위','9순위','10순위']\n",
    "list_columns = [['2014_1','2014_1','2014_1_매출비율','2014_1_매출비율','2014_2','2014_2','2014_2_매출비율','2014_2_매출비율',\n",
    "                 '2014_3','2014_3','2014_3_매출비율','2014_3_매출비율','2014_4','2014_4','2014_4_매출비율','2014_4_매출비율',\n",
    "                 '2015_1','2015_1','2015_1_매출비율','2015_1_매출비율','2015_2','2015_2','2015_2_매출비율','2015_2_매출비율',\n",
    "                 '2015_3','2015_3','2015_3_매출비율','2015_3_매출비율','2015_4','2015_4','2015_4_매출비율','2015_4_매출비율'],\n",
    "                ['기존고객','신규고객','기존고객','신규고객','기존고객','신규고객','기존고객','신규고객','기존고객','신규고객','기존고객','신규고객','기존고객','신규고객','기존고객','신규고객',\n",
    "                 '기존고객','신규고객','기존고객','신규고객','기존고객','신규고객','기존고객','신규고객','기존고객','신규고객','기존고객','신규고객','기존고객','신규고객','기존고객','신규고객']]\n",
    "\n",
    "rank = empty_df(list_index, list_columns)\n",
    "rank = rank.T"
   ]
  },
  {
   "cell_type": "code",
   "execution_count": null,
   "id": "c2514331",
   "metadata": {},
   "outputs": [],
   "source": [
    "def pay_rank_10(df):\n",
    "    g = df.groupby(['중분류명','성별']).agg({'소분류명':'count','구매금액':'sum'})\n",
    "    g = g.reset_index()\n",
    "    g = g.sort_values(by='구매금액', ascending=False)[:10]\n",
    "    return g\n",
    "\n",
    "def pay_raito_10_values(df):\n",
    "    g = pay_rank_10(df)\n",
    "    v = (g['구매금액'].values/m_sum)*100\n",
    "    return v\n",
    "\n",
    "def input_raito10(df_new, df_exi, rank_df,index1='2014_1_매출비율',index2='기존고객'):\n",
    "    item_10_new = pay_raito_10_values(df_new)\n",
    "    item_10_exi = pay_raito_10_values(df_exi)\n",
    "    rank_df.loc[index1].loc['기존고객'] = item_10_exi\n",
    "    rank_df.loc[index1].loc['신규고객'] = item_10_new\n",
    "    return rank_df\n",
    "\n",
    "def pay_rank_10_values(df):\n",
    "    g = pay_rank_10(df)\n",
    "    return g['중분류명'].values\n",
    "\n",
    "def input_values10(df, rank_df,index1='2014_1',index2='기존고객'):\n",
    "    item_10 = pay_rank_10_values(df)\n",
    "    rank_df.loc[index1].loc[index2] = item_10\n",
    "    return rank_df\n",
    "\n",
    "def input_rank(rank, df_new, df2_exi, index_name):\n",
    "    rank = input_values10(df_new, rank,index1=index_name,index2='신규고객')\n",
    "    rank = input_values10(df2_exi, rank,index1=index_name,index2='기존고객')\n",
    "    return rank"
   ]
  },
  {
   "cell_type": "code",
   "execution_count": null,
   "id": "58c6a7af",
   "metadata": {},
   "outputs": [],
   "source": [
    "# 전체 금액\n",
    "m_sum = df2014_1_new['구매금액'].sum() + df2014_1_exi['구매금액'].sum() "
   ]
  },
  {
   "cell_type": "code",
   "execution_count": null,
   "id": "359b8fbc",
   "metadata": {},
   "outputs": [],
   "source": [
    "# 구매비율 구하는 식\n",
    "# 1분기 전체 구매금액 = m_sum\n",
    "# 해당 상품 구매 금액 합/1분기 전체 구매 금액\n",
    "(df2014_1_new_g['구매금액'].values/m_sum)*100"
   ]
  },
  {
   "cell_type": "code",
   "execution_count": null,
   "id": "c3d0ac81",
   "metadata": {},
   "outputs": [],
   "source": [
    "rank = input_raito10(df2014_1_new, df2014_1_exi, rank,index1='2014_1_매출비율')\n",
    "rank = input_raito10(df2014_2_new, df2014_2_exi, rank,index1='2014_2_매출비율')\n",
    "rank = input_raito10(df2014_3_new, df2014_3_exi, rank,index1='2014_3_매출비율')\n",
    "rank = input_raito10(df2014_4_new, df2014_4_exi, rank,index1='2014_4_매출비율')\n",
    "rank = input_raito10(df2015_1_new, df2015_1_exi, rank,index1='2015_1_매출비율')\n",
    "rank = input_raito10(df2015_2_new, df2015_2_exi, rank,index1='2015_2_매출비율')\n",
    "rank = input_raito10(df2015_3_new, df2015_3_exi, rank,index1='2015_3_매출비율')\n",
    "rank = input_raito10(df2015_4_new, df2015_4_exi, rank,index1='2015_4_매출비율')"
   ]
  },
  {
   "cell_type": "code",
   "execution_count": null,
   "id": "434886de",
   "metadata": {},
   "outputs": [],
   "source": [
    "rank1 = rank.reset_index(level=1)"
   ]
  },
  {
   "cell_type": "code",
   "execution_count": null,
   "id": "eb602dc6",
   "metadata": {},
   "outputs": [],
   "source": [
    "rank_ratio = rank1.loc[['2014_1_매출비율','2014_2_매출비율', '2014_3_매출비율', '2014_4_매출비율', '2015_1_매출비율', \n",
    "                        '2015_2_매출비율', '2015_3_매출비율', '2015_4_매출비율']]"
   ]
  },
  {
   "cell_type": "code",
   "execution_count": null,
   "id": "b02f790b",
   "metadata": {},
   "outputs": [],
   "source": [
    "def show_g(df, y='합계'):\n",
    "    df = df[[y]]\n",
    "    df = df.reset_index()\n",
    "\n",
    "    import matplotlib.pyplot as plt\n",
    "    import seaborn as sns\n",
    "\n",
    "    plt.figure(figsize=(20,6))\n",
    "    plt.rc('font', family='NanumGothic')\n",
    "    sns.barplot(data = df, x='구분',hue='고객', y=y)\n",
    "\n",
    "    plt.show()"
   ]
  },
  {
   "cell_type": "code",
   "execution_count": null,
   "id": "f7d312cb",
   "metadata": {},
   "outputs": [],
   "source": [
    "rank_ratio_sum = rank_ratio.drop('level_1', axis=1)\n",
    "rank_ratio['합계'] = rank_ratio_sum.sum(axis=1).values\n",
    "rank_ratio1 = rank_ratio.reset_index()\n",
    "rank_ratio1 = rank_ratio1.rename({'index':'구분','level_1':'고객'},axis=1)\n",
    "rank_ratio1 = rank_ratio1.set_index(['구분','고객'])\n",
    "show_g(rank_ratio1, y='합계')"
   ]
  },
  {
   "cell_type": "code",
   "execution_count": null,
   "id": "71433608",
   "metadata": {},
   "outputs": [],
   "source": [
    "show_g(rank_ratio1, y='8순위')"
   ]
  },
  {
   "cell_type": "code",
   "execution_count": null,
   "id": "00379c03",
   "metadata": {},
   "outputs": [],
   "source": [
    "g = rank_item[['level_1','10순위']]\n",
    "g.sort_values(by='level_1')"
   ]
  },
  {
   "cell_type": "code",
   "execution_count": null,
   "id": "527daad0",
   "metadata": {},
   "outputs": [],
   "source": [
    "rank_item = rank1.loc[['2014_1','2014_2', '2014_3', '2014_4', '2015_1', '2015_2', '2015_3', '2015_4']]\n",
    "rank_item.sort_values(by='level_1')"
   ]
  },
  {
   "cell_type": "code",
   "execution_count": null,
   "id": "1b0a0b21",
   "metadata": {},
   "outputs": [],
   "source": [
    "# 상품분류별 기존고객/신규고객 매출비율"
   ]
  },
  {
   "cell_type": "code",
   "execution_count": null,
   "id": "32c3157a",
   "metadata": {},
   "outputs": [],
   "source": [
    "def map_item(x):\n",
    "    if x in ['가구', '가구/인테리어샵', '벽지류', '브랜드침구', '상', '생활잡화', '성인침구',\n",
    "       '성인침구류', '소가구', '수납용품', '수도용품', '수예시즌', '시계', '아동침구', '아동침구류',\n",
    "       '원예용품', '의류잡화', '의자', '의자/상', '장식용품', '침구/수예', '커튼류', '테이블']:\n",
    "         x = '가구/인테리어'\n",
    "    elif x in ['DVD', 'MP3/PMP', 'NAVI/하이패스', 'PC', 'TV', 'VIDEOGAME', '가습기',\n",
    "       '건강가전', '건강디지털기기', '공기청정기', '기기', '기타음향기기', '기타주방가전', '김치냉장고',\n",
    "       '냉장고', '대형가전', '믹서기', '밥솥', '생활소형가전', '선풍기', '세탁기', '소형가전',\n",
    "       '소형음향기기', '시즌/건강가전', '안전용품', '에어컨', '오디오', '이동통신', '장착용품', '전구',\n",
    "       '전기면도기', '전기요/장판', '전기용품', '전기전자', '전기포트', '전자/전기', '전자악기',\n",
    "       '전자학습기', '전화기/팩스', '정수기', '조리기', '조명/전구', '조명기구', '주방가전', '주방소형가전',\n",
    "       '청소기', '카메라/캠코더', '커피메이커/머신', '컴퓨터주변기기', '통신/컴퓨터', '홈시어터', '히터기']:\n",
    "         x = '가전'\n",
    "    elif x in ['EDUCATION 1', 'EDUCATION 2', '교육', '교육보조재', '남아', '노트', '노트/지류',\n",
    "       '문구/팬시', '문화용품', '미술용품', '서적', '아동', '악기', '영상', '예능학용품', '오피스용품',\n",
    "       '유/아동서적', '유아용품', '음반', '음반영상', '일반서적', '장식용품', '파티/팬시',\n",
    "       '파티/팬시/시즌', '파티/팬시용품', '필기도구']:\n",
    "         x = '교육/문화용품'\n",
    "    elif x in ['BABY/INFANT', 'BOYS 1', 'BOYS 2', 'Fast Food', 'GIRLS',\n",
    "       'SPORTS/OUTDOOR', 'VIDEOGAME', '가공식품', '균일가', '기타', '동물병원',\n",
    "       '드럭스토어', '디저트', '레스토랑', '맛집행사', '먹거리행사', '베이커리', '보석', '분식', '브랜드',\n",
    "       '브랜드조리', '브랜드푸드몰', '생활잡화', '섬유잡화', '수입브랜드', '시즌토탈', '시즌행사', '아동',\n",
    "       '아동브랜드', '아동행사', '액세서리', '양식', '웨딩', '일식', '주유소', '중식', '카페',\n",
    "       '커리어', '컨세션', '트래디셔널', '판매시설', '패스트푸드', '편의시설', '푸드코트',\n",
    "       '피자', '한식']:\n",
    "         x = '기타'\n",
    "    elif x in ['LOCAL김치채소', 'LOCAL잎채소', '가공건식품', '가공란', '가공분말류', '가공양곡', '가공우유',\n",
    "       '가루', '간식', '간식용과자', '간식조리', '간편간식', '간편요리', '간편조리', '간편조리생선',\n",
    "       '간편조리식품', '간편조리행사', '간편채소', '감', '감귤', '감미료', '건강기능식품', '건강선물세트',\n",
    "       '건강식품', '건과', '건과일', '건면', '건어가공', '건어류', '건오징어', '견과류', '계란',\n",
    "       '계란류', '고등어/삼치', '과실과일', '과자', '과채과일', '과채류', '과채음료', '구색과일', '구이',\n",
    "       '구이찜조리', '국내산계육', '국내산돈육', '국내산우육', '국산게/갈치', '국산과일', '국산과일선물세트',\n",
    "       '굴비', '굴비/반건생선선물세트', '규격RTC', '규격생선선물세트', '근채류', '기능성건강', '기능성음료',\n",
    "       '기타구색생선', '기타국소고기', '기타수산', '기타음주류', '기타조리식품', '기타축산', '기타회',\n",
    "       '김/초밥', '김가공품', '김선물세트', '김치류', '김치채소', '김치채소류', '껌', '꽁치/가자미',\n",
    "       '꿀', '나물', '나물류', '냉동HMR', '냉동MS', '냉동가공', '냉동간식', '냉동과일',\n",
    "       '냉동규격생선', '냉동규격해물', '냉동대용식', '냉동만두', '냉동수산물', '냉장간식MS', '냉장간편식HMR',\n",
    "       '냉장규격생선', '냉장기타MS', '냉장농산', '냉장면류', '냉장반찬', '냉장수산', '냉장식사HMR',\n",
    "       '냉장식사MS', '냉장음료', '냉장축산', '냉장햄세트', '농산물', '단무지류', '닭고기', '담배',\n",
    "       '대구', '대용식', '대중선어', '데일리처분', '도미/민어', '도시락', '돼지고기', '두부', '두유',\n",
    "       '두채류', '디저트', '딸기', '떡', '라면', '레몬', '마른김', '마른안주', '마른안주선물세트',\n",
    "       '만두', '망고', '맥주', '먹거리', '메론', '면류', '멸치', '멸치건명태', '멸치황태미역선물세트',\n",
    "       '묵', '묵/즉석참기름', '미국산소고기', '미역/다시마', '바나나', '반건생선', '반찬', '반찬류',\n",
    "       '발효유', '밤', '밥류', '밥죽류', '배', '버섯', '버섯류', '베이커리', '병통조림', '복숭아',\n",
    "       '복합조미료', '분유', '브랜드돼지고기', '브랜드빵', '브랜드한우', '블루베리', '비스켓', '비타민',\n",
    "       '빵', '뿌리채소', '사과', '새우', '샐러드/간편채소', '샐러드채소', '생선선물세트', '생선초밥',\n",
    "       '생선회', '생수', '생활한방', '석류', '선물세트', '선식', '선식류', '선어가공', '선어류',\n",
    "       '소금/설탕류', '소스류', '소시지', '소주', '수박', '수산품', '수입갈치', '수입감귤과일', '수입게',\n",
    "       '수입고등어', '수입과일', '수입과자', '수입기타과일', '수입기타생선', '수입돈육', '수입돼지고기',\n",
    "       '수입연어', '수입우육', '수입육', '수입육선물세트', '수입음료', '수입조미', '수입포도', '순대',\n",
    "       '스낵', '시리얼', '시즌반찬', '시즌차', '식사류', '식용유', '식용유지', '식자재', '씨리얼',\n",
    "       '아이스크림', '안주', '액상조미료', '약초', '양곡', '양념류', '양념육', '양념채소', '양주',\n",
    "       '양채류', '어묵맛살', '연체', '열대과일', '열대과일기타', '열대과일선물세트', '열매채소', '엽채류',\n",
    "       '오렌지', '오렌지과일기타', '오렌지과일선물세트', '오리고기', '오징어', '온라인규격/간편조리생선',\n",
    "       '온라인돼지고기', '온라인버섯/열매채소', '온라인양념/뿌리채소', '온라인잎/샐러드채소', '온라인잡곡선식',\n",
    "       '온라인저장과일', '온라인해물연체', '와인', '요구르트', '우유', '우육', '원두커피', '유가공',\n",
    "       '유제품', '육가공품', '육류', '육포', '음료', '이벤트조리', '이온음료', '이유식/유아간식',\n",
    "       '인스턴트선물세트', '인스턴트커피', '일반한우', '잎채소', '자두', '자몽', '잡곡', '잡곡류', '장류',\n",
    "       '잼', '전통간식', '전통과자', '전통주', '젓갈/반찬', '젓갈류', '조개', '조개살', '조기/명태',\n",
    "       '조리반찬', '조미김', '조미료', '조미선물세트', '조미오징어', '족발', '종합과자', '주류', '쥐치포',\n",
    "       '즉석구이김', '즉석구이안주', '즉석도정미', '즉석식품', '즉석참기름', '차', '차/커피', '차류',\n",
    "       '차별화돼지고기', '차선물세트', '차음료', '참외', '천연조미료', '체리', '초콜렛', '초콜릿',\n",
    "       '축산가공', '치즈', '치즈버터', '친환경과일', '친환경채소', '캔디', '캔디껌류', '커피', '커피류',\n",
    "       '커피선물세트', '커피음료', '커피차음료', '케첩마요네즈', '콩나물', '쿠키케이크', '키위', '키위/석류',\n",
    "       '탄산음료', '토마토', '통조림', '튀김', '튀김조리', '특산물', '특산물행사', '파이', '파인애플',\n",
    "       '포도', '포도/체리', '포장반찬', '포장반찬HMR', '포장젓갈', '프리미엄과자', '피자', '한과',\n",
    "       '한방식재류', '한방차', '한우선물세트', '해물류', '해물선물세트', '해물연체류', '해조류', '해초',\n",
    "       '해초류', '햄', '햄소시지', '향신료', '호주산소고기', '홍인삼', '황태', '흰우유']:\n",
    "         x = '식품'\n",
    "    elif x in ['개인위생용품', '생리대', '생리용품', '시니어건강용품', '여성용품', '여성위생용품', '위생용품',\n",
    "       '일반의약외품']:\n",
    "         x = '의약품'\n",
    "    elif x in ['DIY욕실용품', 'H&B선물세트', '가정잡화', '건전지', '계절팩', '고양이용품', '공구',\n",
    "       '교환/보수용품', '구강용품', '구강케어', '국내화장품', '균일가', '그릇/수저', '기능헤어케어',\n",
    "       '기저귀', '기초화장품', '남성', '남성용품', '남성케어', '네일메이크업', '담배', '덴탈케어',\n",
    "       '두발용품', '레저취미', '립메이크업', '매트', '면도용품', '물티슈', '미용소품', '미용잡화',\n",
    "       '미용티슈', '밀대/걸레', '바디용품', '바디케어', '방향/제습/탈취제', '베이비케어', '베이스메이크업',\n",
    "       '베이직케어', '보수용품', '살충제', '색조화장품', '생리용품', '생활잡화', '선케어', '섬유유연제',\n",
    "       '세차용품', '세탁세제', '세탁용품', '수납용품', '수예소품', '수예시즌', '수입브랜드', '수족관용품',\n",
    "       '스킨케어', '시니어건강용품', '시니어위생용품', '식기', '아로마', '아이메이크업', '안전용품',\n",
    "       '애견용품', '애완/동물용품', '야외/시즌용품', '야외용품', '여성', '여행용품', '오토바이용품',\n",
    "       '온라인화장품', '욕실용품', '위생용품', '유아동용품', '유아세제', '유아식기', '유아용품',\n",
    "       '유아위생용품', '음식저장/보관', '음식조리', '일반욕실용품', '일반헤어케어', '일용잡화',\n",
    "       '자동차 액세서리', '자동차 정비용품', '자동차 청소용품', '자동차 편의용품', '자동차방향제/소취제',\n",
    "       '자동차장식용품', '자동차처분', '장착용품', '전기용품', '전기전자', '제기용품', '제습제', '조리도구',\n",
    "       '조리용기', '종량제봉투', '주거세제', '주방세제', '주방시즌/균일가', '주방용품', '주방정리',\n",
    "       '주방주거세제', '집중케어', '청소욕실용품', '청소용품', '청소편의도구', '카시트/매트', '클렌징',\n",
    "       '키친타올', '탈취제', '패브릭욕실용품', '표백제', '풋/핸드케어', '프리미엄매트', '핸드/풋케어',\n",
    "       '헤어스타일링', '헤어케어', '화장지', '화장지/티슈', '화장품', '화장품브랜드샵', '훼이셜케어',\n",
    "       '휴대폰용품', '휴지통']:\n",
    "         x = '일상용품'\n",
    "    elif x in ['TRAVEL', '골프', '골프용품', '구기용품', '낚시', '남성스포츠', '남성스포츠NPB',\n",
    "       '남성스포츠PB', '남성스포츠특정', '등산', '라켓스포츠', '레저취미', '롤러보드', '수영복', '스키',\n",
    "       '스포츠', '스포츠ACC', '스포츠NB', '스포츠브랜드편집', '스포츠슈즈', '스포츠웨어', '스포츠의류',\n",
    "       '아웃도어퍼니처', '야외/시즌용품', '여행용품', '워터스포츠', '윈터스포츠', '자동차장식용품', '자전거',\n",
    "       '주니어스포츠', '캠핑', '피트니스', '헬스용품']:\n",
    "         x = '전문스포츠/레저'\n",
    "    elif x in ['NB구두', '가방', '가방브랜드', '구두', '기타', '남성구두', '남성양말', '남성캐주얼', '덧신',\n",
    "       '드레스화브랜드', '란제리/내의', '명품', '모자', '미입점행사', '벨트', '샌들슬리퍼', '섬유잡화',\n",
    "       '슈즈용품', '슈즈행사', '스카프', '스타킹', '스포츠', '시계', '시즌슈즈', '시즌잡화', '썬글라스',\n",
    "       '아동', '아동슈즈', '아동양말', '아동화브랜드', '액세서리', '양말', '양말류', '양말선물세트',\n",
    "       '여성구두', '여성양말', '온라인양말', '우산/양산', '우산/양산류', '운동화', '의류잡화', '잡화멀티샵',\n",
    "       '장갑', '주니어양말', '준보석', '준보석/시계', '지갑', '지갑/벨트', '캐주얼', '캐주얼슈즈',\n",
    "       '캐주얼화브랜드', '트래디셔널', '피혁브랜드', '피혁잡화', '피혁토탈', '핸드백','교복', '기타의류', '남성 트랜디', '남성베이직', '남성브랜드', '남성시즌행사', '남성어덜트캐주얼',\n",
    "       '남성이지캐주얼', '남성정장', '남성캐주얼', '남성행사', '디자이너', '란제리', '란제리/내의',\n",
    "       '란제리브랜드', '마담/어덜트', '명품', '모피/피혁', '미시캐주얼', '병행수입', '복합샵', '블라우스',\n",
    "       '비즈니스정장', '섬유잡화', '성인내의', '셔츠', '스트리트편집샵', '시티웨어', '시티캐주얼', '아동',\n",
    "       '아동내의', '아동복합샵', '언더웨어행사', '여성NPB', '여성PB', '여성베이직', '여성이지캐주얼',\n",
    "       '여성캐주얼브랜드', '여성특정', '유아동NPB', '유아동PB', '유아동특정', '유아브랜드', '유아토들러',\n",
    "       '의류잡화', '이지캐주얼브랜드', '주니어웨어', '캐주얼', '커리어', '트래디셔널', '행사', '홈웨어']:\n",
    "         x = '의류/잡화'\n",
    " \n",
    "    return x "
   ]
  },
  {
   "cell_type": "code",
   "execution_count": null,
   "id": "3346aad6",
   "metadata": {},
   "outputs": [],
   "source": [
    "def map_df(df):\n",
    "  df['분류체계'] = df['중분류명'].map(map_item)"
   ]
  },
  {
   "cell_type": "code",
   "execution_count": null,
   "id": "8c08708a",
   "metadata": {},
   "outputs": [],
   "source": [
    "map_df(df2014_1_new)\n",
    "map_df(df2014_2_new)\n",
    "map_df(df2014_3_new)\n",
    "map_df(df2014_4_new)\n",
    "map_df(df2015_1_new)\n",
    "map_df(df2015_2_new)\n",
    "map_df(df2015_3_new)\n",
    "map_df(df2015_4_new)\n",
    "\n",
    "map_df(df2014_1_exi)\n",
    "map_df(df2014_2_exi)\n",
    "map_df(df2014_3_exi)\n",
    "map_df(df2014_4_exi)\n",
    "map_df(df2015_1_exi)\n",
    "map_df(df2015_2_exi)\n",
    "map_df(df2015_3_exi)\n",
    "map_df(df2015_4_exi)"
   ]
  },
  {
   "cell_type": "code",
   "execution_count": null,
   "id": "912ce89c",
   "metadata": {},
   "outputs": [],
   "source": [
    "def make_df(df_new, df_exi, i = '2014_1'):\n",
    "    df1 = pd.DataFrame(df_new.groupby('분류체계')['구매금액'].sum())\n",
    "    df1 = df1.rename({'구매금액':'신규고객구매금액'}, axis=1)\n",
    "    df1['기존고객구매금액'] = pd.DataFrame(df_exi.groupby('분류체계')['구매금액'].sum())['구매금액'].values\n",
    "    df1['분기'] = i\n",
    "    df1 = df1.reset_index()\n",
    "    return df1\n",
    "\n",
    "def make_count_df(df_new, df_exi, i = '2014_1'):\n",
    "    df1 = pd.DataFrame(df_new.groupby('분류체계')['구매금액'].count())\n",
    "    df1 = df1.rename({'구매금액':'신규고객구매횟수'}, axis=1)\n",
    "    df1['기존고객구매횟수'] = pd.DataFrame(df_exi.groupby('분류체계')['구매금액'].count())['구매금액'].values\n",
    "    df1['분기'] = i\n",
    "    df1 = df1.reset_index()\n",
    "    return df1\n",
    "\n",
    "def append_make_count_df(df_append, df_new, df_exi, i = '2014_1'):\n",
    "    a = make_count_df(df_new, df_exi, i =i)\n",
    "    df_append = df_append.append(a)\n",
    "    return df_append\n",
    "\n",
    "def append_make_df(df_append, df_new, df_exi, i = '2014_1'):\n",
    "    a = make_df(df_new, df_exi, i =i)\n",
    "    df_append = df_append.append(a)\n",
    "    return df_append"
   ]
  },
  {
   "cell_type": "code",
   "execution_count": null,
   "id": "9b2a1c37",
   "metadata": {},
   "outputs": [],
   "source": [
    "data = pd.DataFrame()\n",
    "data = append_make_df(data, df2014_1_new, df2014_1_exi, i = '2014_1')\n",
    "data = append_make_df(data, df2014_2_new, df2014_2_exi, i = '2014_2')\n",
    "data = append_make_df(data, df2014_3_new, df2014_3_exi, i = '2014_3')\n",
    "data = append_make_df(data, df2014_4_new, df2014_4_exi, i = '2014_4')\n",
    "\n",
    "data_count = pd.DataFrame()\n",
    "data_count = append_make_count_df(data_count, df2014_1_new, df2014_1_exi, i = '2014_1')\n",
    "data_count = append_make_count_df(data_count, df2014_2_new, df2014_2_exi, i = '2014_2')\n",
    "data_count = append_make_count_df(data_count, df2014_3_new, df2014_3_exi, i = '2014_3')\n",
    "data_count = append_make_count_df(data_count, df2014_4_new, df2014_4_exi, i = '2014_4')"
   ]
  },
  {
   "cell_type": "code",
   "execution_count": null,
   "id": "c81ed158",
   "metadata": {},
   "outputs": [],
   "source": [
    "plt.figure(figsize=(20,30))\n",
    "sns.barplot(x = '분기', y = '기존고객구매금액', data = data, hue='분류체계', color='green')\n",
    "sns.barplot(x = '분기', y = '신규고객구매금액', data = data, hue='분류체계', color='yellow')\n",
    "plt.show()"
   ]
  },
  {
   "cell_type": "code",
   "execution_count": null,
   "id": "1527b70a",
   "metadata": {},
   "outputs": [],
   "source": [
    "data1 = pd.DataFrame()\n",
    "data1 = append_make_df(data1, df2015_1_new, df2015_1_exi, i = '2015_1')\n",
    "data1 = append_make_df(data1, df2015_2_new, df2015_2_exi, i = '2015_2')\n",
    "data1 = append_make_df(data1, df2015_3_new, df2015_3_exi, i = '2015_3')\n",
    "data1 = append_make_df(data1, df2015_4_new, df2015_4_exi, i = '2015_4')\n",
    "\n",
    "data_count1 = pd.DataFrame()\n",
    "data_count1 = append_make_count_df(data_count1, df2015_1_new, df2015_1_exi, i = '2015_1')\n",
    "data_count1 = append_make_count_df(data_count1, df2015_2_new, df2015_2_exi, i = '2015_2')\n",
    "data_count1 = append_make_count_df(data_count1, df2015_3_new, df2015_3_exi, i = '2015_3')\n",
    "data_count1 = append_make_count_df(data_count1, df2015_4_new, df2015_4_exi, i = '2015_4')"
   ]
  },
  {
   "cell_type": "code",
   "execution_count": null,
   "id": "6b1d637e",
   "metadata": {},
   "outputs": [],
   "source": [
    "plt.figure(figsize=(20,30))\n",
    "sns.barplot(x = '분기', y = '기존고객구매금액', data = data1, hue='분류체계', color='blue')\n",
    "sns.barplot(x = '분기', y = '신규고객구매금액', data = data1, hue='분류체계', color='yellow')\n",
    "plt.show()"
   ]
  },
  {
   "cell_type": "code",
   "execution_count": null,
   "id": "5c1fcdd8",
   "metadata": {},
   "outputs": [],
   "source": [
    "def plt_count_df(da, color='green'):\n",
    "    plt.figure(figsize=(20,30))\n",
    "    plt.rc('font', family='NanumGothic')\n",
    "    sns.barplot(x = '분기', y = '기존고객구매횟수', data = da, hue='분류체계', color=color)\n",
    "    sns.barplot(x = '분기', y = '신규고객구매횟수', data = da, hue='분류체계', color='yellow')\n",
    "    plt.show()"
   ]
  },
  {
   "cell_type": "code",
   "execution_count": null,
   "id": "91910489",
   "metadata": {},
   "outputs": [],
   "source": [
    "plt_count_df(data_count)"
   ]
  },
  {
   "cell_type": "code",
   "execution_count": null,
   "id": "96c19905",
   "metadata": {},
   "outputs": [],
   "source": [
    "plt_count_df(data_count1)"
   ]
  },
  {
   "cell_type": "code",
   "execution_count": null,
   "id": "84acf8f8",
   "metadata": {},
   "outputs": [],
   "source": [
    "data_count_drop = data_count[data_count['분류체계'] != '기타']\n",
    "data_count1_drop = data_count1[data_count1['분류체계'] != '기타']\n",
    "data_count_drop2 = data_count_drop[data_count_drop['분류체계'] != '식품']\n",
    "data_count1_drop2 = data_count1_drop[data_count1_drop['분류체계'] != '식품']"
   ]
  },
  {
   "cell_type": "code",
   "execution_count": null,
   "id": "7419730f",
   "metadata": {},
   "outputs": [],
   "source": [
    "plt_count_df(data_count_drop2)"
   ]
  }
 ],
 "metadata": {
  "kernelspec": {
   "display_name": "Python 3",
   "language": "python",
   "name": "python3"
  },
  "language_info": {
   "codemirror_mode": {
    "name": "ipython",
    "version": 3
   },
   "file_extension": ".py",
   "mimetype": "text/x-python",
   "name": "python",
   "nbconvert_exporter": "python",
   "pygments_lexer": "ipython3",
   "version": "3.8.10"
  }
 },
 "nbformat": 4,
 "nbformat_minor": 5
}
