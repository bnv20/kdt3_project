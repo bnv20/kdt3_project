{
 "cells": [
  {
   "cell_type": "code",
   "execution_count": 1,
   "id": "329eff23",
   "metadata": {},
   "outputs": [],
   "source": [
    "import pandas as pd"
   ]
  },
  {
   "cell_type": "code",
   "execution_count": 3,
   "id": "3e3240d7",
   "metadata": {},
   "outputs": [
    {
     "data": {
      "text/html": [
       "<div>\n",
       "<style scoped>\n",
       "    .dataframe tbody tr th:only-of-type {\n",
       "        vertical-align: middle;\n",
       "    }\n",
       "\n",
       "    .dataframe tbody tr th {\n",
       "        vertical-align: top;\n",
       "    }\n",
       "\n",
       "    .dataframe thead th {\n",
       "        text-align: right;\n",
       "    }\n",
       "</style>\n",
       "<table border=\"1\" class=\"dataframe\">\n",
       "  <thead>\n",
       "    <tr style=\"text-align: right;\">\n",
       "      <th></th>\n",
       "      <th>제휴사</th>\n",
       "      <th>영수증번호</th>\n",
       "      <th>대분류코드</th>\n",
       "      <th>중분류코드</th>\n",
       "      <th>소분류코드</th>\n",
       "      <th>고객번호</th>\n",
       "      <th>점포코드</th>\n",
       "      <th>구매일자</th>\n",
       "      <th>구매시간</th>\n",
       "      <th>구매금액</th>\n",
       "    </tr>\n",
       "  </thead>\n",
       "  <tbody>\n",
       "    <tr>\n",
       "      <th>0</th>\n",
       "      <td>B</td>\n",
       "      <td>8664000</td>\n",
       "      <td>15</td>\n",
       "      <td>1504</td>\n",
       "      <td>B150401</td>\n",
       "      <td>17218</td>\n",
       "      <td>44</td>\n",
       "      <td>20140222</td>\n",
       "      <td>20</td>\n",
       "      <td>2420</td>\n",
       "    </tr>\n",
       "    <tr>\n",
       "      <th>1</th>\n",
       "      <td>B</td>\n",
       "      <td>8664000</td>\n",
       "      <td>16</td>\n",
       "      <td>1601</td>\n",
       "      <td>B160101</td>\n",
       "      <td>17218</td>\n",
       "      <td>44</td>\n",
       "      <td>20140222</td>\n",
       "      <td>20</td>\n",
       "      <td>1070</td>\n",
       "    </tr>\n",
       "    <tr>\n",
       "      <th>2</th>\n",
       "      <td>B</td>\n",
       "      <td>8664000</td>\n",
       "      <td>16</td>\n",
       "      <td>1602</td>\n",
       "      <td>B160201</td>\n",
       "      <td>17218</td>\n",
       "      <td>44</td>\n",
       "      <td>20140222</td>\n",
       "      <td>20</td>\n",
       "      <td>8060</td>\n",
       "    </tr>\n",
       "    <tr>\n",
       "      <th>3</th>\n",
       "      <td>B</td>\n",
       "      <td>8664000</td>\n",
       "      <td>18</td>\n",
       "      <td>1803</td>\n",
       "      <td>B180301</td>\n",
       "      <td>17218</td>\n",
       "      <td>44</td>\n",
       "      <td>20140222</td>\n",
       "      <td>20</td>\n",
       "      <td>6000</td>\n",
       "    </tr>\n",
       "    <tr>\n",
       "      <th>4</th>\n",
       "      <td>B</td>\n",
       "      <td>8664001</td>\n",
       "      <td>5</td>\n",
       "      <td>509</td>\n",
       "      <td>B050901</td>\n",
       "      <td>17674</td>\n",
       "      <td>44</td>\n",
       "      <td>20140222</td>\n",
       "      <td>22</td>\n",
       "      <td>1120</td>\n",
       "    </tr>\n",
       "  </tbody>\n",
       "</table>\n",
       "</div>"
      ],
      "text/plain": [
       "  제휴사    영수증번호  대분류코드  중분류코드    소분류코드   고객번호  점포코드      구매일자  구매시간  구매금액\n",
       "0   B  8664000     15   1504  B150401  17218    44  20140222    20  2420\n",
       "1   B  8664000     16   1601  B160101  17218    44  20140222    20  1070\n",
       "2   B  8664000     16   1602  B160201  17218    44  20140222    20  8060\n",
       "3   B  8664000     18   1803  B180301  17218    44  20140222    20  6000\n",
       "4   B  8664001      5    509  B050901  17674    44  20140222    22  1120"
      ]
     },
     "execution_count": 3,
     "metadata": {},
     "output_type": "execute_result"
    }
   ],
   "source": [
    "df_product = pd.read_csv('../LOTT/구매상품TR.txt',sep=',',encoding='cp949')\n",
    "\n",
    "df_product.head()"
   ]
  },
  {
   "cell_type": "code",
   "execution_count": 4,
   "id": "059fd375-2894-428b-ac8e-5ed901a3729c",
   "metadata": {},
   "outputs": [],
   "source": [
    "def data_info(df,null_count_standard): # 0 넣어줘야 전체 뽑힘\n",
    "    display(df.head(2))\n",
    "    print('[shape] : ',df.shape)\n",
    "    print('[rows] : {} , [columns] : {}'.format(df.shape[0],df.shape[1]),'\\n')\n",
    "    print('[house_value_counts] : ',df.dtypes.value_counts(),'\\n')\n",
    "    print('[columns] : ' ,df.columns,'\\n')\n",
    "    nl_v = df.isnull().sum()\n",
    "    print('[Null_values] : ','\\n',nl_v[nl_v>null_count_standard].sort_values(ascending=False))\n",
    "    print('[Null_columns] : ','\\n', list(nl_v[nl_v>null_count_standard].keys()))\n"
   ]
  },
  {
   "cell_type": "code",
   "execution_count": 5,
   "id": "9208a20d-562e-401a-90a2-1711fae9a75f",
   "metadata": {},
   "outputs": [
    {
     "data": {
      "text/html": [
       "<div>\n",
       "<style scoped>\n",
       "    .dataframe tbody tr th:only-of-type {\n",
       "        vertical-align: middle;\n",
       "    }\n",
       "\n",
       "    .dataframe tbody tr th {\n",
       "        vertical-align: top;\n",
       "    }\n",
       "\n",
       "    .dataframe thead th {\n",
       "        text-align: right;\n",
       "    }\n",
       "</style>\n",
       "<table border=\"1\" class=\"dataframe\">\n",
       "  <thead>\n",
       "    <tr style=\"text-align: right;\">\n",
       "      <th></th>\n",
       "      <th>제휴사</th>\n",
       "      <th>영수증번호</th>\n",
       "      <th>대분류코드</th>\n",
       "      <th>중분류코드</th>\n",
       "      <th>소분류코드</th>\n",
       "      <th>고객번호</th>\n",
       "      <th>점포코드</th>\n",
       "      <th>구매일자</th>\n",
       "      <th>구매시간</th>\n",
       "      <th>구매금액</th>\n",
       "    </tr>\n",
       "  </thead>\n",
       "  <tbody>\n",
       "    <tr>\n",
       "      <th>0</th>\n",
       "      <td>B</td>\n",
       "      <td>8664000</td>\n",
       "      <td>15</td>\n",
       "      <td>1504</td>\n",
       "      <td>B150401</td>\n",
       "      <td>17218</td>\n",
       "      <td>44</td>\n",
       "      <td>20140222</td>\n",
       "      <td>20</td>\n",
       "      <td>2420</td>\n",
       "    </tr>\n",
       "    <tr>\n",
       "      <th>1</th>\n",
       "      <td>B</td>\n",
       "      <td>8664000</td>\n",
       "      <td>16</td>\n",
       "      <td>1601</td>\n",
       "      <td>B160101</td>\n",
       "      <td>17218</td>\n",
       "      <td>44</td>\n",
       "      <td>20140222</td>\n",
       "      <td>20</td>\n",
       "      <td>1070</td>\n",
       "    </tr>\n",
       "  </tbody>\n",
       "</table>\n",
       "</div>"
      ],
      "text/plain": [
       "  제휴사    영수증번호  대분류코드  중분류코드    소분류코드   고객번호  점포코드      구매일자  구매시간  구매금액\n",
       "0   B  8664000     15   1504  B150401  17218    44  20140222    20  2420\n",
       "1   B  8664000     16   1601  B160101  17218    44  20140222    20  1070"
      ]
     },
     "metadata": {},
     "output_type": "display_data"
    },
    {
     "name": "stdout",
     "output_type": "stream",
     "text": [
      "[shape] :  (28593030, 10)\n",
      "[rows] : 28593030 , [columns] : 10 \n",
      "\n",
      "[house_value_counts] :  int64     8\n",
      "object    2\n",
      "dtype: int64 \n",
      "\n",
      "[columns] :  Index(['제휴사', '영수증번호', '대분류코드', '중분류코드', '소분류코드', '고객번호', '점포코드', '구매일자',\n",
      "       '구매시간', '구매금액'],\n",
      "      dtype='object') \n",
      "\n",
      "[Null_values] :  \n",
      " Series([], dtype: int64)\n",
      "[Null_columns] :  \n",
      " []\n"
     ]
    }
   ],
   "source": [
    "data_info(df_product,0)"
   ]
  },
  {
   "cell_type": "code",
   "execution_count": 6,
   "id": "6018f86b",
   "metadata": {
    "scrolled": true
   },
   "outputs": [
    {
     "name": "stdout",
     "output_type": "stream",
     "text": [
      "대분류 코드 갯수: 92\n"
     ]
    }
   ],
   "source": [
    "print('대분류 코드 갯수:' , df_product['대분류코드'].nunique())"
   ]
  },
  {
   "cell_type": "code",
   "execution_count": 26,
   "id": "c94395ba",
   "metadata": {},
   "outputs": [
    {
     "name": "stdout",
     "output_type": "stream",
     "text": [
      "고객수: 19383\n"
     ]
    }
   ],
   "source": [
    "print('고객수:',df_product['고객번호'].nunique())"
   ]
  },
  {
   "cell_type": "code",
   "execution_count": 25,
   "id": "a5eb7a6c",
   "metadata": {},
   "outputs": [
    {
     "data": {
      "text/html": [
       "<div>\n",
       "<style scoped>\n",
       "    .dataframe tbody tr th:only-of-type {\n",
       "        vertical-align: middle;\n",
       "    }\n",
       "\n",
       "    .dataframe tbody tr th {\n",
       "        vertical-align: top;\n",
       "    }\n",
       "\n",
       "    .dataframe thead th {\n",
       "        text-align: right;\n",
       "    }\n",
       "</style>\n",
       "<table border=\"1\" class=\"dataframe\">\n",
       "  <thead>\n",
       "    <tr style=\"text-align: right;\">\n",
       "      <th></th>\n",
       "      <th>count</th>\n",
       "    </tr>\n",
       "    <tr>\n",
       "      <th>제휴사</th>\n",
       "      <th></th>\n",
       "    </tr>\n",
       "  </thead>\n",
       "  <tbody>\n",
       "    <tr>\n",
       "      <th>B</th>\n",
       "      <td>13338074</td>\n",
       "    </tr>\n",
       "    <tr>\n",
       "      <th>C</th>\n",
       "      <td>9379236</td>\n",
       "    </tr>\n",
       "    <tr>\n",
       "      <th>A</th>\n",
       "      <td>5770318</td>\n",
       "    </tr>\n",
       "    <tr>\n",
       "      <th>D</th>\n",
       "      <td>105402</td>\n",
       "    </tr>\n",
       "  </tbody>\n",
       "</table>\n",
       "</div>"
      ],
      "text/plain": [
       "        count\n",
       "제휴사          \n",
       "B    13338074\n",
       "C     9379236\n",
       "A     5770318\n",
       "D      105402"
      ]
     },
     "execution_count": 25,
     "metadata": {},
     "output_type": "execute_result"
    }
   ],
   "source": [
    "membership_count = pd.DataFrame(df_product[['제휴사']].value_counts(),columns=['count'])\n",
    "membership_count"
   ]
  },
  {
   "cell_type": "code",
   "execution_count": 27,
   "id": "9332e19c",
   "metadata": {
    "scrolled": true
   },
   "outputs": [
    {
     "name": "stdout",
     "output_type": "stream",
     "text": [
      "<class 'pandas.core.frame.DataFrame'>\n",
      "RangeIndex: 28593030 entries, 0 to 28593029\n",
      "Data columns (total 10 columns):\n",
      " #   Column  Dtype \n",
      "---  ------  ----- \n",
      " 0   제휴사     object\n",
      " 1   영수증번호   int64 \n",
      " 2   대분류코드   int64 \n",
      " 3   중분류코드   int64 \n",
      " 4   소분류코드   object\n",
      " 5   고객번호    int64 \n",
      " 6   점포코드    int64 \n",
      " 7   구매일자    int64 \n",
      " 8   구매시간    int64 \n",
      " 9   구매금액    int64 \n",
      "dtypes: int64(8), object(2)\n",
      "memory usage: 2.1+ GB\n"
     ]
    }
   ],
   "source": [
    "df_product.info()"
   ]
  },
  {
   "cell_type": "code",
   "execution_count": 29,
   "id": "f4ad439d",
   "metadata": {
    "scrolled": true
   },
   "outputs": [
    {
     "data": {
      "text/plain": [
       "23677.76891574625"
      ]
     },
     "execution_count": 29,
     "metadata": {},
     "output_type": "execute_result"
    }
   ],
   "source": [
    "df_product['구매금액'].mean()"
   ]
  },
  {
   "cell_type": "code",
   "execution_count": 36,
   "id": "6f7563ba",
   "metadata": {},
   "outputs": [
    {
     "data": {
      "text/html": [
       "<div>\n",
       "<style scoped>\n",
       "    .dataframe tbody tr th:only-of-type {\n",
       "        vertical-align: middle;\n",
       "    }\n",
       "\n",
       "    .dataframe tbody tr th {\n",
       "        vertical-align: top;\n",
       "    }\n",
       "\n",
       "    .dataframe thead th {\n",
       "        text-align: right;\n",
       "    }\n",
       "</style>\n",
       "<table border=\"1\" class=\"dataframe\">\n",
       "  <thead>\n",
       "    <tr style=\"text-align: right;\">\n",
       "      <th></th>\n",
       "      <th>제휴사</th>\n",
       "      <th>영수증번호</th>\n",
       "      <th>대분류코드</th>\n",
       "      <th>중분류코드</th>\n",
       "      <th>소분류코드</th>\n",
       "      <th>점포코드</th>\n",
       "      <th>구매일자</th>\n",
       "      <th>구매시간</th>\n",
       "      <th>구매금액</th>\n",
       "    </tr>\n",
       "    <tr>\n",
       "      <th>고객번호</th>\n",
       "      <th></th>\n",
       "      <th></th>\n",
       "      <th></th>\n",
       "      <th></th>\n",
       "      <th></th>\n",
       "      <th></th>\n",
       "      <th></th>\n",
       "      <th></th>\n",
       "      <th></th>\n",
       "    </tr>\n",
       "  </thead>\n",
       "  <tbody>\n",
       "    <tr>\n",
       "      <th>1</th>\n",
       "      <td>1057</td>\n",
       "      <td>1057</td>\n",
       "      <td>1057</td>\n",
       "      <td>1057</td>\n",
       "      <td>1057</td>\n",
       "      <td>1057</td>\n",
       "      <td>1057</td>\n",
       "      <td>1057</td>\n",
       "      <td>1057</td>\n",
       "    </tr>\n",
       "    <tr>\n",
       "      <th>2</th>\n",
       "      <td>1116</td>\n",
       "      <td>1116</td>\n",
       "      <td>1116</td>\n",
       "      <td>1116</td>\n",
       "      <td>1116</td>\n",
       "      <td>1116</td>\n",
       "      <td>1116</td>\n",
       "      <td>1116</td>\n",
       "      <td>1116</td>\n",
       "    </tr>\n",
       "    <tr>\n",
       "      <th>3</th>\n",
       "      <td>1191</td>\n",
       "      <td>1191</td>\n",
       "      <td>1191</td>\n",
       "      <td>1191</td>\n",
       "      <td>1191</td>\n",
       "      <td>1191</td>\n",
       "      <td>1191</td>\n",
       "      <td>1191</td>\n",
       "      <td>1191</td>\n",
       "    </tr>\n",
       "    <tr>\n",
       "      <th>4</th>\n",
       "      <td>930</td>\n",
       "      <td>930</td>\n",
       "      <td>930</td>\n",
       "      <td>930</td>\n",
       "      <td>930</td>\n",
       "      <td>930</td>\n",
       "      <td>930</td>\n",
       "      <td>930</td>\n",
       "      <td>930</td>\n",
       "    </tr>\n",
       "    <tr>\n",
       "      <th>5</th>\n",
       "      <td>719</td>\n",
       "      <td>719</td>\n",
       "      <td>719</td>\n",
       "      <td>719</td>\n",
       "      <td>719</td>\n",
       "      <td>719</td>\n",
       "      <td>719</td>\n",
       "      <td>719</td>\n",
       "      <td>719</td>\n",
       "    </tr>\n",
       "    <tr>\n",
       "      <th>...</th>\n",
       "      <td>...</td>\n",
       "      <td>...</td>\n",
       "      <td>...</td>\n",
       "      <td>...</td>\n",
       "      <td>...</td>\n",
       "      <td>...</td>\n",
       "      <td>...</td>\n",
       "      <td>...</td>\n",
       "      <td>...</td>\n",
       "    </tr>\n",
       "    <tr>\n",
       "      <th>19379</th>\n",
       "      <td>584</td>\n",
       "      <td>584</td>\n",
       "      <td>584</td>\n",
       "      <td>584</td>\n",
       "      <td>584</td>\n",
       "      <td>584</td>\n",
       "      <td>584</td>\n",
       "      <td>584</td>\n",
       "      <td>584</td>\n",
       "    </tr>\n",
       "    <tr>\n",
       "      <th>19380</th>\n",
       "      <td>440</td>\n",
       "      <td>440</td>\n",
       "      <td>440</td>\n",
       "      <td>440</td>\n",
       "      <td>440</td>\n",
       "      <td>440</td>\n",
       "      <td>440</td>\n",
       "      <td>440</td>\n",
       "      <td>440</td>\n",
       "    </tr>\n",
       "    <tr>\n",
       "      <th>19381</th>\n",
       "      <td>805</td>\n",
       "      <td>805</td>\n",
       "      <td>805</td>\n",
       "      <td>805</td>\n",
       "      <td>805</td>\n",
       "      <td>805</td>\n",
       "      <td>805</td>\n",
       "      <td>805</td>\n",
       "      <td>805</td>\n",
       "    </tr>\n",
       "    <tr>\n",
       "      <th>19382</th>\n",
       "      <td>906</td>\n",
       "      <td>906</td>\n",
       "      <td>906</td>\n",
       "      <td>906</td>\n",
       "      <td>906</td>\n",
       "      <td>906</td>\n",
       "      <td>906</td>\n",
       "      <td>906</td>\n",
       "      <td>906</td>\n",
       "    </tr>\n",
       "    <tr>\n",
       "      <th>19383</th>\n",
       "      <td>260</td>\n",
       "      <td>260</td>\n",
       "      <td>260</td>\n",
       "      <td>260</td>\n",
       "      <td>260</td>\n",
       "      <td>260</td>\n",
       "      <td>260</td>\n",
       "      <td>260</td>\n",
       "      <td>260</td>\n",
       "    </tr>\n",
       "  </tbody>\n",
       "</table>\n",
       "<p>19383 rows × 9 columns</p>\n",
       "</div>"
      ],
      "text/plain": [
       "        제휴사  영수증번호  대분류코드  중분류코드  소분류코드  점포코드  구매일자  구매시간  구매금액\n",
       "고객번호                                                           \n",
       "1      1057   1057   1057   1057   1057  1057  1057  1057  1057\n",
       "2      1116   1116   1116   1116   1116  1116  1116  1116  1116\n",
       "3      1191   1191   1191   1191   1191  1191  1191  1191  1191\n",
       "4       930    930    930    930    930   930   930   930   930\n",
       "5       719    719    719    719    719   719   719   719   719\n",
       "...     ...    ...    ...    ...    ...   ...   ...   ...   ...\n",
       "19379   584    584    584    584    584   584   584   584   584\n",
       "19380   440    440    440    440    440   440   440   440   440\n",
       "19381   805    805    805    805    805   805   805   805   805\n",
       "19382   906    906    906    906    906   906   906   906   906\n",
       "19383   260    260    260    260    260   260   260   260   260\n",
       "\n",
       "[19383 rows x 9 columns]"
      ]
     },
     "execution_count": 36,
     "metadata": {},
     "output_type": "execute_result"
    }
   ],
   "source": [
    "df_product.groupby('고객번호').count()"
   ]
  },
  {
   "cell_type": "code",
   "execution_count": 35,
   "id": "01573d73",
   "metadata": {},
   "outputs": [
    {
     "data": {
      "text/plain": [
       "고객번호\n",
       "14599    4648468\n",
       "15999    4334747\n",
       "16406    2680405\n",
       "7957     2538535\n",
       "8079     2429896\n",
       "16005    2267099\n",
       "13376    1796194\n",
       "10487    1404958\n",
       "11763    1375067\n",
       "6207     1301821\n",
       "Name: 구매금액, dtype: int32"
      ]
     },
     "execution_count": 35,
     "metadata": {},
     "output_type": "execute_result"
    }
   ],
   "source": [
    "df_product.groupby('고객번호')['구매금액'].mean().sort_values(ascending=False)[:10].astype(int)"
   ]
  }
 ],
 "metadata": {
  "kernelspec": {
   "display_name": "Python 3",
   "language": "python",
   "name": "python3"
  },
  "language_info": {
   "codemirror_mode": {
    "name": "ipython",
    "version": 3
   },
   "file_extension": ".py",
   "mimetype": "text/x-python",
   "name": "python",
   "nbconvert_exporter": "python",
   "pygments_lexer": "ipython3",
   "version": "3.8.11"
  }
 },
 "nbformat": 4,
 "nbformat_minor": 5
}
