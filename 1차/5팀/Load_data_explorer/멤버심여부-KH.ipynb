{
 "cells": [
  {
   "cell_type": "code",
   "execution_count": 1,
   "id": "5df89a7c-02e0-4571-b864-e29ce8a25ce7",
   "metadata": {},
   "outputs": [],
   "source": [
    "import pandas as pd"
   ]
  },
  {
   "cell_type": "code",
   "execution_count": 2,
   "id": "9862f156-4f61-4fe4-8b5b-8fd1c534d432",
   "metadata": {},
   "outputs": [
    {
     "data": {
      "text/html": [
       "<div>\n",
       "<style scoped>\n",
       "    .dataframe tbody tr th:only-of-type {\n",
       "        vertical-align: middle;\n",
       "    }\n",
       "\n",
       "    .dataframe tbody tr th {\n",
       "        vertical-align: top;\n",
       "    }\n",
       "\n",
       "    .dataframe thead th {\n",
       "        text-align: right;\n",
       "    }\n",
       "</style>\n",
       "<table border=\"1\" class=\"dataframe\">\n",
       "  <thead>\n",
       "    <tr style=\"text-align: right;\">\n",
       "      <th></th>\n",
       "      <th>고객번호</th>\n",
       "      <th>멤버십명</th>\n",
       "      <th>가입년월</th>\n",
       "    </tr>\n",
       "  </thead>\n",
       "  <tbody>\n",
       "    <tr>\n",
       "      <th>0</th>\n",
       "      <td>11</td>\n",
       "      <td>하이마트</td>\n",
       "      <td>201512</td>\n",
       "    </tr>\n",
       "    <tr>\n",
       "      <th>1</th>\n",
       "      <td>21</td>\n",
       "      <td>하이마트</td>\n",
       "      <td>201506</td>\n",
       "    </tr>\n",
       "    <tr>\n",
       "      <th>2</th>\n",
       "      <td>37</td>\n",
       "      <td>하이마트</td>\n",
       "      <td>201306</td>\n",
       "    </tr>\n",
       "    <tr>\n",
       "      <th>3</th>\n",
       "      <td>43</td>\n",
       "      <td>하이마트</td>\n",
       "      <td>201403</td>\n",
       "    </tr>\n",
       "    <tr>\n",
       "      <th>4</th>\n",
       "      <td>44</td>\n",
       "      <td>하이마트</td>\n",
       "      <td>201411</td>\n",
       "    </tr>\n",
       "  </tbody>\n",
       "</table>\n",
       "</div>"
      ],
      "text/plain": [
       "   고객번호  멤버십명    가입년월\n",
       "0    11  하이마트  201512\n",
       "1    21  하이마트  201506\n",
       "2    37  하이마트  201306\n",
       "3    43  하이마트  201403\n",
       "4    44  하이마트  201411"
      ]
     },
     "execution_count": 2,
     "metadata": {},
     "output_type": "execute_result"
    }
   ],
   "source": [
    "df_mem = pd.read_csv('../LOTT/멤버십여부.txt',sep=',',encoding='cp949')\n",
    "df_mem.head()"
   ]
  },
  {
   "cell_type": "code",
   "execution_count": 3,
   "id": "466741d4-3ec9-4539-9a45-cff7e84200f1",
   "metadata": {},
   "outputs": [],
   "source": [
    "def data_info(df,null_count_standard): # 0 넣어줘야 전체 뽑힘\n",
    "    display(df.head(2))\n",
    "    print('[shape] : ',df.shape)\n",
    "    print('[rows] : {} , [columns] : {}'.format(df.shape[0],df.shape[1]),'\\n')\n",
    "    print('[value_counts] : \\n',df.dtypes.value_counts(),'\\n')\n",
    "    print('[columns] : ' ,df.columns,'\\n')\n",
    "    nl_v = df.isnull().sum()\n",
    "    print('[Null_values] : ','\\n',nl_v[nl_v>null_count_standard].sort_values(ascending=False))\n",
    "    print('[Null_columns] : ','\\n', list(nl_v[nl_v>null_count_standard].keys()))\n",
    "    return "
   ]
  },
  {
   "cell_type": "code",
   "execution_count": 4,
   "id": "dcc92c65-bf03-42a4-b230-85de6eaa27cc",
   "metadata": {},
   "outputs": [
    {
     "data": {
      "text/html": [
       "<div>\n",
       "<style scoped>\n",
       "    .dataframe tbody tr th:only-of-type {\n",
       "        vertical-align: middle;\n",
       "    }\n",
       "\n",
       "    .dataframe tbody tr th {\n",
       "        vertical-align: top;\n",
       "    }\n",
       "\n",
       "    .dataframe thead th {\n",
       "        text-align: right;\n",
       "    }\n",
       "</style>\n",
       "<table border=\"1\" class=\"dataframe\">\n",
       "  <thead>\n",
       "    <tr style=\"text-align: right;\">\n",
       "      <th></th>\n",
       "      <th>고객번호</th>\n",
       "      <th>멤버십명</th>\n",
       "      <th>가입년월</th>\n",
       "    </tr>\n",
       "  </thead>\n",
       "  <tbody>\n",
       "    <tr>\n",
       "      <th>0</th>\n",
       "      <td>11</td>\n",
       "      <td>하이마트</td>\n",
       "      <td>201512</td>\n",
       "    </tr>\n",
       "    <tr>\n",
       "      <th>1</th>\n",
       "      <td>21</td>\n",
       "      <td>하이마트</td>\n",
       "      <td>201506</td>\n",
       "    </tr>\n",
       "  </tbody>\n",
       "</table>\n",
       "</div>"
      ],
      "text/plain": [
       "   고객번호  멤버십명    가입년월\n",
       "0    11  하이마트  201512\n",
       "1    21  하이마트  201506"
      ]
     },
     "metadata": {},
     "output_type": "display_data"
    },
    {
     "name": "stdout",
     "output_type": "stream",
     "text": [
      "[shape] :  (7456, 3)\n",
      "[rows] : 7456 , [columns] : 3 \n",
      "\n",
      "[value_counts] : \n",
      " int64     2\n",
      "object    1\n",
      "dtype: int64 \n",
      "\n",
      "[columns] :  Index(['고객번호', '멤버십명', '가입년월'], dtype='object') \n",
      "\n",
      "[Null_values] :  \n",
      " Series([], dtype: int64)\n",
      "[Null_columns] :  \n",
      " []\n"
     ]
    }
   ],
   "source": [
    "data_info(df_mem,0)"
   ]
  },
  {
   "cell_type": "code",
   "execution_count": 5,
   "id": "eb90bc5f-af0c-4db0-8f18-1cd82e2e81c1",
   "metadata": {},
   "outputs": [],
   "source": [
    "def col_info(df):\n",
    "    print('[columns] : ' ,df.columns,'\\n')\n",
    "    for column in df.columns:\n",
    "        print(\"[\",column,\"]\\n\")\n",
    "        print(\" -unique : \", df[column].unique())\n",
    "        print(\" -nunique : \", df[column].nunique())\n",
    "        print(\" -type : \", df[column].dtypes,'\\n')\n",
    "    return"
   ]
  },
  {
   "cell_type": "code",
   "execution_count": 6,
   "id": "71d09fdb-d64a-4e74-b5fc-cf63daa3a61b",
   "metadata": {},
   "outputs": [
    {
     "name": "stdout",
     "output_type": "stream",
     "text": [
      "[columns] :  Index(['고객번호', '멤버십명', '가입년월'], dtype='object') \n",
      "\n",
      "[ 고객번호 ]\n",
      "\n",
      " -unique :  [   11    21    37 ... 19380 19381 19383]\n",
      " -nunique :  6498\n",
      " -type :  int64 \n",
      "\n",
      "[ 멤버십명 ]\n",
      "\n",
      " -unique :  ['하이마트' '다둥이' '롭스' '더영']\n",
      " -nunique :  4\n",
      " -type :  object \n",
      "\n",
      "[ 가입년월 ]\n",
      "\n",
      " -unique :  [201512 201506 201306 201403 201411 201312 201404 201406 201311 201503\n",
      " 201412 201508 201310 201402 201510 201410 201502 201308 201309 201407\n",
      " 201504 201511 201405 201501 201505 201507 201401 201408 201409 201509\n",
      " 201307 201303 201304 201305 201302 201210 201301 201211 201212]\n",
      " -nunique :  39\n",
      " -type :  int64 \n",
      "\n"
     ]
    }
   ],
   "source": [
    "col_info(df_mem)"
   ]
  },
  {
   "cell_type": "markdown",
   "id": "1755a04a-197e-4132-992b-c9d029d222b5",
   "metadata": {},
   "source": [
    "- 멤버쉽;\n",
    "    - L-point 를 사용하는 카드들.\n",
    "    - 하이마트 / 롭스 / 더 영/ 다둥이\n",
    "    \n",
    "    - 다둥이카드 (롯데마트 2015년도)"
   ]
  },
  {
   "cell_type": "code",
   "execution_count": 8,
   "id": "8a17494e-c39f-463c-8ba6-e804c2283421",
   "metadata": {},
   "outputs": [],
   "source": [
    "# 다둥이카드\n",
    "# https://m.blog.naver.com/PostView.naver?isHttpsRedirect=true&blogId=chunja0313&logNo=220476964990"
   ]
  },
  {
   "cell_type": "code",
   "execution_count": null,
   "id": "b938a7e0-5cae-409c-833a-7f402fd83420",
   "metadata": {},
   "outputs": [],
   "source": []
  }
 ],
 "metadata": {
  "kernelspec": {
   "display_name": "Python 3",
   "language": "python",
   "name": "python3"
  },
  "language_info": {
   "codemirror_mode": {
    "name": "ipython",
    "version": 3
   },
   "file_extension": ".py",
   "mimetype": "text/x-python",
   "name": "python",
   "nbconvert_exporter": "python",
   "pygments_lexer": "ipython3",
   "version": "3.8.11"
  }
 },
 "nbformat": 4,
 "nbformat_minor": 5
}
