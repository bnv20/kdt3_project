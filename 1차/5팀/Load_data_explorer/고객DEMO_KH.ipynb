{
 "cells": [
  {
   "cell_type": "code",
   "execution_count": 1,
   "id": "f5b3c587-82d5-4671-a010-ae5781d1c7ba",
   "metadata": {},
   "outputs": [],
   "source": [
    "import pandas as pd"
   ]
  },
  {
   "cell_type": "code",
   "execution_count": 2,
   "id": "4bf35603-12f0-4348-94f6-b67f3fa832ea",
   "metadata": {},
   "outputs": [
    {
     "data": {
      "text/html": [
       "<div>\n",
       "<style scoped>\n",
       "    .dataframe tbody tr th:only-of-type {\n",
       "        vertical-align: middle;\n",
       "    }\n",
       "\n",
       "    .dataframe tbody tr th {\n",
       "        vertical-align: top;\n",
       "    }\n",
       "\n",
       "    .dataframe thead th {\n",
       "        text-align: right;\n",
       "    }\n",
       "</style>\n",
       "<table border=\"1\" class=\"dataframe\">\n",
       "  <thead>\n",
       "    <tr style=\"text-align: right;\">\n",
       "      <th></th>\n",
       "      <th>고객번호</th>\n",
       "      <th>성별</th>\n",
       "      <th>연령대</th>\n",
       "      <th>거주지역</th>\n",
       "    </tr>\n",
       "  </thead>\n",
       "  <tbody>\n",
       "    <tr>\n",
       "      <th>0</th>\n",
       "      <td>1</td>\n",
       "      <td>M</td>\n",
       "      <td>60세이상</td>\n",
       "      <td>60.0</td>\n",
       "    </tr>\n",
       "    <tr>\n",
       "      <th>1</th>\n",
       "      <td>2</td>\n",
       "      <td>M</td>\n",
       "      <td>60세이상</td>\n",
       "      <td>100.0</td>\n",
       "    </tr>\n",
       "    <tr>\n",
       "      <th>2</th>\n",
       "      <td>3</td>\n",
       "      <td>M</td>\n",
       "      <td>60세이상</td>\n",
       "      <td>33.0</td>\n",
       "    </tr>\n",
       "    <tr>\n",
       "      <th>3</th>\n",
       "      <td>4</td>\n",
       "      <td>F</td>\n",
       "      <td>60세이상</td>\n",
       "      <td>16.0</td>\n",
       "    </tr>\n",
       "    <tr>\n",
       "      <th>4</th>\n",
       "      <td>5</td>\n",
       "      <td>M</td>\n",
       "      <td>60세이상</td>\n",
       "      <td>100.0</td>\n",
       "    </tr>\n",
       "  </tbody>\n",
       "</table>\n",
       "</div>"
      ],
      "text/plain": [
       "   고객번호 성별    연령대   거주지역\n",
       "0     1  M  60세이상   60.0\n",
       "1     2  M  60세이상  100.0\n",
       "2     3  M  60세이상   33.0\n",
       "3     4  F  60세이상   16.0\n",
       "4     5  M  60세이상  100.0"
      ]
     },
     "execution_count": 2,
     "metadata": {},
     "output_type": "execute_result"
    }
   ],
   "source": [
    "df_cust = pd.read_csv('../LOTT/고객DEMO.txt',sep=',',encoding='cp949')\n",
    "df_cust.head()"
   ]
  },
  {
   "cell_type": "code",
   "execution_count": 65,
   "id": "15f4ecb5-05f2-43cf-ab70-0d08d8574642",
   "metadata": {},
   "outputs": [],
   "source": [
    "def data_info(df,null_count_standard): # 0 넣어줘야 전체 뽑힘\n",
    "    display(df.head(2))\n",
    "    print('[shape] : ',df.shape)\n",
    "    print('[rows] : {} , [columns] : {}'.format(df.shape[0],df.shape[1]),'\\n')\n",
    "    print('[value_counts] : \\n',df.dtypes.value_counts(),'\\n')\n",
    "    print('[columns] : ' ,df.columns,'\\n')\n",
    "    nl_v = df.isnull().sum()\n",
    "    print('[Null_values] : ','\\n',nl_v[nl_v>null_count_standard].sort_values(ascending=False))\n",
    "    print('[Null_columns] : ','\\n', list(nl_v[nl_v>null_count_standard].keys()))\n",
    "    return "
   ]
  },
  {
   "cell_type": "code",
   "execution_count": 66,
   "id": "a6c7c4de-9ff7-42b9-bc84-3bbf8e6ac51f",
   "metadata": {},
   "outputs": [
    {
     "data": {
      "text/html": [
       "<div>\n",
       "<style scoped>\n",
       "    .dataframe tbody tr th:only-of-type {\n",
       "        vertical-align: middle;\n",
       "    }\n",
       "\n",
       "    .dataframe tbody tr th {\n",
       "        vertical-align: top;\n",
       "    }\n",
       "\n",
       "    .dataframe thead th {\n",
       "        text-align: right;\n",
       "    }\n",
       "</style>\n",
       "<table border=\"1\" class=\"dataframe\">\n",
       "  <thead>\n",
       "    <tr style=\"text-align: right;\">\n",
       "      <th></th>\n",
       "      <th>고객번호</th>\n",
       "      <th>성별</th>\n",
       "      <th>연령대</th>\n",
       "      <th>거주지역</th>\n",
       "    </tr>\n",
       "  </thead>\n",
       "  <tbody>\n",
       "    <tr>\n",
       "      <th>0</th>\n",
       "      <td>1</td>\n",
       "      <td>M</td>\n",
       "      <td>60세이상</td>\n",
       "      <td>60.0</td>\n",
       "    </tr>\n",
       "    <tr>\n",
       "      <th>1</th>\n",
       "      <td>2</td>\n",
       "      <td>M</td>\n",
       "      <td>60세이상</td>\n",
       "      <td>100.0</td>\n",
       "    </tr>\n",
       "  </tbody>\n",
       "</table>\n",
       "</div>"
      ],
      "text/plain": [
       "   고객번호 성별    연령대   거주지역\n",
       "0     1  M  60세이상   60.0\n",
       "1     2  M  60세이상  100.0"
      ]
     },
     "metadata": {},
     "output_type": "display_data"
    },
    {
     "name": "stdout",
     "output_type": "stream",
     "text": [
      "[shape] :  (19383, 4)\n",
      "[rows] : 19383 , [columns] : 4 \n",
      "\n",
      "[value_counts] : \n",
      " object     2\n",
      "int64      1\n",
      "float64    1\n",
      "dtype: int64 \n",
      "\n",
      "[columns] :  Index(['고객번호', '성별', '연령대', '거주지역'], dtype='object') \n",
      "\n",
      "[Null_values] :  \n",
      " 거주지역    178\n",
      "dtype: int64\n",
      "[Null_columns] :  \n",
      " ['거주지역']\n"
     ]
    }
   ],
   "source": [
    "data_info(df_cust,0)"
   ]
  },
  {
   "cell_type": "code",
   "execution_count": 48,
   "id": "d56d2e35-cee2-40b4-b184-5f1021188924",
   "metadata": {},
   "outputs": [],
   "source": [
    "def col_info(df):\n",
    "    print('[columns] : ' ,df.columns,'\\n')\n",
    "    for column in df.columns:\n",
    "        print(\"[\",column,\"]\\n\")\n",
    "        print(\" -unique : \", df[column].unique())\n",
    "        print(\" -nunique : \", df[column].nunique())\n",
    "        print(\" -type : \", df[column].dtypes,'\\n')\n",
    "    return"
   ]
  },
  {
   "cell_type": "code",
   "execution_count": 49,
   "id": "5aeca4e9-a12e-43dd-869e-d55177462978",
   "metadata": {},
   "outputs": [
    {
     "name": "stdout",
     "output_type": "stream",
     "text": [
      "[columns] :  Index(['고객번호', '성별', '연령대', '거주지역'], dtype='object') \n",
      "\n",
      "[ 고객번호 ]\n",
      "\n",
      " -unique :  [    1     2     3 ... 19381 19382 19383]\n",
      " -nunique :  19383\n",
      " -type :  int64 \n",
      "\n",
      "[ 성별 ]\n",
      "\n",
      " -unique :  ['M' 'F']\n",
      " -nunique :  2\n",
      " -type :  object \n",
      "\n",
      "[ 연령대 ]\n",
      "\n",
      " -unique :  ['60세이상' '55세~59세' '50세~54세' '45세~49세' '40세~44세' '35세~39세' '30세~34세'\n",
      " '25세~29세' '20세~24세' '19세이하']\n",
      " -nunique :  10\n",
      " -type :  object \n",
      "\n",
      "[ 거주지역 ]\n",
      "\n",
      " -unique :  [ 60. 100.  33.  16. 240.  36.  10.  24.  43. 210. 460.  55.  nan  47.\n",
      "  39. 440.  87.  65.  13.  49. 360.  69. 410. 340. 500.  72. 610.  45.\n",
      "  75.  82.  30.  79.  27.  52. 270. 540. 310.  20. 570. 300.  85. 630.]\n",
      " -nunique :  41\n",
      " -type :  float64 \n",
      "\n"
     ]
    }
   ],
   "source": [
    "col_info(df_cust)"
   ]
  },
  {
   "cell_type": "code",
   "execution_count": 58,
   "id": "cb1da422-f81c-4957-8a2e-2dad363ddeb7",
   "metadata": {},
   "outputs": [
    {
     "data": {
      "text/html": [
       "<div>\n",
       "<style scoped>\n",
       "    .dataframe tbody tr th:only-of-type {\n",
       "        vertical-align: middle;\n",
       "    }\n",
       "\n",
       "    .dataframe tbody tr th {\n",
       "        vertical-align: top;\n",
       "    }\n",
       "\n",
       "    .dataframe thead th {\n",
       "        text-align: right;\n",
       "    }\n",
       "</style>\n",
       "<table border=\"1\" class=\"dataframe\">\n",
       "  <thead>\n",
       "    <tr style=\"text-align: right;\">\n",
       "      <th></th>\n",
       "      <th>고객번호</th>\n",
       "      <th>연령대</th>\n",
       "      <th>거주지역</th>\n",
       "    </tr>\n",
       "    <tr>\n",
       "      <th>성별</th>\n",
       "      <th></th>\n",
       "      <th></th>\n",
       "      <th></th>\n",
       "    </tr>\n",
       "  </thead>\n",
       "  <tbody>\n",
       "    <tr>\n",
       "      <th>F</th>\n",
       "      <td>15898</td>\n",
       "      <td>15898</td>\n",
       "      <td>15759</td>\n",
       "    </tr>\n",
       "    <tr>\n",
       "      <th>M</th>\n",
       "      <td>3485</td>\n",
       "      <td>3485</td>\n",
       "      <td>3446</td>\n",
       "    </tr>\n",
       "  </tbody>\n",
       "</table>\n",
       "</div>"
      ],
      "text/plain": [
       "     고객번호    연령대   거주지역\n",
       "성별                     \n",
       "F   15898  15898  15759\n",
       "M    3485   3485   3446"
      ]
     },
     "execution_count": 58,
     "metadata": {},
     "output_type": "execute_result"
    }
   ],
   "source": [
    "df_cust.groupby('성별').count()"
   ]
  },
  {
   "cell_type": "code",
   "execution_count": 75,
   "id": "37bb9a1d-085e-4dd9-b00b-18c053dd104d",
   "metadata": {},
   "outputs": [
    {
     "data": {
      "text/html": [
       "<div>\n",
       "<style scoped>\n",
       "    .dataframe tbody tr th:only-of-type {\n",
       "        vertical-align: middle;\n",
       "    }\n",
       "\n",
       "    .dataframe tbody tr th {\n",
       "        vertical-align: top;\n",
       "    }\n",
       "\n",
       "    .dataframe thead th {\n",
       "        text-align: right;\n",
       "    }\n",
       "</style>\n",
       "<table border=\"1\" class=\"dataframe\">\n",
       "  <thead>\n",
       "    <tr style=\"text-align: right;\">\n",
       "      <th>연령대</th>\n",
       "      <th>19세이하</th>\n",
       "      <th>20세~24세</th>\n",
       "      <th>25세~29세</th>\n",
       "      <th>30세~34세</th>\n",
       "      <th>35세~39세</th>\n",
       "      <th>40세~44세</th>\n",
       "      <th>45세~49세</th>\n",
       "      <th>50세~54세</th>\n",
       "      <th>55세~59세</th>\n",
       "      <th>60세이상</th>\n",
       "    </tr>\n",
       "    <tr>\n",
       "      <th>성별</th>\n",
       "      <th></th>\n",
       "      <th></th>\n",
       "      <th></th>\n",
       "      <th></th>\n",
       "      <th></th>\n",
       "      <th></th>\n",
       "      <th></th>\n",
       "      <th></th>\n",
       "      <th></th>\n",
       "      <th></th>\n",
       "    </tr>\n",
       "  </thead>\n",
       "  <tbody>\n",
       "    <tr>\n",
       "      <th>F</th>\n",
       "      <td>11</td>\n",
       "      <td>250</td>\n",
       "      <td>542</td>\n",
       "      <td>1283</td>\n",
       "      <td>2171</td>\n",
       "      <td>2996</td>\n",
       "      <td>3465</td>\n",
       "      <td>2636</td>\n",
       "      <td>1490</td>\n",
       "      <td>1054</td>\n",
       "    </tr>\n",
       "    <tr>\n",
       "      <th>M</th>\n",
       "      <td>6</td>\n",
       "      <td>33</td>\n",
       "      <td>143</td>\n",
       "      <td>396</td>\n",
       "      <td>598</td>\n",
       "      <td>681</td>\n",
       "      <td>617</td>\n",
       "      <td>478</td>\n",
       "      <td>284</td>\n",
       "      <td>249</td>\n",
       "    </tr>\n",
       "  </tbody>\n",
       "</table>\n",
       "</div>"
      ],
      "text/plain": [
       "연령대  19세이하  20세~24세  25세~29세  30세~34세  35세~39세  40세~44세  45세~49세  50세~54세  \\\n",
       "성별                                                                          \n",
       "F       11      250      542     1283     2171     2996     3465     2636   \n",
       "M        6       33      143      396      598      681      617      478   \n",
       "\n",
       "연령대  55세~59세  60세이상  \n",
       "성별                   \n",
       "F       1490   1054  \n",
       "M        284    249  "
      ]
     },
     "execution_count": 75,
     "metadata": {},
     "output_type": "execute_result"
    }
   ],
   "source": [
    "df_cust.groupby(['성별','연령대']).size().unstack(fill_value=0)"
   ]
  },
  {
   "cell_type": "code",
   "execution_count": null,
   "id": "e5ece6e7-7644-4cd3-a00f-414436e875cb",
   "metadata": {},
   "outputs": [],
   "source": []
  }
 ],
 "metadata": {
  "kernelspec": {
   "display_name": "Python 3",
   "language": "python",
   "name": "python3"
  },
  "language_info": {
   "codemirror_mode": {
    "name": "ipython",
    "version": 3
   },
   "file_extension": ".py",
   "mimetype": "text/x-python",
   "name": "python",
   "nbconvert_exporter": "python",
   "pygments_lexer": "ipython3",
   "version": "3.8.11"
  }
 },
 "nbformat": 4,
 "nbformat_minor": 5
}
