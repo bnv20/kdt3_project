{
  "nbformat": 4,
  "nbformat_minor": 0,
  "metadata": {
    "accelerator": "GPU",
    "colab": {
      "name": "Etri_et5_train120000(8)",
      "provenance": [],
      "collapsed_sections": [],
      "machine_shape": "hm"
    },
    "kernelspec": {
      "display_name": "Python 3",
      "name": "python3"
    },
    "language_info": {
      "name": "python"
    }
  },
  "cells": [
    {
      "cell_type": "markdown",
      "metadata": {
        "id": "23RcYKGZFSro"
      },
      "source": [
        "참고 url : https://github.com/abhimishra91/transformers-tutorials/blob/master/transformers_summarization_wandb.ipynb"
      ]
    },
    {
      "cell_type": "code",
      "metadata": {
        "colab": {
          "base_uri": "https://localhost:8080/"
        },
        "id": "JR-heIHg7zJ4",
        "outputId": "fee5fba7-1eac-4473-a8e9-fc0eea9b3c7f"
      },
      "source": [
        "!pip install transformers\n",
        "!pip install sentencepiece==0.1.91"
      ],
      "execution_count": null,
      "outputs": [
        {
          "output_type": "stream",
          "name": "stdout",
          "text": [
            "Requirement already satisfied: transformers in /usr/local/lib/python3.7/dist-packages (4.12.5)\n",
            "Requirement already satisfied: regex!=2019.12.17 in /usr/local/lib/python3.7/dist-packages (from transformers) (2019.12.20)\n",
            "Requirement already satisfied: packaging>=20.0 in /usr/local/lib/python3.7/dist-packages (from transformers) (21.3)\n",
            "Requirement already satisfied: huggingface-hub<1.0,>=0.1.0 in /usr/local/lib/python3.7/dist-packages (from transformers) (0.1.2)\n",
            "Requirement already satisfied: filelock in /usr/local/lib/python3.7/dist-packages (from transformers) (3.4.0)\n",
            "Requirement already satisfied: pyyaml>=5.1 in /usr/local/lib/python3.7/dist-packages (from transformers) (6.0)\n",
            "Requirement already satisfied: sacremoses in /usr/local/lib/python3.7/dist-packages (from transformers) (0.0.46)\n",
            "Requirement already satisfied: requests in /usr/local/lib/python3.7/dist-packages (from transformers) (2.23.0)\n",
            "Requirement already satisfied: tokenizers<0.11,>=0.10.1 in /usr/local/lib/python3.7/dist-packages (from transformers) (0.10.3)\n",
            "Requirement already satisfied: numpy>=1.17 in /usr/local/lib/python3.7/dist-packages (from transformers) (1.19.5)\n",
            "Requirement already satisfied: importlib-metadata in /usr/local/lib/python3.7/dist-packages (from transformers) (4.8.2)\n",
            "Requirement already satisfied: tqdm>=4.27 in /usr/local/lib/python3.7/dist-packages (from transformers) (4.62.3)\n",
            "Requirement already satisfied: typing-extensions>=3.7.4.3 in /usr/local/lib/python3.7/dist-packages (from huggingface-hub<1.0,>=0.1.0->transformers) (3.10.0.2)\n",
            "Requirement already satisfied: pyparsing!=3.0.5,>=2.0.2 in /usr/local/lib/python3.7/dist-packages (from packaging>=20.0->transformers) (3.0.6)\n",
            "Requirement already satisfied: zipp>=0.5 in /usr/local/lib/python3.7/dist-packages (from importlib-metadata->transformers) (3.6.0)\n",
            "Requirement already satisfied: chardet<4,>=3.0.2 in /usr/local/lib/python3.7/dist-packages (from requests->transformers) (3.0.4)\n",
            "Requirement already satisfied: certifi>=2017.4.17 in /usr/local/lib/python3.7/dist-packages (from requests->transformers) (2021.10.8)\n",
            "Requirement already satisfied: urllib3!=1.25.0,!=1.25.1,<1.26,>=1.21.1 in /usr/local/lib/python3.7/dist-packages (from requests->transformers) (1.24.3)\n",
            "Requirement already satisfied: idna<3,>=2.5 in /usr/local/lib/python3.7/dist-packages (from requests->transformers) (2.10)\n",
            "Requirement already satisfied: joblib in /usr/local/lib/python3.7/dist-packages (from sacremoses->transformers) (1.1.0)\n",
            "Requirement already satisfied: six in /usr/local/lib/python3.7/dist-packages (from sacremoses->transformers) (1.15.0)\n",
            "Requirement already satisfied: click in /usr/local/lib/python3.7/dist-packages (from sacremoses->transformers) (7.1.2)\n",
            "Requirement already satisfied: sentencepiece==0.1.91 in /usr/local/lib/python3.7/dist-packages (0.1.91)\n"
          ]
        }
      ]
    },
    {
      "cell_type": "markdown",
      "metadata": {
        "id": "CYBZdQIKQ4Vl"
      },
      "source": [
        "transformers version = '4.12.5'"
      ]
    },
    {
      "cell_type": "code",
      "metadata": {
        "colab": {
          "base_uri": "https://localhost:8080/"
        },
        "id": "DJdsg8WAxMYV",
        "outputId": "58d163f0-cd80-4002-b5a7-7ea5f24ae9d6"
      },
      "source": [
        "from google.colab import drive\n",
        "drive.mount('/content/drive')"
      ],
      "execution_count": null,
      "outputs": [
        {
          "output_type": "stream",
          "name": "stdout",
          "text": [
            "Drive already mounted at /content/drive; to attempt to forcibly remount, call drive.mount(\"/content/drive\", force_remount=True).\n"
          ]
        }
      ]
    },
    {
      "cell_type": "code",
      "metadata": {
        "id": "57jB1tHe7oYX"
      },
      "source": [
        "# model.generate(pieces)\n",
        "from transformers import T5Config, T5Tokenizer, T5ForConditionalGeneration\n",
        "from tqdm import tqdm\n",
        "import torch\n",
        "from torch.utils.data import DataLoader"
      ],
      "execution_count": null,
      "outputs": []
    },
    {
      "cell_type": "code",
      "metadata": {
        "id": "V43hOR_o8t8Y"
      },
      "source": [
        "model_folder = '/content/drive/MyDrive/3차프로젝트_현정/eT5_epoch8/pretrained_60000'\n",
        "\n",
        "model = T5ForConditionalGeneration.from_pretrained(model_folder)\n",
        "tokenizer = T5Tokenizer.from_pretrained(model_folder)"
      ],
      "execution_count": null,
      "outputs": []
    },
    {
      "cell_type": "code",
      "metadata": {
        "id": "e34lHWGtsSWd"
      },
      "source": [
        "device = 'cuda' if torch.cuda.is_available() else 'cpu'"
      ],
      "execution_count": null,
      "outputs": []
    },
    {
      "cell_type": "code",
      "metadata": {
        "id": "LeNA2dpdtAVi"
      },
      "source": [
        "class CustomDataset:\n",
        "\n",
        "    def __init__(self, dataframe, tokenizer, source_len, summ_len):\n",
        "        self.tokenizer = tokenizer\n",
        "        self.data = dataframe\n",
        "        self.source_len = source_len\n",
        "        self.summ_len = summ_len\n",
        "        self.text = self.data.text\n",
        "        self.ctext = self.data.ctext\n",
        "\n",
        "    def __len__(self):\n",
        "        return len(self.text)\n",
        "\n",
        "    def __getitem__(self, index):\n",
        "        ctext = str(self.ctext[index])\n",
        "        ctext = ' '.join(ctext.split())\n",
        "\n",
        "        text = str(self.text[index])\n",
        "        text = ' '.join(text.split())\n",
        "\n",
        "        source = self.tokenizer.batch_encode_plus([ctext], max_length= self.source_len, pad_to_max_length=True,return_tensors='pt')\n",
        "        target = self.tokenizer.batch_encode_plus([text], max_length= self.summ_len, pad_to_max_length=True,return_tensors='pt')\n",
        "\n",
        "        source_ids = source['input_ids'].squeeze()\n",
        "        source_mask = source['attention_mask'].squeeze()\n",
        "        target_ids = target['input_ids'].squeeze()\n",
        "        target_mask = target['attention_mask'].squeeze()\n",
        "\n",
        "        return {\n",
        "            'source_ids': source_ids.to(dtype=torch.long), \n",
        "            'source_mask': source_mask.to(dtype=torch.long), \n",
        "            'target_ids': target_ids.to(dtype=torch.long),\n",
        "            'target_ids_y': target_ids.to(dtype=torch.long)\n",
        "        }"
      ],
      "execution_count": null,
      "outputs": []
    },
    {
      "cell_type": "code",
      "metadata": {
        "id": "zcvmRVxasS_d"
      },
      "source": [
        "def train(epoch, tokenizer, model, device, loader, optimizer):\n",
        "    model.train()\n",
        "    for _,data in tqdm(enumerate(loader, 0)):\n",
        "        y = data['target_ids'].to(device, dtype = torch.long)\n",
        "        y_ids = y[:, :-1].contiguous()\n",
        "        lm_labels = y[:, 1:].clone().detach()\n",
        "        lm_labels[y[:, 1:] == tokenizer.pad_token_id] = -100\n",
        "        ids = data['source_ids'].to(device, dtype = torch.long)\n",
        "        mask = data['source_mask'].to(device, dtype = torch.long)\n",
        "\n",
        "        outputs = model(input_ids = ids, attention_mask = mask, decoder_input_ids=y_ids, labels=lm_labels)\n",
        "        loss = outputs[0]\n",
        "        \n",
        "        if _%10 == 0:\n",
        "            pass\n",
        "            \n",
        "        if _%500==0:\n",
        "            print(f'Epoch: {epoch}, Loss:  {loss.item()}')\n",
        "        \n",
        "        optimizer.zero_grad()\n",
        "        loss.backward()\n",
        "        optimizer.step()\n",
        "        # xm.optimizer_step(optimizer)\n",
        "        # xm.mark_step()"
      ],
      "execution_count": null,
      "outputs": []
    },
    {
      "cell_type": "code",
      "metadata": {
        "id": "Ww9SpZIhsS8O"
      },
      "source": [
        "def validate(epoch, tokenizer, model, device, loader):\n",
        "    model.eval()\n",
        "    predictions = []\n",
        "    actuals = []\n",
        "    with torch.no_grad():\n",
        "        for _, data in enumerate(loader, 0):\n",
        "            y = data['target_ids'].to(device, dtype = torch.long)\n",
        "            ids = data['source_ids'].to(device, dtype = torch.long)\n",
        "            mask = data['source_mask'].to(device, dtype = torch.long)\n",
        "\n",
        "            generated_ids = model.generate(\n",
        "                input_ids = ids,\n",
        "                attention_mask = mask, \n",
        "                max_length=150, \n",
        "                num_beams=2,\n",
        "                repetition_penalty=2.5, \n",
        "                length_penalty=1.0, \n",
        "                early_stopping=True\n",
        "                )\n",
        "            preds = [tokenizer.decode(g, skip_special_tokens=True, clean_up_tokenization_spaces=True) for g in generated_ids]\n",
        "            target = [tokenizer.decode(t, skip_special_tokens=True, clean_up_tokenization_spaces=True)for t in y]\n",
        "            if _%100==0:\n",
        "                print(f'Completed {_}')\n",
        "\n",
        "            predictions.extend(preds)\n",
        "            actuals.extend(target)\n",
        "    return predictions, actuals"
      ],
      "execution_count": null,
      "outputs": []
    },
    {
      "cell_type": "code",
      "metadata": {
        "colab": {
          "base_uri": "https://localhost:8080/"
        },
        "id": "Li1ZjzuosS5o",
        "outputId": "9edb9075-9feb-46e7-f854-bd52f846dbfc"
      },
      "source": [
        "model.to(device)"
      ],
      "execution_count": null,
      "outputs": [
        {
          "output_type": "execute_result",
          "data": {
            "text/plain": [
              "T5ForConditionalGeneration(\n",
              "  (shared): Embedding(45100, 768)\n",
              "  (encoder): T5Stack(\n",
              "    (embed_tokens): Embedding(45100, 768)\n",
              "    (block): ModuleList(\n",
              "      (0): T5Block(\n",
              "        (layer): ModuleList(\n",
              "          (0): T5LayerSelfAttention(\n",
              "            (SelfAttention): T5Attention(\n",
              "              (q): Linear(in_features=768, out_features=768, bias=False)\n",
              "              (k): Linear(in_features=768, out_features=768, bias=False)\n",
              "              (v): Linear(in_features=768, out_features=768, bias=False)\n",
              "              (o): Linear(in_features=768, out_features=768, bias=False)\n",
              "              (relative_attention_bias): Embedding(32, 12)\n",
              "            )\n",
              "            (layer_norm): T5LayerNorm()\n",
              "            (dropout): Dropout(p=0.1, inplace=False)\n",
              "          )\n",
              "          (1): T5LayerFF(\n",
              "            (DenseReluDense): T5DenseGatedGeluDense(\n",
              "              (wi_0): Linear(in_features=768, out_features=3072, bias=False)\n",
              "              (wi_1): Linear(in_features=768, out_features=3072, bias=False)\n",
              "              (wo): Linear(in_features=3072, out_features=768, bias=False)\n",
              "              (dropout): Dropout(p=0.1, inplace=False)\n",
              "            )\n",
              "            (layer_norm): T5LayerNorm()\n",
              "            (dropout): Dropout(p=0.1, inplace=False)\n",
              "          )\n",
              "        )\n",
              "      )\n",
              "      (1): T5Block(\n",
              "        (layer): ModuleList(\n",
              "          (0): T5LayerSelfAttention(\n",
              "            (SelfAttention): T5Attention(\n",
              "              (q): Linear(in_features=768, out_features=768, bias=False)\n",
              "              (k): Linear(in_features=768, out_features=768, bias=False)\n",
              "              (v): Linear(in_features=768, out_features=768, bias=False)\n",
              "              (o): Linear(in_features=768, out_features=768, bias=False)\n",
              "            )\n",
              "            (layer_norm): T5LayerNorm()\n",
              "            (dropout): Dropout(p=0.1, inplace=False)\n",
              "          )\n",
              "          (1): T5LayerFF(\n",
              "            (DenseReluDense): T5DenseGatedGeluDense(\n",
              "              (wi_0): Linear(in_features=768, out_features=3072, bias=False)\n",
              "              (wi_1): Linear(in_features=768, out_features=3072, bias=False)\n",
              "              (wo): Linear(in_features=3072, out_features=768, bias=False)\n",
              "              (dropout): Dropout(p=0.1, inplace=False)\n",
              "            )\n",
              "            (layer_norm): T5LayerNorm()\n",
              "            (dropout): Dropout(p=0.1, inplace=False)\n",
              "          )\n",
              "        )\n",
              "      )\n",
              "      (2): T5Block(\n",
              "        (layer): ModuleList(\n",
              "          (0): T5LayerSelfAttention(\n",
              "            (SelfAttention): T5Attention(\n",
              "              (q): Linear(in_features=768, out_features=768, bias=False)\n",
              "              (k): Linear(in_features=768, out_features=768, bias=False)\n",
              "              (v): Linear(in_features=768, out_features=768, bias=False)\n",
              "              (o): Linear(in_features=768, out_features=768, bias=False)\n",
              "            )\n",
              "            (layer_norm): T5LayerNorm()\n",
              "            (dropout): Dropout(p=0.1, inplace=False)\n",
              "          )\n",
              "          (1): T5LayerFF(\n",
              "            (DenseReluDense): T5DenseGatedGeluDense(\n",
              "              (wi_0): Linear(in_features=768, out_features=3072, bias=False)\n",
              "              (wi_1): Linear(in_features=768, out_features=3072, bias=False)\n",
              "              (wo): Linear(in_features=3072, out_features=768, bias=False)\n",
              "              (dropout): Dropout(p=0.1, inplace=False)\n",
              "            )\n",
              "            (layer_norm): T5LayerNorm()\n",
              "            (dropout): Dropout(p=0.1, inplace=False)\n",
              "          )\n",
              "        )\n",
              "      )\n",
              "      (3): T5Block(\n",
              "        (layer): ModuleList(\n",
              "          (0): T5LayerSelfAttention(\n",
              "            (SelfAttention): T5Attention(\n",
              "              (q): Linear(in_features=768, out_features=768, bias=False)\n",
              "              (k): Linear(in_features=768, out_features=768, bias=False)\n",
              "              (v): Linear(in_features=768, out_features=768, bias=False)\n",
              "              (o): Linear(in_features=768, out_features=768, bias=False)\n",
              "            )\n",
              "            (layer_norm): T5LayerNorm()\n",
              "            (dropout): Dropout(p=0.1, inplace=False)\n",
              "          )\n",
              "          (1): T5LayerFF(\n",
              "            (DenseReluDense): T5DenseGatedGeluDense(\n",
              "              (wi_0): Linear(in_features=768, out_features=3072, bias=False)\n",
              "              (wi_1): Linear(in_features=768, out_features=3072, bias=False)\n",
              "              (wo): Linear(in_features=3072, out_features=768, bias=False)\n",
              "              (dropout): Dropout(p=0.1, inplace=False)\n",
              "            )\n",
              "            (layer_norm): T5LayerNorm()\n",
              "            (dropout): Dropout(p=0.1, inplace=False)\n",
              "          )\n",
              "        )\n",
              "      )\n",
              "      (4): T5Block(\n",
              "        (layer): ModuleList(\n",
              "          (0): T5LayerSelfAttention(\n",
              "            (SelfAttention): T5Attention(\n",
              "              (q): Linear(in_features=768, out_features=768, bias=False)\n",
              "              (k): Linear(in_features=768, out_features=768, bias=False)\n",
              "              (v): Linear(in_features=768, out_features=768, bias=False)\n",
              "              (o): Linear(in_features=768, out_features=768, bias=False)\n",
              "            )\n",
              "            (layer_norm): T5LayerNorm()\n",
              "            (dropout): Dropout(p=0.1, inplace=False)\n",
              "          )\n",
              "          (1): T5LayerFF(\n",
              "            (DenseReluDense): T5DenseGatedGeluDense(\n",
              "              (wi_0): Linear(in_features=768, out_features=3072, bias=False)\n",
              "              (wi_1): Linear(in_features=768, out_features=3072, bias=False)\n",
              "              (wo): Linear(in_features=3072, out_features=768, bias=False)\n",
              "              (dropout): Dropout(p=0.1, inplace=False)\n",
              "            )\n",
              "            (layer_norm): T5LayerNorm()\n",
              "            (dropout): Dropout(p=0.1, inplace=False)\n",
              "          )\n",
              "        )\n",
              "      )\n",
              "      (5): T5Block(\n",
              "        (layer): ModuleList(\n",
              "          (0): T5LayerSelfAttention(\n",
              "            (SelfAttention): T5Attention(\n",
              "              (q): Linear(in_features=768, out_features=768, bias=False)\n",
              "              (k): Linear(in_features=768, out_features=768, bias=False)\n",
              "              (v): Linear(in_features=768, out_features=768, bias=False)\n",
              "              (o): Linear(in_features=768, out_features=768, bias=False)\n",
              "            )\n",
              "            (layer_norm): T5LayerNorm()\n",
              "            (dropout): Dropout(p=0.1, inplace=False)\n",
              "          )\n",
              "          (1): T5LayerFF(\n",
              "            (DenseReluDense): T5DenseGatedGeluDense(\n",
              "              (wi_0): Linear(in_features=768, out_features=3072, bias=False)\n",
              "              (wi_1): Linear(in_features=768, out_features=3072, bias=False)\n",
              "              (wo): Linear(in_features=3072, out_features=768, bias=False)\n",
              "              (dropout): Dropout(p=0.1, inplace=False)\n",
              "            )\n",
              "            (layer_norm): T5LayerNorm()\n",
              "            (dropout): Dropout(p=0.1, inplace=False)\n",
              "          )\n",
              "        )\n",
              "      )\n",
              "      (6): T5Block(\n",
              "        (layer): ModuleList(\n",
              "          (0): T5LayerSelfAttention(\n",
              "            (SelfAttention): T5Attention(\n",
              "              (q): Linear(in_features=768, out_features=768, bias=False)\n",
              "              (k): Linear(in_features=768, out_features=768, bias=False)\n",
              "              (v): Linear(in_features=768, out_features=768, bias=False)\n",
              "              (o): Linear(in_features=768, out_features=768, bias=False)\n",
              "            )\n",
              "            (layer_norm): T5LayerNorm()\n",
              "            (dropout): Dropout(p=0.1, inplace=False)\n",
              "          )\n",
              "          (1): T5LayerFF(\n",
              "            (DenseReluDense): T5DenseGatedGeluDense(\n",
              "              (wi_0): Linear(in_features=768, out_features=3072, bias=False)\n",
              "              (wi_1): Linear(in_features=768, out_features=3072, bias=False)\n",
              "              (wo): Linear(in_features=3072, out_features=768, bias=False)\n",
              "              (dropout): Dropout(p=0.1, inplace=False)\n",
              "            )\n",
              "            (layer_norm): T5LayerNorm()\n",
              "            (dropout): Dropout(p=0.1, inplace=False)\n",
              "          )\n",
              "        )\n",
              "      )\n",
              "      (7): T5Block(\n",
              "        (layer): ModuleList(\n",
              "          (0): T5LayerSelfAttention(\n",
              "            (SelfAttention): T5Attention(\n",
              "              (q): Linear(in_features=768, out_features=768, bias=False)\n",
              "              (k): Linear(in_features=768, out_features=768, bias=False)\n",
              "              (v): Linear(in_features=768, out_features=768, bias=False)\n",
              "              (o): Linear(in_features=768, out_features=768, bias=False)\n",
              "            )\n",
              "            (layer_norm): T5LayerNorm()\n",
              "            (dropout): Dropout(p=0.1, inplace=False)\n",
              "          )\n",
              "          (1): T5LayerFF(\n",
              "            (DenseReluDense): T5DenseGatedGeluDense(\n",
              "              (wi_0): Linear(in_features=768, out_features=3072, bias=False)\n",
              "              (wi_1): Linear(in_features=768, out_features=3072, bias=False)\n",
              "              (wo): Linear(in_features=3072, out_features=768, bias=False)\n",
              "              (dropout): Dropout(p=0.1, inplace=False)\n",
              "            )\n",
              "            (layer_norm): T5LayerNorm()\n",
              "            (dropout): Dropout(p=0.1, inplace=False)\n",
              "          )\n",
              "        )\n",
              "      )\n",
              "      (8): T5Block(\n",
              "        (layer): ModuleList(\n",
              "          (0): T5LayerSelfAttention(\n",
              "            (SelfAttention): T5Attention(\n",
              "              (q): Linear(in_features=768, out_features=768, bias=False)\n",
              "              (k): Linear(in_features=768, out_features=768, bias=False)\n",
              "              (v): Linear(in_features=768, out_features=768, bias=False)\n",
              "              (o): Linear(in_features=768, out_features=768, bias=False)\n",
              "            )\n",
              "            (layer_norm): T5LayerNorm()\n",
              "            (dropout): Dropout(p=0.1, inplace=False)\n",
              "          )\n",
              "          (1): T5LayerFF(\n",
              "            (DenseReluDense): T5DenseGatedGeluDense(\n",
              "              (wi_0): Linear(in_features=768, out_features=3072, bias=False)\n",
              "              (wi_1): Linear(in_features=768, out_features=3072, bias=False)\n",
              "              (wo): Linear(in_features=3072, out_features=768, bias=False)\n",
              "              (dropout): Dropout(p=0.1, inplace=False)\n",
              "            )\n",
              "            (layer_norm): T5LayerNorm()\n",
              "            (dropout): Dropout(p=0.1, inplace=False)\n",
              "          )\n",
              "        )\n",
              "      )\n",
              "      (9): T5Block(\n",
              "        (layer): ModuleList(\n",
              "          (0): T5LayerSelfAttention(\n",
              "            (SelfAttention): T5Attention(\n",
              "              (q): Linear(in_features=768, out_features=768, bias=False)\n",
              "              (k): Linear(in_features=768, out_features=768, bias=False)\n",
              "              (v): Linear(in_features=768, out_features=768, bias=False)\n",
              "              (o): Linear(in_features=768, out_features=768, bias=False)\n",
              "            )\n",
              "            (layer_norm): T5LayerNorm()\n",
              "            (dropout): Dropout(p=0.1, inplace=False)\n",
              "          )\n",
              "          (1): T5LayerFF(\n",
              "            (DenseReluDense): T5DenseGatedGeluDense(\n",
              "              (wi_0): Linear(in_features=768, out_features=3072, bias=False)\n",
              "              (wi_1): Linear(in_features=768, out_features=3072, bias=False)\n",
              "              (wo): Linear(in_features=3072, out_features=768, bias=False)\n",
              "              (dropout): Dropout(p=0.1, inplace=False)\n",
              "            )\n",
              "            (layer_norm): T5LayerNorm()\n",
              "            (dropout): Dropout(p=0.1, inplace=False)\n",
              "          )\n",
              "        )\n",
              "      )\n",
              "      (10): T5Block(\n",
              "        (layer): ModuleList(\n",
              "          (0): T5LayerSelfAttention(\n",
              "            (SelfAttention): T5Attention(\n",
              "              (q): Linear(in_features=768, out_features=768, bias=False)\n",
              "              (k): Linear(in_features=768, out_features=768, bias=False)\n",
              "              (v): Linear(in_features=768, out_features=768, bias=False)\n",
              "              (o): Linear(in_features=768, out_features=768, bias=False)\n",
              "            )\n",
              "            (layer_norm): T5LayerNorm()\n",
              "            (dropout): Dropout(p=0.1, inplace=False)\n",
              "          )\n",
              "          (1): T5LayerFF(\n",
              "            (DenseReluDense): T5DenseGatedGeluDense(\n",
              "              (wi_0): Linear(in_features=768, out_features=3072, bias=False)\n",
              "              (wi_1): Linear(in_features=768, out_features=3072, bias=False)\n",
              "              (wo): Linear(in_features=3072, out_features=768, bias=False)\n",
              "              (dropout): Dropout(p=0.1, inplace=False)\n",
              "            )\n",
              "            (layer_norm): T5LayerNorm()\n",
              "            (dropout): Dropout(p=0.1, inplace=False)\n",
              "          )\n",
              "        )\n",
              "      )\n",
              "      (11): T5Block(\n",
              "        (layer): ModuleList(\n",
              "          (0): T5LayerSelfAttention(\n",
              "            (SelfAttention): T5Attention(\n",
              "              (q): Linear(in_features=768, out_features=768, bias=False)\n",
              "              (k): Linear(in_features=768, out_features=768, bias=False)\n",
              "              (v): Linear(in_features=768, out_features=768, bias=False)\n",
              "              (o): Linear(in_features=768, out_features=768, bias=False)\n",
              "            )\n",
              "            (layer_norm): T5LayerNorm()\n",
              "            (dropout): Dropout(p=0.1, inplace=False)\n",
              "          )\n",
              "          (1): T5LayerFF(\n",
              "            (DenseReluDense): T5DenseGatedGeluDense(\n",
              "              (wi_0): Linear(in_features=768, out_features=3072, bias=False)\n",
              "              (wi_1): Linear(in_features=768, out_features=3072, bias=False)\n",
              "              (wo): Linear(in_features=3072, out_features=768, bias=False)\n",
              "              (dropout): Dropout(p=0.1, inplace=False)\n",
              "            )\n",
              "            (layer_norm): T5LayerNorm()\n",
              "            (dropout): Dropout(p=0.1, inplace=False)\n",
              "          )\n",
              "        )\n",
              "      )\n",
              "    )\n",
              "    (final_layer_norm): T5LayerNorm()\n",
              "    (dropout): Dropout(p=0.1, inplace=False)\n",
              "  )\n",
              "  (decoder): T5Stack(\n",
              "    (embed_tokens): Embedding(45100, 768)\n",
              "    (block): ModuleList(\n",
              "      (0): T5Block(\n",
              "        (layer): ModuleList(\n",
              "          (0): T5LayerSelfAttention(\n",
              "            (SelfAttention): T5Attention(\n",
              "              (q): Linear(in_features=768, out_features=768, bias=False)\n",
              "              (k): Linear(in_features=768, out_features=768, bias=False)\n",
              "              (v): Linear(in_features=768, out_features=768, bias=False)\n",
              "              (o): Linear(in_features=768, out_features=768, bias=False)\n",
              "              (relative_attention_bias): Embedding(32, 12)\n",
              "            )\n",
              "            (layer_norm): T5LayerNorm()\n",
              "            (dropout): Dropout(p=0.1, inplace=False)\n",
              "          )\n",
              "          (1): T5LayerCrossAttention(\n",
              "            (EncDecAttention): T5Attention(\n",
              "              (q): Linear(in_features=768, out_features=768, bias=False)\n",
              "              (k): Linear(in_features=768, out_features=768, bias=False)\n",
              "              (v): Linear(in_features=768, out_features=768, bias=False)\n",
              "              (o): Linear(in_features=768, out_features=768, bias=False)\n",
              "            )\n",
              "            (layer_norm): T5LayerNorm()\n",
              "            (dropout): Dropout(p=0.1, inplace=False)\n",
              "          )\n",
              "          (2): T5LayerFF(\n",
              "            (DenseReluDense): T5DenseGatedGeluDense(\n",
              "              (wi_0): Linear(in_features=768, out_features=3072, bias=False)\n",
              "              (wi_1): Linear(in_features=768, out_features=3072, bias=False)\n",
              "              (wo): Linear(in_features=3072, out_features=768, bias=False)\n",
              "              (dropout): Dropout(p=0.1, inplace=False)\n",
              "            )\n",
              "            (layer_norm): T5LayerNorm()\n",
              "            (dropout): Dropout(p=0.1, inplace=False)\n",
              "          )\n",
              "        )\n",
              "      )\n",
              "      (1): T5Block(\n",
              "        (layer): ModuleList(\n",
              "          (0): T5LayerSelfAttention(\n",
              "            (SelfAttention): T5Attention(\n",
              "              (q): Linear(in_features=768, out_features=768, bias=False)\n",
              "              (k): Linear(in_features=768, out_features=768, bias=False)\n",
              "              (v): Linear(in_features=768, out_features=768, bias=False)\n",
              "              (o): Linear(in_features=768, out_features=768, bias=False)\n",
              "            )\n",
              "            (layer_norm): T5LayerNorm()\n",
              "            (dropout): Dropout(p=0.1, inplace=False)\n",
              "          )\n",
              "          (1): T5LayerCrossAttention(\n",
              "            (EncDecAttention): T5Attention(\n",
              "              (q): Linear(in_features=768, out_features=768, bias=False)\n",
              "              (k): Linear(in_features=768, out_features=768, bias=False)\n",
              "              (v): Linear(in_features=768, out_features=768, bias=False)\n",
              "              (o): Linear(in_features=768, out_features=768, bias=False)\n",
              "            )\n",
              "            (layer_norm): T5LayerNorm()\n",
              "            (dropout): Dropout(p=0.1, inplace=False)\n",
              "          )\n",
              "          (2): T5LayerFF(\n",
              "            (DenseReluDense): T5DenseGatedGeluDense(\n",
              "              (wi_0): Linear(in_features=768, out_features=3072, bias=False)\n",
              "              (wi_1): Linear(in_features=768, out_features=3072, bias=False)\n",
              "              (wo): Linear(in_features=3072, out_features=768, bias=False)\n",
              "              (dropout): Dropout(p=0.1, inplace=False)\n",
              "            )\n",
              "            (layer_norm): T5LayerNorm()\n",
              "            (dropout): Dropout(p=0.1, inplace=False)\n",
              "          )\n",
              "        )\n",
              "      )\n",
              "      (2): T5Block(\n",
              "        (layer): ModuleList(\n",
              "          (0): T5LayerSelfAttention(\n",
              "            (SelfAttention): T5Attention(\n",
              "              (q): Linear(in_features=768, out_features=768, bias=False)\n",
              "              (k): Linear(in_features=768, out_features=768, bias=False)\n",
              "              (v): Linear(in_features=768, out_features=768, bias=False)\n",
              "              (o): Linear(in_features=768, out_features=768, bias=False)\n",
              "            )\n",
              "            (layer_norm): T5LayerNorm()\n",
              "            (dropout): Dropout(p=0.1, inplace=False)\n",
              "          )\n",
              "          (1): T5LayerCrossAttention(\n",
              "            (EncDecAttention): T5Attention(\n",
              "              (q): Linear(in_features=768, out_features=768, bias=False)\n",
              "              (k): Linear(in_features=768, out_features=768, bias=False)\n",
              "              (v): Linear(in_features=768, out_features=768, bias=False)\n",
              "              (o): Linear(in_features=768, out_features=768, bias=False)\n",
              "            )\n",
              "            (layer_norm): T5LayerNorm()\n",
              "            (dropout): Dropout(p=0.1, inplace=False)\n",
              "          )\n",
              "          (2): T5LayerFF(\n",
              "            (DenseReluDense): T5DenseGatedGeluDense(\n",
              "              (wi_0): Linear(in_features=768, out_features=3072, bias=False)\n",
              "              (wi_1): Linear(in_features=768, out_features=3072, bias=False)\n",
              "              (wo): Linear(in_features=3072, out_features=768, bias=False)\n",
              "              (dropout): Dropout(p=0.1, inplace=False)\n",
              "            )\n",
              "            (layer_norm): T5LayerNorm()\n",
              "            (dropout): Dropout(p=0.1, inplace=False)\n",
              "          )\n",
              "        )\n",
              "      )\n",
              "      (3): T5Block(\n",
              "        (layer): ModuleList(\n",
              "          (0): T5LayerSelfAttention(\n",
              "            (SelfAttention): T5Attention(\n",
              "              (q): Linear(in_features=768, out_features=768, bias=False)\n",
              "              (k): Linear(in_features=768, out_features=768, bias=False)\n",
              "              (v): Linear(in_features=768, out_features=768, bias=False)\n",
              "              (o): Linear(in_features=768, out_features=768, bias=False)\n",
              "            )\n",
              "            (layer_norm): T5LayerNorm()\n",
              "            (dropout): Dropout(p=0.1, inplace=False)\n",
              "          )\n",
              "          (1): T5LayerCrossAttention(\n",
              "            (EncDecAttention): T5Attention(\n",
              "              (q): Linear(in_features=768, out_features=768, bias=False)\n",
              "              (k): Linear(in_features=768, out_features=768, bias=False)\n",
              "              (v): Linear(in_features=768, out_features=768, bias=False)\n",
              "              (o): Linear(in_features=768, out_features=768, bias=False)\n",
              "            )\n",
              "            (layer_norm): T5LayerNorm()\n",
              "            (dropout): Dropout(p=0.1, inplace=False)\n",
              "          )\n",
              "          (2): T5LayerFF(\n",
              "            (DenseReluDense): T5DenseGatedGeluDense(\n",
              "              (wi_0): Linear(in_features=768, out_features=3072, bias=False)\n",
              "              (wi_1): Linear(in_features=768, out_features=3072, bias=False)\n",
              "              (wo): Linear(in_features=3072, out_features=768, bias=False)\n",
              "              (dropout): Dropout(p=0.1, inplace=False)\n",
              "            )\n",
              "            (layer_norm): T5LayerNorm()\n",
              "            (dropout): Dropout(p=0.1, inplace=False)\n",
              "          )\n",
              "        )\n",
              "      )\n",
              "      (4): T5Block(\n",
              "        (layer): ModuleList(\n",
              "          (0): T5LayerSelfAttention(\n",
              "            (SelfAttention): T5Attention(\n",
              "              (q): Linear(in_features=768, out_features=768, bias=False)\n",
              "              (k): Linear(in_features=768, out_features=768, bias=False)\n",
              "              (v): Linear(in_features=768, out_features=768, bias=False)\n",
              "              (o): Linear(in_features=768, out_features=768, bias=False)\n",
              "            )\n",
              "            (layer_norm): T5LayerNorm()\n",
              "            (dropout): Dropout(p=0.1, inplace=False)\n",
              "          )\n",
              "          (1): T5LayerCrossAttention(\n",
              "            (EncDecAttention): T5Attention(\n",
              "              (q): Linear(in_features=768, out_features=768, bias=False)\n",
              "              (k): Linear(in_features=768, out_features=768, bias=False)\n",
              "              (v): Linear(in_features=768, out_features=768, bias=False)\n",
              "              (o): Linear(in_features=768, out_features=768, bias=False)\n",
              "            )\n",
              "            (layer_norm): T5LayerNorm()\n",
              "            (dropout): Dropout(p=0.1, inplace=False)\n",
              "          )\n",
              "          (2): T5LayerFF(\n",
              "            (DenseReluDense): T5DenseGatedGeluDense(\n",
              "              (wi_0): Linear(in_features=768, out_features=3072, bias=False)\n",
              "              (wi_1): Linear(in_features=768, out_features=3072, bias=False)\n",
              "              (wo): Linear(in_features=3072, out_features=768, bias=False)\n",
              "              (dropout): Dropout(p=0.1, inplace=False)\n",
              "            )\n",
              "            (layer_norm): T5LayerNorm()\n",
              "            (dropout): Dropout(p=0.1, inplace=False)\n",
              "          )\n",
              "        )\n",
              "      )\n",
              "      (5): T5Block(\n",
              "        (layer): ModuleList(\n",
              "          (0): T5LayerSelfAttention(\n",
              "            (SelfAttention): T5Attention(\n",
              "              (q): Linear(in_features=768, out_features=768, bias=False)\n",
              "              (k): Linear(in_features=768, out_features=768, bias=False)\n",
              "              (v): Linear(in_features=768, out_features=768, bias=False)\n",
              "              (o): Linear(in_features=768, out_features=768, bias=False)\n",
              "            )\n",
              "            (layer_norm): T5LayerNorm()\n",
              "            (dropout): Dropout(p=0.1, inplace=False)\n",
              "          )\n",
              "          (1): T5LayerCrossAttention(\n",
              "            (EncDecAttention): T5Attention(\n",
              "              (q): Linear(in_features=768, out_features=768, bias=False)\n",
              "              (k): Linear(in_features=768, out_features=768, bias=False)\n",
              "              (v): Linear(in_features=768, out_features=768, bias=False)\n",
              "              (o): Linear(in_features=768, out_features=768, bias=False)\n",
              "            )\n",
              "            (layer_norm): T5LayerNorm()\n",
              "            (dropout): Dropout(p=0.1, inplace=False)\n",
              "          )\n",
              "          (2): T5LayerFF(\n",
              "            (DenseReluDense): T5DenseGatedGeluDense(\n",
              "              (wi_0): Linear(in_features=768, out_features=3072, bias=False)\n",
              "              (wi_1): Linear(in_features=768, out_features=3072, bias=False)\n",
              "              (wo): Linear(in_features=3072, out_features=768, bias=False)\n",
              "              (dropout): Dropout(p=0.1, inplace=False)\n",
              "            )\n",
              "            (layer_norm): T5LayerNorm()\n",
              "            (dropout): Dropout(p=0.1, inplace=False)\n",
              "          )\n",
              "        )\n",
              "      )\n",
              "      (6): T5Block(\n",
              "        (layer): ModuleList(\n",
              "          (0): T5LayerSelfAttention(\n",
              "            (SelfAttention): T5Attention(\n",
              "              (q): Linear(in_features=768, out_features=768, bias=False)\n",
              "              (k): Linear(in_features=768, out_features=768, bias=False)\n",
              "              (v): Linear(in_features=768, out_features=768, bias=False)\n",
              "              (o): Linear(in_features=768, out_features=768, bias=False)\n",
              "            )\n",
              "            (layer_norm): T5LayerNorm()\n",
              "            (dropout): Dropout(p=0.1, inplace=False)\n",
              "          )\n",
              "          (1): T5LayerCrossAttention(\n",
              "            (EncDecAttention): T5Attention(\n",
              "              (q): Linear(in_features=768, out_features=768, bias=False)\n",
              "              (k): Linear(in_features=768, out_features=768, bias=False)\n",
              "              (v): Linear(in_features=768, out_features=768, bias=False)\n",
              "              (o): Linear(in_features=768, out_features=768, bias=False)\n",
              "            )\n",
              "            (layer_norm): T5LayerNorm()\n",
              "            (dropout): Dropout(p=0.1, inplace=False)\n",
              "          )\n",
              "          (2): T5LayerFF(\n",
              "            (DenseReluDense): T5DenseGatedGeluDense(\n",
              "              (wi_0): Linear(in_features=768, out_features=3072, bias=False)\n",
              "              (wi_1): Linear(in_features=768, out_features=3072, bias=False)\n",
              "              (wo): Linear(in_features=3072, out_features=768, bias=False)\n",
              "              (dropout): Dropout(p=0.1, inplace=False)\n",
              "            )\n",
              "            (layer_norm): T5LayerNorm()\n",
              "            (dropout): Dropout(p=0.1, inplace=False)\n",
              "          )\n",
              "        )\n",
              "      )\n",
              "      (7): T5Block(\n",
              "        (layer): ModuleList(\n",
              "          (0): T5LayerSelfAttention(\n",
              "            (SelfAttention): T5Attention(\n",
              "              (q): Linear(in_features=768, out_features=768, bias=False)\n",
              "              (k): Linear(in_features=768, out_features=768, bias=False)\n",
              "              (v): Linear(in_features=768, out_features=768, bias=False)\n",
              "              (o): Linear(in_features=768, out_features=768, bias=False)\n",
              "            )\n",
              "            (layer_norm): T5LayerNorm()\n",
              "            (dropout): Dropout(p=0.1, inplace=False)\n",
              "          )\n",
              "          (1): T5LayerCrossAttention(\n",
              "            (EncDecAttention): T5Attention(\n",
              "              (q): Linear(in_features=768, out_features=768, bias=False)\n",
              "              (k): Linear(in_features=768, out_features=768, bias=False)\n",
              "              (v): Linear(in_features=768, out_features=768, bias=False)\n",
              "              (o): Linear(in_features=768, out_features=768, bias=False)\n",
              "            )\n",
              "            (layer_norm): T5LayerNorm()\n",
              "            (dropout): Dropout(p=0.1, inplace=False)\n",
              "          )\n",
              "          (2): T5LayerFF(\n",
              "            (DenseReluDense): T5DenseGatedGeluDense(\n",
              "              (wi_0): Linear(in_features=768, out_features=3072, bias=False)\n",
              "              (wi_1): Linear(in_features=768, out_features=3072, bias=False)\n",
              "              (wo): Linear(in_features=3072, out_features=768, bias=False)\n",
              "              (dropout): Dropout(p=0.1, inplace=False)\n",
              "            )\n",
              "            (layer_norm): T5LayerNorm()\n",
              "            (dropout): Dropout(p=0.1, inplace=False)\n",
              "          )\n",
              "        )\n",
              "      )\n",
              "      (8): T5Block(\n",
              "        (layer): ModuleList(\n",
              "          (0): T5LayerSelfAttention(\n",
              "            (SelfAttention): T5Attention(\n",
              "              (q): Linear(in_features=768, out_features=768, bias=False)\n",
              "              (k): Linear(in_features=768, out_features=768, bias=False)\n",
              "              (v): Linear(in_features=768, out_features=768, bias=False)\n",
              "              (o): Linear(in_features=768, out_features=768, bias=False)\n",
              "            )\n",
              "            (layer_norm): T5LayerNorm()\n",
              "            (dropout): Dropout(p=0.1, inplace=False)\n",
              "          )\n",
              "          (1): T5LayerCrossAttention(\n",
              "            (EncDecAttention): T5Attention(\n",
              "              (q): Linear(in_features=768, out_features=768, bias=False)\n",
              "              (k): Linear(in_features=768, out_features=768, bias=False)\n",
              "              (v): Linear(in_features=768, out_features=768, bias=False)\n",
              "              (o): Linear(in_features=768, out_features=768, bias=False)\n",
              "            )\n",
              "            (layer_norm): T5LayerNorm()\n",
              "            (dropout): Dropout(p=0.1, inplace=False)\n",
              "          )\n",
              "          (2): T5LayerFF(\n",
              "            (DenseReluDense): T5DenseGatedGeluDense(\n",
              "              (wi_0): Linear(in_features=768, out_features=3072, bias=False)\n",
              "              (wi_1): Linear(in_features=768, out_features=3072, bias=False)\n",
              "              (wo): Linear(in_features=3072, out_features=768, bias=False)\n",
              "              (dropout): Dropout(p=0.1, inplace=False)\n",
              "            )\n",
              "            (layer_norm): T5LayerNorm()\n",
              "            (dropout): Dropout(p=0.1, inplace=False)\n",
              "          )\n",
              "        )\n",
              "      )\n",
              "      (9): T5Block(\n",
              "        (layer): ModuleList(\n",
              "          (0): T5LayerSelfAttention(\n",
              "            (SelfAttention): T5Attention(\n",
              "              (q): Linear(in_features=768, out_features=768, bias=False)\n",
              "              (k): Linear(in_features=768, out_features=768, bias=False)\n",
              "              (v): Linear(in_features=768, out_features=768, bias=False)\n",
              "              (o): Linear(in_features=768, out_features=768, bias=False)\n",
              "            )\n",
              "            (layer_norm): T5LayerNorm()\n",
              "            (dropout): Dropout(p=0.1, inplace=False)\n",
              "          )\n",
              "          (1): T5LayerCrossAttention(\n",
              "            (EncDecAttention): T5Attention(\n",
              "              (q): Linear(in_features=768, out_features=768, bias=False)\n",
              "              (k): Linear(in_features=768, out_features=768, bias=False)\n",
              "              (v): Linear(in_features=768, out_features=768, bias=False)\n",
              "              (o): Linear(in_features=768, out_features=768, bias=False)\n",
              "            )\n",
              "            (layer_norm): T5LayerNorm()\n",
              "            (dropout): Dropout(p=0.1, inplace=False)\n",
              "          )\n",
              "          (2): T5LayerFF(\n",
              "            (DenseReluDense): T5DenseGatedGeluDense(\n",
              "              (wi_0): Linear(in_features=768, out_features=3072, bias=False)\n",
              "              (wi_1): Linear(in_features=768, out_features=3072, bias=False)\n",
              "              (wo): Linear(in_features=3072, out_features=768, bias=False)\n",
              "              (dropout): Dropout(p=0.1, inplace=False)\n",
              "            )\n",
              "            (layer_norm): T5LayerNorm()\n",
              "            (dropout): Dropout(p=0.1, inplace=False)\n",
              "          )\n",
              "        )\n",
              "      )\n",
              "      (10): T5Block(\n",
              "        (layer): ModuleList(\n",
              "          (0): T5LayerSelfAttention(\n",
              "            (SelfAttention): T5Attention(\n",
              "              (q): Linear(in_features=768, out_features=768, bias=False)\n",
              "              (k): Linear(in_features=768, out_features=768, bias=False)\n",
              "              (v): Linear(in_features=768, out_features=768, bias=False)\n",
              "              (o): Linear(in_features=768, out_features=768, bias=False)\n",
              "            )\n",
              "            (layer_norm): T5LayerNorm()\n",
              "            (dropout): Dropout(p=0.1, inplace=False)\n",
              "          )\n",
              "          (1): T5LayerCrossAttention(\n",
              "            (EncDecAttention): T5Attention(\n",
              "              (q): Linear(in_features=768, out_features=768, bias=False)\n",
              "              (k): Linear(in_features=768, out_features=768, bias=False)\n",
              "              (v): Linear(in_features=768, out_features=768, bias=False)\n",
              "              (o): Linear(in_features=768, out_features=768, bias=False)\n",
              "            )\n",
              "            (layer_norm): T5LayerNorm()\n",
              "            (dropout): Dropout(p=0.1, inplace=False)\n",
              "          )\n",
              "          (2): T5LayerFF(\n",
              "            (DenseReluDense): T5DenseGatedGeluDense(\n",
              "              (wi_0): Linear(in_features=768, out_features=3072, bias=False)\n",
              "              (wi_1): Linear(in_features=768, out_features=3072, bias=False)\n",
              "              (wo): Linear(in_features=3072, out_features=768, bias=False)\n",
              "              (dropout): Dropout(p=0.1, inplace=False)\n",
              "            )\n",
              "            (layer_norm): T5LayerNorm()\n",
              "            (dropout): Dropout(p=0.1, inplace=False)\n",
              "          )\n",
              "        )\n",
              "      )\n",
              "      (11): T5Block(\n",
              "        (layer): ModuleList(\n",
              "          (0): T5LayerSelfAttention(\n",
              "            (SelfAttention): T5Attention(\n",
              "              (q): Linear(in_features=768, out_features=768, bias=False)\n",
              "              (k): Linear(in_features=768, out_features=768, bias=False)\n",
              "              (v): Linear(in_features=768, out_features=768, bias=False)\n",
              "              (o): Linear(in_features=768, out_features=768, bias=False)\n",
              "            )\n",
              "            (layer_norm): T5LayerNorm()\n",
              "            (dropout): Dropout(p=0.1, inplace=False)\n",
              "          )\n",
              "          (1): T5LayerCrossAttention(\n",
              "            (EncDecAttention): T5Attention(\n",
              "              (q): Linear(in_features=768, out_features=768, bias=False)\n",
              "              (k): Linear(in_features=768, out_features=768, bias=False)\n",
              "              (v): Linear(in_features=768, out_features=768, bias=False)\n",
              "              (o): Linear(in_features=768, out_features=768, bias=False)\n",
              "            )\n",
              "            (layer_norm): T5LayerNorm()\n",
              "            (dropout): Dropout(p=0.1, inplace=False)\n",
              "          )\n",
              "          (2): T5LayerFF(\n",
              "            (DenseReluDense): T5DenseGatedGeluDense(\n",
              "              (wi_0): Linear(in_features=768, out_features=3072, bias=False)\n",
              "              (wi_1): Linear(in_features=768, out_features=3072, bias=False)\n",
              "              (wo): Linear(in_features=3072, out_features=768, bias=False)\n",
              "              (dropout): Dropout(p=0.1, inplace=False)\n",
              "            )\n",
              "            (layer_norm): T5LayerNorm()\n",
              "            (dropout): Dropout(p=0.1, inplace=False)\n",
              "          )\n",
              "        )\n",
              "      )\n",
              "    )\n",
              "    (final_layer_norm): T5LayerNorm()\n",
              "    (dropout): Dropout(p=0.1, inplace=False)\n",
              "  )\n",
              "  (lm_head): Linear(in_features=768, out_features=45100, bias=False)\n",
              ")"
            ]
          },
          "metadata": {},
          "execution_count": 8
        }
      ]
    },
    {
      "cell_type": "markdown",
      "metadata": {
        "id": "HPz-4_59r3Jt"
      },
      "source": [
        "hyper-parameters"
      ]
    },
    {
      "cell_type": "code",
      "metadata": {
        "id": "UbU1ySuJsS36"
      },
      "source": [
        "config = T5Config()\n",
        "config.MAX_LEN = 1024\n",
        "config.SUMMARY_LEN = 150 \n",
        "config.TRAIN_BATCH_SIZE = 2       # input batch size for training (default: 64)\n",
        "config.VALID_BATCH_SIZE = 2    # input batch size for testing (default: 1000)\n",
        "config.TRAIN_EPOCHS = 8       # number of epochs to train (default: 10)\n",
        "config.VAL_EPOCHS = 1\n",
        "config.LEARNING_RATE = 1e-4    # learning rate (default: 0.01)\n",
        "config.SEED = 42               # random seed (default: 42)"
      ],
      "execution_count": null,
      "outputs": []
    },
    {
      "cell_type": "code",
      "metadata": {
        "id": "1hLshDtNsS1R"
      },
      "source": [
        "train_params = {\n",
        "        'batch_size': config.TRAIN_BATCH_SIZE,\n",
        "        'shuffle': True,\n",
        "        'num_workers': 0\n",
        "        }\n",
        "\n",
        "val_params = {\n",
        "        'batch_size': config.VALID_BATCH_SIZE,\n",
        "        'shuffle': False,\n",
        "        'num_workers': 0\n",
        "        }\n",
        "\n",
        "optimizer = torch.optim.Adam(params =  model.parameters(), lr=config.LEARNING_RATE)"
      ],
      "execution_count": null,
      "outputs": []
    },
    {
      "cell_type": "markdown",
      "metadata": {
        "id": "YbNeiQ9O7up6"
      },
      "source": [
        "dataset"
      ]
    },
    {
      "cell_type": "code",
      "metadata": {
        "id": "1z5DClk92JFV"
      },
      "source": [
        "import pandas as pd\n",
        "train_dataset = pd.read_csv('/content/drive/MyDrive/3차 프로젝트/dataset/train.csv')[['document','label']].iloc[60000:120000]\n",
        "validation_dataset = pd.read_csv('/content/drive/MyDrive/3차 프로젝트/dataset/valid.csv')[['document','label']].iloc[:10000]"
      ],
      "execution_count": null,
      "outputs": []
    },
    {
      "cell_type": "markdown",
      "metadata": {
        "id": "I4JFTHoisIGQ"
      },
      "source": [
        "train"
      ]
    },
    {
      "cell_type": "code",
      "metadata": {
        "colab": {
          "base_uri": "https://localhost:8080/"
        },
        "id": "U7e4LNJssSzF",
        "outputId": "364534d0-f2b7-4e9e-fb3e-eded56a758c4"
      },
      "source": [
        "train_dataset.columns = ['ctext','text']\n",
        "train_dataset.ctext = 'summarize: ' + train_dataset.ctext\n",
        "\n",
        "training_set = CustomDataset(train_dataset, tokenizer, config.MAX_LEN, config.SUMMARY_LEN)\n",
        "training_loader = DataLoader(training_set, **train_params)\n",
        "\n",
        "\n",
        "for epoch in range(config.TRAIN_EPOCHS):\n",
        "    print (1)\n",
        "    train(epoch, tokenizer, model, device, training_loader, optimizer)\n",
        "    tokenizer.save_pretrained('/content/drive/MyDrive/3차프로젝트_현정/eT5_epoch8/pretrained_120000/{}'.format(epoch))\n",
        "    model.save_pretrained('/content/drive/MyDrive/3차프로젝트_현정/eT5_epoch8/pretrained_120000/{}'.format(epoch))"
      ],
      "execution_count": null,
      "outputs": [
        {
          "output_type": "stream",
          "name": "stdout",
          "text": [
            "1\n"
          ]
        },
        {
          "output_type": "stream",
          "name": "stderr",
          "text": [
            "\r0it [00:00, ?it/s]Truncation was not explicitly activated but `max_length` is provided a specific value, please use `truncation=True` to explicitly truncate examples to max length. Defaulting to 'longest_first' truncation strategy. If you encode pairs of sequences (GLUE-style) with the tokenizer you can select this strategy more precisely by providing a specific strategy to `truncation`.\n",
            "/usr/local/lib/python3.7/dist-packages/transformers/tokenization_utils_base.py:2218: FutureWarning: The `pad_to_max_length` argument is deprecated and will be removed in a future version, use `padding=True` or `padding='longest'` to pad to the longest sequence in the batch, or use `padding='max_length'` to pad to a max length. In this case, you can give a specific length with `max_length` (e.g. `max_length=45`) or leave max_length to None to pad to the maximal input size of the model (e.g. 512 for Bert).\n",
            "  FutureWarning,\n",
            "1it [00:00,  2.45it/s]"
          ]
        },
        {
          "output_type": "stream",
          "name": "stdout",
          "text": [
            "Epoch: 0, Loss:  1.5735688209533691\n"
          ]
        },
        {
          "output_type": "stream",
          "name": "stderr",
          "text": [
            "501it [02:42,  3.09it/s]"
          ]
        },
        {
          "output_type": "stream",
          "name": "stdout",
          "text": [
            "Epoch: 0, Loss:  3.13287615776062\n"
          ]
        },
        {
          "output_type": "stream",
          "name": "stderr",
          "text": [
            "1001it [05:23,  3.08it/s]"
          ]
        },
        {
          "output_type": "stream",
          "name": "stdout",
          "text": [
            "Epoch: 0, Loss:  3.27022647857666\n"
          ]
        },
        {
          "output_type": "stream",
          "name": "stderr",
          "text": [
            "1501it [08:05,  3.09it/s]"
          ]
        },
        {
          "output_type": "stream",
          "name": "stdout",
          "text": [
            "Epoch: 0, Loss:  2.7820258140563965\n"
          ]
        },
        {
          "output_type": "stream",
          "name": "stderr",
          "text": [
            "2001it [10:47,  3.07it/s]"
          ]
        },
        {
          "output_type": "stream",
          "name": "stdout",
          "text": [
            "Epoch: 0, Loss:  1.5310553312301636\n"
          ]
        },
        {
          "output_type": "stream",
          "name": "stderr",
          "text": [
            "2501it [13:29,  3.08it/s]"
          ]
        },
        {
          "output_type": "stream",
          "name": "stdout",
          "text": [
            "Epoch: 0, Loss:  2.481048583984375\n"
          ]
        },
        {
          "output_type": "stream",
          "name": "stderr",
          "text": [
            "3001it [16:11,  3.08it/s]"
          ]
        },
        {
          "output_type": "stream",
          "name": "stdout",
          "text": [
            "Epoch: 0, Loss:  1.8065719604492188\n"
          ]
        },
        {
          "output_type": "stream",
          "name": "stderr",
          "text": [
            "3501it [18:53,  3.08it/s]"
          ]
        },
        {
          "output_type": "stream",
          "name": "stdout",
          "text": [
            "Epoch: 0, Loss:  3.4816513061523438\n"
          ]
        },
        {
          "output_type": "stream",
          "name": "stderr",
          "text": [
            "4001it [21:35,  3.08it/s]"
          ]
        },
        {
          "output_type": "stream",
          "name": "stdout",
          "text": [
            "Epoch: 0, Loss:  3.071193218231201\n"
          ]
        },
        {
          "output_type": "stream",
          "name": "stderr",
          "text": [
            "4501it [24:17,  3.09it/s]"
          ]
        },
        {
          "output_type": "stream",
          "name": "stdout",
          "text": [
            "Epoch: 0, Loss:  2.169931411743164\n"
          ]
        },
        {
          "output_type": "stream",
          "name": "stderr",
          "text": [
            "5001it [26:59,  3.09it/s]"
          ]
        },
        {
          "output_type": "stream",
          "name": "stdout",
          "text": [
            "Epoch: 0, Loss:  1.290539026260376\n"
          ]
        },
        {
          "output_type": "stream",
          "name": "stderr",
          "text": [
            "5501it [29:41,  3.09it/s]"
          ]
        },
        {
          "output_type": "stream",
          "name": "stdout",
          "text": [
            "Epoch: 0, Loss:  2.059598684310913\n"
          ]
        },
        {
          "output_type": "stream",
          "name": "stderr",
          "text": [
            "6001it [32:23,  3.08it/s]"
          ]
        },
        {
          "output_type": "stream",
          "name": "stdout",
          "text": [
            "Epoch: 0, Loss:  2.341318130493164\n"
          ]
        },
        {
          "output_type": "stream",
          "name": "stderr",
          "text": [
            "6501it [35:05,  3.09it/s]"
          ]
        },
        {
          "output_type": "stream",
          "name": "stdout",
          "text": [
            "Epoch: 0, Loss:  2.1471168994903564\n"
          ]
        },
        {
          "output_type": "stream",
          "name": "stderr",
          "text": [
            "7001it [37:47,  3.07it/s]"
          ]
        },
        {
          "output_type": "stream",
          "name": "stdout",
          "text": [
            "Epoch: 0, Loss:  1.5873159170150757\n"
          ]
        },
        {
          "output_type": "stream",
          "name": "stderr",
          "text": [
            "7501it [40:29,  3.09it/s]"
          ]
        },
        {
          "output_type": "stream",
          "name": "stdout",
          "text": [
            "Epoch: 0, Loss:  1.517998218536377\n"
          ]
        },
        {
          "output_type": "stream",
          "name": "stderr",
          "text": [
            "8001it [43:11,  3.08it/s]"
          ]
        },
        {
          "output_type": "stream",
          "name": "stdout",
          "text": [
            "Epoch: 0, Loss:  1.0593961477279663\n"
          ]
        },
        {
          "output_type": "stream",
          "name": "stderr",
          "text": [
            "8501it [45:53,  3.08it/s]"
          ]
        },
        {
          "output_type": "stream",
          "name": "stdout",
          "text": [
            "Epoch: 0, Loss:  1.6862890720367432\n"
          ]
        },
        {
          "output_type": "stream",
          "name": "stderr",
          "text": [
            "9001it [48:35,  3.08it/s]"
          ]
        },
        {
          "output_type": "stream",
          "name": "stdout",
          "text": [
            "Epoch: 0, Loss:  1.9414782524108887\n"
          ]
        },
        {
          "output_type": "stream",
          "name": "stderr",
          "text": [
            "9501it [51:17,  3.09it/s]"
          ]
        },
        {
          "output_type": "stream",
          "name": "stdout",
          "text": [
            "Epoch: 0, Loss:  1.2941901683807373\n"
          ]
        },
        {
          "output_type": "stream",
          "name": "stderr",
          "text": [
            "10001it [53:59,  3.07it/s]"
          ]
        },
        {
          "output_type": "stream",
          "name": "stdout",
          "text": [
            "Epoch: 0, Loss:  2.1557888984680176\n"
          ]
        },
        {
          "output_type": "stream",
          "name": "stderr",
          "text": [
            "10501it [56:40,  3.08it/s]"
          ]
        },
        {
          "output_type": "stream",
          "name": "stdout",
          "text": [
            "Epoch: 0, Loss:  1.6166061162948608\n"
          ]
        },
        {
          "output_type": "stream",
          "name": "stderr",
          "text": [
            "11001it [59:22,  3.08it/s]"
          ]
        },
        {
          "output_type": "stream",
          "name": "stdout",
          "text": [
            "Epoch: 0, Loss:  2.402845859527588\n"
          ]
        },
        {
          "output_type": "stream",
          "name": "stderr",
          "text": [
            "11501it [1:02:04,  3.09it/s]"
          ]
        },
        {
          "output_type": "stream",
          "name": "stdout",
          "text": [
            "Epoch: 0, Loss:  1.3065974712371826\n"
          ]
        },
        {
          "output_type": "stream",
          "name": "stderr",
          "text": [
            "12001it [1:04:46,  3.09it/s]"
          ]
        },
        {
          "output_type": "stream",
          "name": "stdout",
          "text": [
            "Epoch: 0, Loss:  1.50362229347229\n"
          ]
        },
        {
          "output_type": "stream",
          "name": "stderr",
          "text": [
            "12501it [1:07:27,  3.08it/s]"
          ]
        },
        {
          "output_type": "stream",
          "name": "stdout",
          "text": [
            "Epoch: 0, Loss:  2.641782283782959\n"
          ]
        },
        {
          "output_type": "stream",
          "name": "stderr",
          "text": [
            "13001it [1:10:09,  3.10it/s]"
          ]
        },
        {
          "output_type": "stream",
          "name": "stdout",
          "text": [
            "Epoch: 0, Loss:  2.107473373413086\n"
          ]
        },
        {
          "output_type": "stream",
          "name": "stderr",
          "text": [
            "13501it [1:12:51,  3.09it/s]"
          ]
        },
        {
          "output_type": "stream",
          "name": "stdout",
          "text": [
            "Epoch: 0, Loss:  1.0564475059509277\n"
          ]
        },
        {
          "output_type": "stream",
          "name": "stderr",
          "text": [
            "14001it [1:15:33,  3.09it/s]"
          ]
        },
        {
          "output_type": "stream",
          "name": "stdout",
          "text": [
            "Epoch: 0, Loss:  1.7667887210845947\n"
          ]
        },
        {
          "output_type": "stream",
          "name": "stderr",
          "text": [
            "14501it [1:18:15,  3.09it/s]"
          ]
        },
        {
          "output_type": "stream",
          "name": "stdout",
          "text": [
            "Epoch: 0, Loss:  1.9040398597717285\n"
          ]
        },
        {
          "output_type": "stream",
          "name": "stderr",
          "text": [
            "15001it [1:20:57,  3.08it/s]"
          ]
        },
        {
          "output_type": "stream",
          "name": "stdout",
          "text": [
            "Epoch: 0, Loss:  1.4173667430877686\n"
          ]
        },
        {
          "output_type": "stream",
          "name": "stderr",
          "text": [
            "15501it [1:23:39,  3.09it/s]"
          ]
        },
        {
          "output_type": "stream",
          "name": "stdout",
          "text": [
            "Epoch: 0, Loss:  0.9534068703651428\n"
          ]
        },
        {
          "output_type": "stream",
          "name": "stderr",
          "text": [
            "16001it [1:26:21,  3.07it/s]"
          ]
        },
        {
          "output_type": "stream",
          "name": "stdout",
          "text": [
            "Epoch: 0, Loss:  1.9939074516296387\n"
          ]
        },
        {
          "output_type": "stream",
          "name": "stderr",
          "text": [
            "16501it [1:29:03,  3.10it/s]"
          ]
        },
        {
          "output_type": "stream",
          "name": "stdout",
          "text": [
            "Epoch: 0, Loss:  1.9442886114120483\n"
          ]
        },
        {
          "output_type": "stream",
          "name": "stderr",
          "text": [
            "17001it [1:31:45,  3.08it/s]"
          ]
        },
        {
          "output_type": "stream",
          "name": "stdout",
          "text": [
            "Epoch: 0, Loss:  1.9202046394348145\n"
          ]
        },
        {
          "output_type": "stream",
          "name": "stderr",
          "text": [
            "17501it [1:34:27,  3.08it/s]"
          ]
        },
        {
          "output_type": "stream",
          "name": "stdout",
          "text": [
            "Epoch: 0, Loss:  1.1740429401397705\n"
          ]
        },
        {
          "output_type": "stream",
          "name": "stderr",
          "text": [
            "18001it [1:37:08,  3.09it/s]"
          ]
        },
        {
          "output_type": "stream",
          "name": "stdout",
          "text": [
            "Epoch: 0, Loss:  1.550848126411438\n"
          ]
        },
        {
          "output_type": "stream",
          "name": "stderr",
          "text": [
            "18501it [1:39:50,  3.09it/s]"
          ]
        },
        {
          "output_type": "stream",
          "name": "stdout",
          "text": [
            "Epoch: 0, Loss:  1.543804407119751\n"
          ]
        },
        {
          "output_type": "stream",
          "name": "stderr",
          "text": [
            "19001it [1:42:32,  3.10it/s]"
          ]
        },
        {
          "output_type": "stream",
          "name": "stdout",
          "text": [
            "Epoch: 0, Loss:  1.6063393354415894\n"
          ]
        },
        {
          "output_type": "stream",
          "name": "stderr",
          "text": [
            "19501it [1:45:14,  3.09it/s]"
          ]
        },
        {
          "output_type": "stream",
          "name": "stdout",
          "text": [
            "Epoch: 0, Loss:  1.8161988258361816\n"
          ]
        },
        {
          "output_type": "stream",
          "name": "stderr",
          "text": [
            "20001it [1:47:56,  3.08it/s]"
          ]
        },
        {
          "output_type": "stream",
          "name": "stdout",
          "text": [
            "Epoch: 0, Loss:  2.735487461090088\n"
          ]
        },
        {
          "output_type": "stream",
          "name": "stderr",
          "text": [
            "20501it [1:50:38,  3.08it/s]"
          ]
        },
        {
          "output_type": "stream",
          "name": "stdout",
          "text": [
            "Epoch: 0, Loss:  1.5014430284500122\n"
          ]
        },
        {
          "output_type": "stream",
          "name": "stderr",
          "text": [
            "21001it [1:53:20,  3.08it/s]"
          ]
        },
        {
          "output_type": "stream",
          "name": "stdout",
          "text": [
            "Epoch: 0, Loss:  2.366119146347046\n"
          ]
        },
        {
          "output_type": "stream",
          "name": "stderr",
          "text": [
            "21501it [1:56:01,  3.09it/s]"
          ]
        },
        {
          "output_type": "stream",
          "name": "stdout",
          "text": [
            "Epoch: 0, Loss:  0.566371500492096\n"
          ]
        },
        {
          "output_type": "stream",
          "name": "stderr",
          "text": [
            "22001it [1:58:43,  3.08it/s]"
          ]
        },
        {
          "output_type": "stream",
          "name": "stdout",
          "text": [
            "Epoch: 0, Loss:  2.146491765975952\n"
          ]
        },
        {
          "output_type": "stream",
          "name": "stderr",
          "text": [
            "22501it [2:01:25,  3.07it/s]"
          ]
        },
        {
          "output_type": "stream",
          "name": "stdout",
          "text": [
            "Epoch: 0, Loss:  1.675500750541687\n"
          ]
        },
        {
          "output_type": "stream",
          "name": "stderr",
          "text": [
            "23001it [2:04:07,  3.10it/s]"
          ]
        },
        {
          "output_type": "stream",
          "name": "stdout",
          "text": [
            "Epoch: 0, Loss:  2.108466625213623\n"
          ]
        },
        {
          "output_type": "stream",
          "name": "stderr",
          "text": [
            "23501it [2:06:49,  3.09it/s]"
          ]
        },
        {
          "output_type": "stream",
          "name": "stdout",
          "text": [
            "Epoch: 0, Loss:  1.8066463470458984\n"
          ]
        },
        {
          "output_type": "stream",
          "name": "stderr",
          "text": [
            "24001it [2:09:31,  3.09it/s]"
          ]
        },
        {
          "output_type": "stream",
          "name": "stdout",
          "text": [
            "Epoch: 0, Loss:  1.4808646440505981\n"
          ]
        },
        {
          "output_type": "stream",
          "name": "stderr",
          "text": [
            "24501it [2:12:13,  3.08it/s]"
          ]
        },
        {
          "output_type": "stream",
          "name": "stdout",
          "text": [
            "Epoch: 0, Loss:  2.097578763961792\n"
          ]
        },
        {
          "output_type": "stream",
          "name": "stderr",
          "text": [
            "25001it [2:14:55,  3.08it/s]"
          ]
        },
        {
          "output_type": "stream",
          "name": "stdout",
          "text": [
            "Epoch: 0, Loss:  0.910900890827179\n"
          ]
        },
        {
          "output_type": "stream",
          "name": "stderr",
          "text": [
            "25501it [2:17:37,  3.08it/s]"
          ]
        },
        {
          "output_type": "stream",
          "name": "stdout",
          "text": [
            "Epoch: 0, Loss:  1.6820223331451416\n"
          ]
        },
        {
          "output_type": "stream",
          "name": "stderr",
          "text": [
            "26001it [2:20:19,  3.08it/s]"
          ]
        },
        {
          "output_type": "stream",
          "name": "stdout",
          "text": [
            "Epoch: 0, Loss:  1.8081159591674805\n"
          ]
        },
        {
          "output_type": "stream",
          "name": "stderr",
          "text": [
            "26501it [2:23:01,  3.08it/s]"
          ]
        },
        {
          "output_type": "stream",
          "name": "stdout",
          "text": [
            "Epoch: 0, Loss:  1.2422274351119995\n"
          ]
        },
        {
          "output_type": "stream",
          "name": "stderr",
          "text": [
            "27001it [2:25:43,  3.08it/s]"
          ]
        },
        {
          "output_type": "stream",
          "name": "stdout",
          "text": [
            "Epoch: 0, Loss:  1.6053634881973267\n"
          ]
        },
        {
          "output_type": "stream",
          "name": "stderr",
          "text": [
            "27501it [2:28:25,  3.07it/s]"
          ]
        },
        {
          "output_type": "stream",
          "name": "stdout",
          "text": [
            "Epoch: 0, Loss:  2.716738224029541\n"
          ]
        },
        {
          "output_type": "stream",
          "name": "stderr",
          "text": [
            "28001it [2:31:07,  3.08it/s]"
          ]
        },
        {
          "output_type": "stream",
          "name": "stdout",
          "text": [
            "Epoch: 0, Loss:  1.3037232160568237\n"
          ]
        },
        {
          "output_type": "stream",
          "name": "stderr",
          "text": [
            "28501it [2:33:49,  3.09it/s]"
          ]
        },
        {
          "output_type": "stream",
          "name": "stdout",
          "text": [
            "Epoch: 0, Loss:  1.3194314241409302\n"
          ]
        },
        {
          "output_type": "stream",
          "name": "stderr",
          "text": [
            "29001it [2:36:31,  3.08it/s]"
          ]
        },
        {
          "output_type": "stream",
          "name": "stdout",
          "text": [
            "Epoch: 0, Loss:  1.253951072692871\n"
          ]
        },
        {
          "output_type": "stream",
          "name": "stderr",
          "text": [
            "29501it [2:39:13,  3.09it/s]"
          ]
        },
        {
          "output_type": "stream",
          "name": "stdout",
          "text": [
            "Epoch: 0, Loss:  3.0592143535614014\n"
          ]
        },
        {
          "output_type": "stream",
          "name": "stderr",
          "text": [
            "30000it [2:41:54,  3.09it/s]\n"
          ]
        },
        {
          "output_type": "stream",
          "name": "stdout",
          "text": [
            "1\n"
          ]
        },
        {
          "output_type": "stream",
          "name": "stderr",
          "text": [
            "\r0it [00:00, ?it/s]"
          ]
        },
        {
          "output_type": "stream",
          "name": "stdout",
          "text": [
            "Epoch: 1, Loss:  1.2248300313949585\n"
          ]
        },
        {
          "output_type": "stream",
          "name": "stderr",
          "text": [
            "501it [02:42,  3.09it/s]"
          ]
        },
        {
          "output_type": "stream",
          "name": "stdout",
          "text": [
            "Epoch: 1, Loss:  1.307110071182251\n"
          ]
        },
        {
          "output_type": "stream",
          "name": "stderr",
          "text": [
            "1001it [05:24,  3.07it/s]"
          ]
        },
        {
          "output_type": "stream",
          "name": "stdout",
          "text": [
            "Epoch: 1, Loss:  1.47472083568573\n"
          ]
        },
        {
          "output_type": "stream",
          "name": "stderr",
          "text": [
            "1501it [08:06,  3.09it/s]"
          ]
        },
        {
          "output_type": "stream",
          "name": "stdout",
          "text": [
            "Epoch: 1, Loss:  1.2232944965362549\n"
          ]
        },
        {
          "output_type": "stream",
          "name": "stderr",
          "text": [
            "2001it [10:47,  3.09it/s]"
          ]
        },
        {
          "output_type": "stream",
          "name": "stdout",
          "text": [
            "Epoch: 1, Loss:  0.7576041221618652\n"
          ]
        },
        {
          "output_type": "stream",
          "name": "stderr",
          "text": [
            "2501it [13:29,  3.08it/s]"
          ]
        },
        {
          "output_type": "stream",
          "name": "stdout",
          "text": [
            "Epoch: 1, Loss:  0.7364258766174316\n"
          ]
        },
        {
          "output_type": "stream",
          "name": "stderr",
          "text": [
            "3001it [16:11,  3.08it/s]"
          ]
        },
        {
          "output_type": "stream",
          "name": "stdout",
          "text": [
            "Epoch: 1, Loss:  0.8407242298126221\n"
          ]
        },
        {
          "output_type": "stream",
          "name": "stderr",
          "text": [
            "3501it [18:53,  3.09it/s]"
          ]
        },
        {
          "output_type": "stream",
          "name": "stdout",
          "text": [
            "Epoch: 1, Loss:  1.4360655546188354\n"
          ]
        },
        {
          "output_type": "stream",
          "name": "stderr",
          "text": [
            "4001it [21:35,  3.09it/s]"
          ]
        },
        {
          "output_type": "stream",
          "name": "stdout",
          "text": [
            "Epoch: 1, Loss:  0.5257396697998047\n"
          ]
        },
        {
          "output_type": "stream",
          "name": "stderr",
          "text": [
            "4501it [24:16,  3.09it/s]"
          ]
        },
        {
          "output_type": "stream",
          "name": "stdout",
          "text": [
            "Epoch: 1, Loss:  1.0865434408187866\n"
          ]
        },
        {
          "output_type": "stream",
          "name": "stderr",
          "text": [
            "5001it [26:58,  3.09it/s]"
          ]
        },
        {
          "output_type": "stream",
          "name": "stdout",
          "text": [
            "Epoch: 1, Loss:  0.7194350361824036\n"
          ]
        },
        {
          "output_type": "stream",
          "name": "stderr",
          "text": [
            "5501it [29:40,  3.08it/s]"
          ]
        },
        {
          "output_type": "stream",
          "name": "stdout",
          "text": [
            "Epoch: 1, Loss:  1.3001790046691895\n"
          ]
        },
        {
          "output_type": "stream",
          "name": "stderr",
          "text": [
            "6001it [32:21,  3.09it/s]"
          ]
        },
        {
          "output_type": "stream",
          "name": "stdout",
          "text": [
            "Epoch: 1, Loss:  0.7874941229820251\n"
          ]
        },
        {
          "output_type": "stream",
          "name": "stderr",
          "text": [
            "6501it [35:03,  3.09it/s]"
          ]
        },
        {
          "output_type": "stream",
          "name": "stdout",
          "text": [
            "Epoch: 1, Loss:  1.6067039966583252\n"
          ]
        },
        {
          "output_type": "stream",
          "name": "stderr",
          "text": [
            "7001it [37:45,  3.09it/s]"
          ]
        },
        {
          "output_type": "stream",
          "name": "stdout",
          "text": [
            "Epoch: 1, Loss:  0.9842748641967773\n"
          ]
        },
        {
          "output_type": "stream",
          "name": "stderr",
          "text": [
            "7501it [40:27,  3.08it/s]"
          ]
        },
        {
          "output_type": "stream",
          "name": "stdout",
          "text": [
            "Epoch: 1, Loss:  0.9740765690803528\n"
          ]
        },
        {
          "output_type": "stream",
          "name": "stderr",
          "text": [
            "8001it [43:08,  3.09it/s]"
          ]
        },
        {
          "output_type": "stream",
          "name": "stdout",
          "text": [
            "Epoch: 1, Loss:  1.4886161088943481\n"
          ]
        },
        {
          "output_type": "stream",
          "name": "stderr",
          "text": [
            "8501it [45:50,  3.10it/s]"
          ]
        },
        {
          "output_type": "stream",
          "name": "stdout",
          "text": [
            "Epoch: 1, Loss:  2.2738921642303467\n"
          ]
        },
        {
          "output_type": "stream",
          "name": "stderr",
          "text": [
            "9001it [48:32,  3.09it/s]"
          ]
        },
        {
          "output_type": "stream",
          "name": "stdout",
          "text": [
            "Epoch: 1, Loss:  1.4216519594192505\n"
          ]
        },
        {
          "output_type": "stream",
          "name": "stderr",
          "text": [
            "9501it [51:14,  3.10it/s]"
          ]
        },
        {
          "output_type": "stream",
          "name": "stdout",
          "text": [
            "Epoch: 1, Loss:  1.579195499420166\n"
          ]
        },
        {
          "output_type": "stream",
          "name": "stderr",
          "text": [
            "10001it [53:55,  3.09it/s]"
          ]
        },
        {
          "output_type": "stream",
          "name": "stdout",
          "text": [
            "Epoch: 1, Loss:  1.955386996269226\n"
          ]
        },
        {
          "output_type": "stream",
          "name": "stderr",
          "text": [
            "10501it [56:37,  3.10it/s]"
          ]
        },
        {
          "output_type": "stream",
          "name": "stdout",
          "text": [
            "Epoch: 1, Loss:  1.3297990560531616\n"
          ]
        },
        {
          "output_type": "stream",
          "name": "stderr",
          "text": [
            "11001it [59:18,  3.09it/s]"
          ]
        },
        {
          "output_type": "stream",
          "name": "stdout",
          "text": [
            "Epoch: 1, Loss:  1.0394591093063354\n"
          ]
        },
        {
          "output_type": "stream",
          "name": "stderr",
          "text": [
            "11501it [1:02:00,  3.09it/s]"
          ]
        },
        {
          "output_type": "stream",
          "name": "stdout",
          "text": [
            "Epoch: 1, Loss:  1.390060544013977\n"
          ]
        },
        {
          "output_type": "stream",
          "name": "stderr",
          "text": [
            "12001it [1:04:42,  3.09it/s]"
          ]
        },
        {
          "output_type": "stream",
          "name": "stdout",
          "text": [
            "Epoch: 1, Loss:  0.9615561962127686\n"
          ]
        },
        {
          "output_type": "stream",
          "name": "stderr",
          "text": [
            "12501it [1:07:24,  3.08it/s]"
          ]
        },
        {
          "output_type": "stream",
          "name": "stdout",
          "text": [
            "Epoch: 1, Loss:  1.5976710319519043\n"
          ]
        },
        {
          "output_type": "stream",
          "name": "stderr",
          "text": [
            "13001it [1:10:06,  3.09it/s]"
          ]
        },
        {
          "output_type": "stream",
          "name": "stdout",
          "text": [
            "Epoch: 1, Loss:  1.269109845161438\n"
          ]
        },
        {
          "output_type": "stream",
          "name": "stderr",
          "text": [
            "13501it [1:12:48,  3.09it/s]"
          ]
        },
        {
          "output_type": "stream",
          "name": "stdout",
          "text": [
            "Epoch: 1, Loss:  1.2432339191436768\n"
          ]
        },
        {
          "output_type": "stream",
          "name": "stderr",
          "text": [
            "14001it [1:15:30,  3.09it/s]"
          ]
        },
        {
          "output_type": "stream",
          "name": "stdout",
          "text": [
            "Epoch: 1, Loss:  1.7297810316085815\n"
          ]
        },
        {
          "output_type": "stream",
          "name": "stderr",
          "text": [
            "14501it [1:18:11,  3.08it/s]"
          ]
        },
        {
          "output_type": "stream",
          "name": "stdout",
          "text": [
            "Epoch: 1, Loss:  0.8887296319007874\n"
          ]
        },
        {
          "output_type": "stream",
          "name": "stderr",
          "text": [
            "15001it [1:20:53,  3.08it/s]"
          ]
        },
        {
          "output_type": "stream",
          "name": "stdout",
          "text": [
            "Epoch: 1, Loss:  1.6014496088027954\n"
          ]
        },
        {
          "output_type": "stream",
          "name": "stderr",
          "text": [
            "15501it [1:23:35,  3.09it/s]"
          ]
        },
        {
          "output_type": "stream",
          "name": "stdout",
          "text": [
            "Epoch: 1, Loss:  1.0423210859298706\n"
          ]
        },
        {
          "output_type": "stream",
          "name": "stderr",
          "text": [
            "16001it [1:26:17,  3.06it/s]"
          ]
        },
        {
          "output_type": "stream",
          "name": "stdout",
          "text": [
            "Epoch: 1, Loss:  1.5605038404464722\n"
          ]
        },
        {
          "output_type": "stream",
          "name": "stderr",
          "text": [
            "16501it [1:29:00,  3.09it/s]"
          ]
        },
        {
          "output_type": "stream",
          "name": "stdout",
          "text": [
            "Epoch: 1, Loss:  2.4193503856658936\n"
          ]
        },
        {
          "output_type": "stream",
          "name": "stderr",
          "text": [
            "17001it [1:31:41,  3.08it/s]"
          ]
        },
        {
          "output_type": "stream",
          "name": "stdout",
          "text": [
            "Epoch: 1, Loss:  1.1624956130981445\n"
          ]
        },
        {
          "output_type": "stream",
          "name": "stderr",
          "text": [
            "17501it [1:34:23,  3.10it/s]"
          ]
        },
        {
          "output_type": "stream",
          "name": "stdout",
          "text": [
            "Epoch: 1, Loss:  1.3104851245880127\n"
          ]
        },
        {
          "output_type": "stream",
          "name": "stderr",
          "text": [
            "18001it [1:37:05,  3.10it/s]"
          ]
        },
        {
          "output_type": "stream",
          "name": "stdout",
          "text": [
            "Epoch: 1, Loss:  1.6496973037719727\n"
          ]
        },
        {
          "output_type": "stream",
          "name": "stderr",
          "text": [
            "18501it [1:39:47,  3.08it/s]"
          ]
        },
        {
          "output_type": "stream",
          "name": "stdout",
          "text": [
            "Epoch: 1, Loss:  0.7551850080490112\n"
          ]
        },
        {
          "output_type": "stream",
          "name": "stderr",
          "text": [
            "19001it [1:42:29,  3.09it/s]"
          ]
        },
        {
          "output_type": "stream",
          "name": "stdout",
          "text": [
            "Epoch: 1, Loss:  1.1777112483978271\n"
          ]
        },
        {
          "output_type": "stream",
          "name": "stderr",
          "text": [
            "19501it [1:45:11,  3.08it/s]"
          ]
        },
        {
          "output_type": "stream",
          "name": "stdout",
          "text": [
            "Epoch: 1, Loss:  0.9146400094032288\n"
          ]
        },
        {
          "output_type": "stream",
          "name": "stderr",
          "text": [
            "20001it [1:47:53,  3.07it/s]"
          ]
        },
        {
          "output_type": "stream",
          "name": "stdout",
          "text": [
            "Epoch: 1, Loss:  2.5640878677368164\n"
          ]
        },
        {
          "output_type": "stream",
          "name": "stderr",
          "text": [
            "20501it [1:50:35,  3.08it/s]"
          ]
        },
        {
          "output_type": "stream",
          "name": "stdout",
          "text": [
            "Epoch: 1, Loss:  1.0786043405532837\n"
          ]
        },
        {
          "output_type": "stream",
          "name": "stderr",
          "text": [
            "21001it [1:53:17,  3.09it/s]"
          ]
        },
        {
          "output_type": "stream",
          "name": "stdout",
          "text": [
            "Epoch: 1, Loss:  2.485238790512085\n"
          ]
        },
        {
          "output_type": "stream",
          "name": "stderr",
          "text": [
            "21501it [1:55:59,  3.08it/s]"
          ]
        },
        {
          "output_type": "stream",
          "name": "stdout",
          "text": [
            "Epoch: 1, Loss:  1.1686190366744995\n"
          ]
        },
        {
          "output_type": "stream",
          "name": "stderr",
          "text": [
            "22001it [1:58:41,  3.08it/s]"
          ]
        },
        {
          "output_type": "stream",
          "name": "stdout",
          "text": [
            "Epoch: 1, Loss:  2.1419379711151123\n"
          ]
        },
        {
          "output_type": "stream",
          "name": "stderr",
          "text": [
            "22501it [2:01:23,  3.07it/s]"
          ]
        },
        {
          "output_type": "stream",
          "name": "stdout",
          "text": [
            "Epoch: 1, Loss:  1.2853420972824097\n"
          ]
        },
        {
          "output_type": "stream",
          "name": "stderr",
          "text": [
            "23001it [2:04:05,  3.07it/s]"
          ]
        },
        {
          "output_type": "stream",
          "name": "stdout",
          "text": [
            "Epoch: 1, Loss:  1.0768934488296509\n"
          ]
        },
        {
          "output_type": "stream",
          "name": "stderr",
          "text": [
            "23501it [2:06:47,  3.07it/s]"
          ]
        },
        {
          "output_type": "stream",
          "name": "stdout",
          "text": [
            "Epoch: 1, Loss:  1.16342031955719\n"
          ]
        },
        {
          "output_type": "stream",
          "name": "stderr",
          "text": [
            "24001it [2:09:30,  3.08it/s]"
          ]
        },
        {
          "output_type": "stream",
          "name": "stdout",
          "text": [
            "Epoch: 1, Loss:  0.8826706409454346\n"
          ]
        },
        {
          "output_type": "stream",
          "name": "stderr",
          "text": [
            "24501it [2:12:12,  3.07it/s]"
          ]
        },
        {
          "output_type": "stream",
          "name": "stdout",
          "text": [
            "Epoch: 1, Loss:  2.489900827407837\n"
          ]
        },
        {
          "output_type": "stream",
          "name": "stderr",
          "text": [
            "25001it [2:14:54,  3.07it/s]"
          ]
        },
        {
          "output_type": "stream",
          "name": "stdout",
          "text": [
            "Epoch: 1, Loss:  1.2110539674758911\n"
          ]
        },
        {
          "output_type": "stream",
          "name": "stderr",
          "text": [
            "25501it [2:17:36,  3.07it/s]"
          ]
        },
        {
          "output_type": "stream",
          "name": "stdout",
          "text": [
            "Epoch: 1, Loss:  1.5760418176651\n"
          ]
        },
        {
          "output_type": "stream",
          "name": "stderr",
          "text": [
            "26001it [2:20:19,  3.09it/s]"
          ]
        },
        {
          "output_type": "stream",
          "name": "stdout",
          "text": [
            "Epoch: 1, Loss:  2.1764895915985107\n"
          ]
        },
        {
          "output_type": "stream",
          "name": "stderr",
          "text": [
            "26501it [2:23:01,  3.08it/s]"
          ]
        },
        {
          "output_type": "stream",
          "name": "stdout",
          "text": [
            "Epoch: 1, Loss:  2.1896352767944336\n"
          ]
        },
        {
          "output_type": "stream",
          "name": "stderr",
          "text": [
            "27001it [2:25:43,  3.08it/s]"
          ]
        },
        {
          "output_type": "stream",
          "name": "stdout",
          "text": [
            "Epoch: 1, Loss:  1.755099892616272\n"
          ]
        },
        {
          "output_type": "stream",
          "name": "stderr",
          "text": [
            "27501it [2:28:25,  3.07it/s]"
          ]
        },
        {
          "output_type": "stream",
          "name": "stdout",
          "text": [
            "Epoch: 1, Loss:  1.7148929834365845\n"
          ]
        },
        {
          "output_type": "stream",
          "name": "stderr",
          "text": [
            "28001it [2:31:08,  3.08it/s]"
          ]
        },
        {
          "output_type": "stream",
          "name": "stdout",
          "text": [
            "Epoch: 1, Loss:  1.858493685722351\n"
          ]
        },
        {
          "output_type": "stream",
          "name": "stderr",
          "text": [
            "28501it [2:33:50,  3.07it/s]"
          ]
        },
        {
          "output_type": "stream",
          "name": "stdout",
          "text": [
            "Epoch: 1, Loss:  1.2335035800933838\n"
          ]
        },
        {
          "output_type": "stream",
          "name": "stderr",
          "text": [
            "29001it [2:36:32,  3.09it/s]"
          ]
        },
        {
          "output_type": "stream",
          "name": "stdout",
          "text": [
            "Epoch: 1, Loss:  2.4946823120117188\n"
          ]
        },
        {
          "output_type": "stream",
          "name": "stderr",
          "text": [
            "29501it [2:39:14,  3.09it/s]"
          ]
        },
        {
          "output_type": "stream",
          "name": "stdout",
          "text": [
            "Epoch: 1, Loss:  1.2455236911773682\n"
          ]
        },
        {
          "output_type": "stream",
          "name": "stderr",
          "text": [
            "30000it [2:41:55,  3.09it/s]\n"
          ]
        },
        {
          "output_type": "stream",
          "name": "stdout",
          "text": [
            "1\n"
          ]
        },
        {
          "output_type": "stream",
          "name": "stderr",
          "text": [
            "\r0it [00:00, ?it/s]"
          ]
        },
        {
          "output_type": "stream",
          "name": "stdout",
          "text": [
            "Epoch: 2, Loss:  1.259860873222351\n"
          ]
        },
        {
          "output_type": "stream",
          "name": "stderr",
          "text": [
            "501it [02:42,  3.09it/s]"
          ]
        },
        {
          "output_type": "stream",
          "name": "stdout",
          "text": [
            "Epoch: 2, Loss:  1.3843401670455933\n"
          ]
        },
        {
          "output_type": "stream",
          "name": "stderr",
          "text": [
            "1001it [05:23,  3.09it/s]"
          ]
        },
        {
          "output_type": "stream",
          "name": "stdout",
          "text": [
            "Epoch: 2, Loss:  0.6295233964920044\n"
          ]
        },
        {
          "output_type": "stream",
          "name": "stderr",
          "text": [
            "1501it [08:05,  3.09it/s]"
          ]
        },
        {
          "output_type": "stream",
          "name": "stdout",
          "text": [
            "Epoch: 2, Loss:  0.6549144983291626\n"
          ]
        },
        {
          "output_type": "stream",
          "name": "stderr",
          "text": [
            "2001it [10:47,  3.10it/s]"
          ]
        },
        {
          "output_type": "stream",
          "name": "stdout",
          "text": [
            "Epoch: 2, Loss:  1.1970514059066772\n"
          ]
        },
        {
          "output_type": "stream",
          "name": "stderr",
          "text": [
            "2501it [13:29,  3.08it/s]"
          ]
        },
        {
          "output_type": "stream",
          "name": "stdout",
          "text": [
            "Epoch: 2, Loss:  1.0715203285217285\n"
          ]
        },
        {
          "output_type": "stream",
          "name": "stderr",
          "text": [
            "3001it [16:10,  3.09it/s]"
          ]
        },
        {
          "output_type": "stream",
          "name": "stdout",
          "text": [
            "Epoch: 2, Loss:  0.9655066132545471\n"
          ]
        },
        {
          "output_type": "stream",
          "name": "stderr",
          "text": [
            "3501it [18:52,  3.09it/s]"
          ]
        },
        {
          "output_type": "stream",
          "name": "stdout",
          "text": [
            "Epoch: 2, Loss:  0.9053673148155212\n"
          ]
        },
        {
          "output_type": "stream",
          "name": "stderr",
          "text": [
            "4001it [21:34,  3.08it/s]"
          ]
        },
        {
          "output_type": "stream",
          "name": "stdout",
          "text": [
            "Epoch: 2, Loss:  1.1602041721343994\n"
          ]
        },
        {
          "output_type": "stream",
          "name": "stderr",
          "text": [
            "4501it [24:15,  3.07it/s]"
          ]
        },
        {
          "output_type": "stream",
          "name": "stdout",
          "text": [
            "Epoch: 2, Loss:  0.9416822791099548\n"
          ]
        },
        {
          "output_type": "stream",
          "name": "stderr",
          "text": [
            "5001it [26:57,  3.10it/s]"
          ]
        },
        {
          "output_type": "stream",
          "name": "stdout",
          "text": [
            "Epoch: 2, Loss:  1.4731210470199585\n"
          ]
        },
        {
          "output_type": "stream",
          "name": "stderr",
          "text": [
            "5501it [29:39,  3.10it/s]"
          ]
        },
        {
          "output_type": "stream",
          "name": "stdout",
          "text": [
            "Epoch: 2, Loss:  1.2977683544158936\n"
          ]
        },
        {
          "output_type": "stream",
          "name": "stderr",
          "text": [
            "6001it [32:21,  3.10it/s]"
          ]
        },
        {
          "output_type": "stream",
          "name": "stdout",
          "text": [
            "Epoch: 2, Loss:  0.9694316387176514\n"
          ]
        },
        {
          "output_type": "stream",
          "name": "stderr",
          "text": [
            "6501it [35:02,  3.09it/s]"
          ]
        },
        {
          "output_type": "stream",
          "name": "stdout",
          "text": [
            "Epoch: 2, Loss:  0.8418275117874146\n"
          ]
        },
        {
          "output_type": "stream",
          "name": "stderr",
          "text": [
            "7001it [37:44,  3.10it/s]"
          ]
        },
        {
          "output_type": "stream",
          "name": "stdout",
          "text": [
            "Epoch: 2, Loss:  1.4047248363494873\n"
          ]
        },
        {
          "output_type": "stream",
          "name": "stderr",
          "text": [
            "7501it [40:26,  3.08it/s]"
          ]
        },
        {
          "output_type": "stream",
          "name": "stdout",
          "text": [
            "Epoch: 2, Loss:  1.5232570171356201\n"
          ]
        },
        {
          "output_type": "stream",
          "name": "stderr",
          "text": [
            "8001it [43:07,  3.09it/s]"
          ]
        },
        {
          "output_type": "stream",
          "name": "stdout",
          "text": [
            "Epoch: 2, Loss:  1.2432934045791626\n"
          ]
        },
        {
          "output_type": "stream",
          "name": "stderr",
          "text": [
            "8501it [45:49,  3.10it/s]"
          ]
        },
        {
          "output_type": "stream",
          "name": "stdout",
          "text": [
            "Epoch: 2, Loss:  0.8835589289665222\n"
          ]
        },
        {
          "output_type": "stream",
          "name": "stderr",
          "text": [
            "9001it [48:31,  3.08it/s]"
          ]
        },
        {
          "output_type": "stream",
          "name": "stdout",
          "text": [
            "Epoch: 2, Loss:  1.2302327156066895\n"
          ]
        },
        {
          "output_type": "stream",
          "name": "stderr",
          "text": [
            "9501it [51:13,  3.09it/s]"
          ]
        },
        {
          "output_type": "stream",
          "name": "stdout",
          "text": [
            "Epoch: 2, Loss:  0.780764102935791\n"
          ]
        },
        {
          "output_type": "stream",
          "name": "stderr",
          "text": [
            "10001it [53:54,  3.08it/s]"
          ]
        },
        {
          "output_type": "stream",
          "name": "stdout",
          "text": [
            "Epoch: 2, Loss:  0.5581532716751099\n"
          ]
        },
        {
          "output_type": "stream",
          "name": "stderr",
          "text": [
            "10501it [56:36,  3.08it/s]"
          ]
        },
        {
          "output_type": "stream",
          "name": "stdout",
          "text": [
            "Epoch: 2, Loss:  1.4246435165405273\n"
          ]
        },
        {
          "output_type": "stream",
          "name": "stderr",
          "text": [
            "11001it [59:18,  3.09it/s]"
          ]
        },
        {
          "output_type": "stream",
          "name": "stdout",
          "text": [
            "Epoch: 2, Loss:  1.9216163158416748\n"
          ]
        },
        {
          "output_type": "stream",
          "name": "stderr",
          "text": [
            "11501it [1:01:59,  3.09it/s]"
          ]
        },
        {
          "output_type": "stream",
          "name": "stdout",
          "text": [
            "Epoch: 2, Loss:  1.5910179615020752\n"
          ]
        },
        {
          "output_type": "stream",
          "name": "stderr",
          "text": [
            "12001it [1:04:42,  3.08it/s]"
          ]
        },
        {
          "output_type": "stream",
          "name": "stdout",
          "text": [
            "Epoch: 2, Loss:  1.4187403917312622\n"
          ]
        },
        {
          "output_type": "stream",
          "name": "stderr",
          "text": [
            "12501it [1:07:24,  3.08it/s]"
          ]
        },
        {
          "output_type": "stream",
          "name": "stdout",
          "text": [
            "Epoch: 2, Loss:  2.5390472412109375\n"
          ]
        },
        {
          "output_type": "stream",
          "name": "stderr",
          "text": [
            "13001it [1:10:06,  3.07it/s]"
          ]
        },
        {
          "output_type": "stream",
          "name": "stdout",
          "text": [
            "Epoch: 2, Loss:  1.3362947702407837\n"
          ]
        },
        {
          "output_type": "stream",
          "name": "stderr",
          "text": [
            "13501it [1:12:48,  3.08it/s]"
          ]
        },
        {
          "output_type": "stream",
          "name": "stdout",
          "text": [
            "Epoch: 2, Loss:  1.2050095796585083\n"
          ]
        },
        {
          "output_type": "stream",
          "name": "stderr",
          "text": [
            "14001it [1:15:30,  3.09it/s]"
          ]
        },
        {
          "output_type": "stream",
          "name": "stdout",
          "text": [
            "Epoch: 2, Loss:  1.45906662940979\n"
          ]
        },
        {
          "output_type": "stream",
          "name": "stderr",
          "text": [
            "14501it [1:18:12,  3.09it/s]"
          ]
        },
        {
          "output_type": "stream",
          "name": "stdout",
          "text": [
            "Epoch: 2, Loss:  0.5509440302848816\n"
          ]
        },
        {
          "output_type": "stream",
          "name": "stderr",
          "text": [
            "15001it [1:20:54,  3.08it/s]"
          ]
        },
        {
          "output_type": "stream",
          "name": "stdout",
          "text": [
            "Epoch: 2, Loss:  2.1773593425750732\n"
          ]
        },
        {
          "output_type": "stream",
          "name": "stderr",
          "text": [
            "15501it [1:23:36,  3.09it/s]"
          ]
        },
        {
          "output_type": "stream",
          "name": "stdout",
          "text": [
            "Epoch: 2, Loss:  1.1297062635421753\n"
          ]
        },
        {
          "output_type": "stream",
          "name": "stderr",
          "text": [
            "16001it [1:26:18,  3.09it/s]"
          ]
        },
        {
          "output_type": "stream",
          "name": "stdout",
          "text": [
            "Epoch: 2, Loss:  1.0558586120605469\n"
          ]
        },
        {
          "output_type": "stream",
          "name": "stderr",
          "text": [
            "16501it [1:29:00,  3.09it/s]"
          ]
        },
        {
          "output_type": "stream",
          "name": "stdout",
          "text": [
            "Epoch: 2, Loss:  2.357194423675537\n"
          ]
        },
        {
          "output_type": "stream",
          "name": "stderr",
          "text": [
            "17001it [1:31:42,  3.08it/s]"
          ]
        },
        {
          "output_type": "stream",
          "name": "stdout",
          "text": [
            "Epoch: 2, Loss:  1.2975319623947144\n"
          ]
        },
        {
          "output_type": "stream",
          "name": "stderr",
          "text": [
            "17501it [1:34:24,  3.07it/s]"
          ]
        },
        {
          "output_type": "stream",
          "name": "stdout",
          "text": [
            "Epoch: 2, Loss:  0.845535933971405\n"
          ]
        },
        {
          "output_type": "stream",
          "name": "stderr",
          "text": [
            "18001it [1:37:06,  3.09it/s]"
          ]
        },
        {
          "output_type": "stream",
          "name": "stdout",
          "text": [
            "Epoch: 2, Loss:  2.0066802501678467\n"
          ]
        },
        {
          "output_type": "stream",
          "name": "stderr",
          "text": [
            "18501it [1:39:48,  3.10it/s]"
          ]
        },
        {
          "output_type": "stream",
          "name": "stdout",
          "text": [
            "Epoch: 2, Loss:  1.7042466402053833\n"
          ]
        },
        {
          "output_type": "stream",
          "name": "stderr",
          "text": [
            "19001it [1:42:30,  3.07it/s]"
          ]
        },
        {
          "output_type": "stream",
          "name": "stdout",
          "text": [
            "Epoch: 2, Loss:  0.8916240334510803\n"
          ]
        },
        {
          "output_type": "stream",
          "name": "stderr",
          "text": [
            "19501it [1:45:12,  3.09it/s]"
          ]
        },
        {
          "output_type": "stream",
          "name": "stdout",
          "text": [
            "Epoch: 2, Loss:  1.7208470106124878\n"
          ]
        },
        {
          "output_type": "stream",
          "name": "stderr",
          "text": [
            "20001it [1:47:53,  3.09it/s]"
          ]
        },
        {
          "output_type": "stream",
          "name": "stdout",
          "text": [
            "Epoch: 2, Loss:  1.1839394569396973\n"
          ]
        },
        {
          "output_type": "stream",
          "name": "stderr",
          "text": [
            "20501it [1:50:35,  3.08it/s]"
          ]
        },
        {
          "output_type": "stream",
          "name": "stdout",
          "text": [
            "Epoch: 2, Loss:  0.5728340744972229\n"
          ]
        },
        {
          "output_type": "stream",
          "name": "stderr",
          "text": [
            "21001it [1:53:17,  3.10it/s]"
          ]
        },
        {
          "output_type": "stream",
          "name": "stdout",
          "text": [
            "Epoch: 2, Loss:  1.9096217155456543\n"
          ]
        },
        {
          "output_type": "stream",
          "name": "stderr",
          "text": [
            "21501it [1:55:59,  3.08it/s]"
          ]
        },
        {
          "output_type": "stream",
          "name": "stdout",
          "text": [
            "Epoch: 2, Loss:  1.533258318901062\n"
          ]
        },
        {
          "output_type": "stream",
          "name": "stderr",
          "text": [
            "22001it [1:58:40,  3.09it/s]"
          ]
        },
        {
          "output_type": "stream",
          "name": "stdout",
          "text": [
            "Epoch: 2, Loss:  1.3799738883972168\n"
          ]
        },
        {
          "output_type": "stream",
          "name": "stderr",
          "text": [
            "22501it [2:01:22,  3.07it/s]"
          ]
        },
        {
          "output_type": "stream",
          "name": "stdout",
          "text": [
            "Epoch: 2, Loss:  0.9146392345428467\n"
          ]
        },
        {
          "output_type": "stream",
          "name": "stderr",
          "text": [
            "23001it [2:04:04,  3.08it/s]"
          ]
        },
        {
          "output_type": "stream",
          "name": "stdout",
          "text": [
            "Epoch: 2, Loss:  1.2185336351394653\n"
          ]
        },
        {
          "output_type": "stream",
          "name": "stderr",
          "text": [
            "23501it [2:06:46,  3.11it/s]"
          ]
        },
        {
          "output_type": "stream",
          "name": "stdout",
          "text": [
            "Epoch: 2, Loss:  0.6740431189537048\n"
          ]
        },
        {
          "output_type": "stream",
          "name": "stderr",
          "text": [
            "24001it [2:09:28,  3.09it/s]"
          ]
        },
        {
          "output_type": "stream",
          "name": "stdout",
          "text": [
            "Epoch: 2, Loss:  0.537070095539093\n"
          ]
        },
        {
          "output_type": "stream",
          "name": "stderr",
          "text": [
            "24501it [2:12:09,  3.09it/s]"
          ]
        },
        {
          "output_type": "stream",
          "name": "stdout",
          "text": [
            "Epoch: 2, Loss:  1.5277866125106812\n"
          ]
        },
        {
          "output_type": "stream",
          "name": "stderr",
          "text": [
            "25001it [2:14:51,  3.09it/s]"
          ]
        },
        {
          "output_type": "stream",
          "name": "stdout",
          "text": [
            "Epoch: 2, Loss:  1.2420592308044434\n"
          ]
        },
        {
          "output_type": "stream",
          "name": "stderr",
          "text": [
            "25501it [2:17:33,  3.08it/s]"
          ]
        },
        {
          "output_type": "stream",
          "name": "stdout",
          "text": [
            "Epoch: 2, Loss:  1.1777536869049072\n"
          ]
        },
        {
          "output_type": "stream",
          "name": "stderr",
          "text": [
            "26001it [2:20:15,  3.08it/s]"
          ]
        },
        {
          "output_type": "stream",
          "name": "stdout",
          "text": [
            "Epoch: 2, Loss:  1.4760538339614868\n"
          ]
        },
        {
          "output_type": "stream",
          "name": "stderr",
          "text": [
            "26501it [2:22:57,  3.09it/s]"
          ]
        },
        {
          "output_type": "stream",
          "name": "stdout",
          "text": [
            "Epoch: 2, Loss:  1.7307636737823486\n"
          ]
        },
        {
          "output_type": "stream",
          "name": "stderr",
          "text": [
            "27001it [2:25:40,  3.06it/s]"
          ]
        },
        {
          "output_type": "stream",
          "name": "stdout",
          "text": [
            "Epoch: 2, Loss:  1.0169490575790405\n"
          ]
        },
        {
          "output_type": "stream",
          "name": "stderr",
          "text": [
            "27501it [2:28:22,  3.09it/s]"
          ]
        },
        {
          "output_type": "stream",
          "name": "stdout",
          "text": [
            "Epoch: 2, Loss:  1.5011857748031616\n"
          ]
        },
        {
          "output_type": "stream",
          "name": "stderr",
          "text": [
            "28001it [2:31:04,  3.08it/s]"
          ]
        },
        {
          "output_type": "stream",
          "name": "stdout",
          "text": [
            "Epoch: 2, Loss:  1.152968406677246\n"
          ]
        },
        {
          "output_type": "stream",
          "name": "stderr",
          "text": [
            "28501it [2:33:46,  3.09it/s]"
          ]
        },
        {
          "output_type": "stream",
          "name": "stdout",
          "text": [
            "Epoch: 2, Loss:  1.0679785013198853\n"
          ]
        },
        {
          "output_type": "stream",
          "name": "stderr",
          "text": [
            "29001it [2:36:28,  3.08it/s]"
          ]
        },
        {
          "output_type": "stream",
          "name": "stdout",
          "text": [
            "Epoch: 2, Loss:  1.654658555984497\n"
          ]
        },
        {
          "output_type": "stream",
          "name": "stderr",
          "text": [
            "29501it [2:39:10,  3.10it/s]"
          ]
        },
        {
          "output_type": "stream",
          "name": "stdout",
          "text": [
            "Epoch: 2, Loss:  0.8873502016067505\n"
          ]
        },
        {
          "output_type": "stream",
          "name": "stderr",
          "text": [
            "30000it [2:41:51,  3.09it/s]\n"
          ]
        },
        {
          "output_type": "stream",
          "name": "stdout",
          "text": [
            "1\n"
          ]
        },
        {
          "output_type": "stream",
          "name": "stderr",
          "text": [
            "\r0it [00:00, ?it/s]"
          ]
        },
        {
          "output_type": "stream",
          "name": "stdout",
          "text": [
            "Epoch: 3, Loss:  0.7650576233863831\n"
          ]
        },
        {
          "output_type": "stream",
          "name": "stderr",
          "text": [
            "501it [02:42,  3.09it/s]"
          ]
        },
        {
          "output_type": "stream",
          "name": "stdout",
          "text": [
            "Epoch: 3, Loss:  0.5997893214225769\n"
          ]
        },
        {
          "output_type": "stream",
          "name": "stderr",
          "text": [
            "1001it [05:24,  3.06it/s]"
          ]
        },
        {
          "output_type": "stream",
          "name": "stdout",
          "text": [
            "Epoch: 3, Loss:  1.0687296390533447\n"
          ]
        },
        {
          "output_type": "stream",
          "name": "stderr",
          "text": [
            "1501it [08:06,  3.10it/s]"
          ]
        },
        {
          "output_type": "stream",
          "name": "stdout",
          "text": [
            "Epoch: 3, Loss:  0.8075011968612671\n"
          ]
        },
        {
          "output_type": "stream",
          "name": "stderr",
          "text": [
            "2001it [10:47,  3.09it/s]"
          ]
        },
        {
          "output_type": "stream",
          "name": "stdout",
          "text": [
            "Epoch: 3, Loss:  0.9091722369194031\n"
          ]
        },
        {
          "output_type": "stream",
          "name": "stderr",
          "text": [
            "2501it [13:29,  3.08it/s]"
          ]
        },
        {
          "output_type": "stream",
          "name": "stdout",
          "text": [
            "Epoch: 3, Loss:  1.0651787519454956\n"
          ]
        },
        {
          "output_type": "stream",
          "name": "stderr",
          "text": [
            "3001it [16:11,  3.09it/s]"
          ]
        },
        {
          "output_type": "stream",
          "name": "stdout",
          "text": [
            "Epoch: 3, Loss:  1.1088916063308716\n"
          ]
        },
        {
          "output_type": "stream",
          "name": "stderr",
          "text": [
            "3501it [18:53,  3.10it/s]"
          ]
        },
        {
          "output_type": "stream",
          "name": "stdout",
          "text": [
            "Epoch: 3, Loss:  0.6099281907081604\n"
          ]
        },
        {
          "output_type": "stream",
          "name": "stderr",
          "text": [
            "4001it [21:35,  3.08it/s]"
          ]
        },
        {
          "output_type": "stream",
          "name": "stdout",
          "text": [
            "Epoch: 3, Loss:  0.633259654045105\n"
          ]
        },
        {
          "output_type": "stream",
          "name": "stderr",
          "text": [
            "4501it [24:17,  3.08it/s]"
          ]
        },
        {
          "output_type": "stream",
          "name": "stdout",
          "text": [
            "Epoch: 3, Loss:  1.1976912021636963\n"
          ]
        },
        {
          "output_type": "stream",
          "name": "stderr",
          "text": [
            "5001it [26:59,  3.09it/s]"
          ]
        },
        {
          "output_type": "stream",
          "name": "stdout",
          "text": [
            "Epoch: 3, Loss:  1.004483699798584\n"
          ]
        },
        {
          "output_type": "stream",
          "name": "stderr",
          "text": [
            "5501it [29:41,  3.09it/s]"
          ]
        },
        {
          "output_type": "stream",
          "name": "stdout",
          "text": [
            "Epoch: 3, Loss:  0.9131424427032471\n"
          ]
        },
        {
          "output_type": "stream",
          "name": "stderr",
          "text": [
            "6001it [32:23,  3.08it/s]"
          ]
        },
        {
          "output_type": "stream",
          "name": "stdout",
          "text": [
            "Epoch: 3, Loss:  0.9072495698928833\n"
          ]
        },
        {
          "output_type": "stream",
          "name": "stderr",
          "text": [
            "6501it [35:05,  3.08it/s]"
          ]
        },
        {
          "output_type": "stream",
          "name": "stdout",
          "text": [
            "Epoch: 3, Loss:  0.704757034778595\n"
          ]
        },
        {
          "output_type": "stream",
          "name": "stderr",
          "text": [
            "7001it [37:47,  3.08it/s]"
          ]
        },
        {
          "output_type": "stream",
          "name": "stdout",
          "text": [
            "Epoch: 3, Loss:  0.6047115325927734\n"
          ]
        },
        {
          "output_type": "stream",
          "name": "stderr",
          "text": [
            "7501it [40:29,  3.09it/s]"
          ]
        },
        {
          "output_type": "stream",
          "name": "stdout",
          "text": [
            "Epoch: 3, Loss:  1.469956874847412\n"
          ]
        },
        {
          "output_type": "stream",
          "name": "stderr",
          "text": [
            "8001it [43:11,  3.07it/s]"
          ]
        },
        {
          "output_type": "stream",
          "name": "stdout",
          "text": [
            "Epoch: 3, Loss:  0.6352055072784424\n"
          ]
        },
        {
          "output_type": "stream",
          "name": "stderr",
          "text": [
            "8501it [45:53,  3.08it/s]"
          ]
        },
        {
          "output_type": "stream",
          "name": "stdout",
          "text": [
            "Epoch: 3, Loss:  0.6165876984596252\n"
          ]
        },
        {
          "output_type": "stream",
          "name": "stderr",
          "text": [
            "9001it [48:34,  3.09it/s]"
          ]
        },
        {
          "output_type": "stream",
          "name": "stdout",
          "text": [
            "Epoch: 3, Loss:  1.3319145441055298\n"
          ]
        },
        {
          "output_type": "stream",
          "name": "stderr",
          "text": [
            "9501it [51:17,  3.09it/s]"
          ]
        },
        {
          "output_type": "stream",
          "name": "stdout",
          "text": [
            "Epoch: 3, Loss:  1.4037054777145386\n"
          ]
        },
        {
          "output_type": "stream",
          "name": "stderr",
          "text": [
            "10001it [53:59,  3.09it/s]"
          ]
        },
        {
          "output_type": "stream",
          "name": "stdout",
          "text": [
            "Epoch: 3, Loss:  0.8131255507469177\n"
          ]
        },
        {
          "output_type": "stream",
          "name": "stderr",
          "text": [
            "10501it [56:40,  3.08it/s]"
          ]
        },
        {
          "output_type": "stream",
          "name": "stdout",
          "text": [
            "Epoch: 3, Loss:  0.8675321340560913\n"
          ]
        },
        {
          "output_type": "stream",
          "name": "stderr",
          "text": [
            "11001it [59:22,  3.08it/s]"
          ]
        },
        {
          "output_type": "stream",
          "name": "stdout",
          "text": [
            "Epoch: 3, Loss:  1.760070562362671\n"
          ]
        },
        {
          "output_type": "stream",
          "name": "stderr",
          "text": [
            "11501it [1:02:04,  3.09it/s]"
          ]
        },
        {
          "output_type": "stream",
          "name": "stdout",
          "text": [
            "Epoch: 3, Loss:  1.374897837638855\n"
          ]
        },
        {
          "output_type": "stream",
          "name": "stderr",
          "text": [
            "12001it [1:04:45,  3.09it/s]"
          ]
        },
        {
          "output_type": "stream",
          "name": "stdout",
          "text": [
            "Epoch: 3, Loss:  1.3241794109344482\n"
          ]
        },
        {
          "output_type": "stream",
          "name": "stderr",
          "text": [
            "12501it [1:07:27,  3.09it/s]"
          ]
        },
        {
          "output_type": "stream",
          "name": "stdout",
          "text": [
            "Epoch: 3, Loss:  0.6953171491622925\n"
          ]
        },
        {
          "output_type": "stream",
          "name": "stderr",
          "text": [
            "13001it [1:10:09,  3.09it/s]"
          ]
        },
        {
          "output_type": "stream",
          "name": "stdout",
          "text": [
            "Epoch: 3, Loss:  0.806719958782196\n"
          ]
        },
        {
          "output_type": "stream",
          "name": "stderr",
          "text": [
            "13501it [1:12:50,  3.06it/s]"
          ]
        },
        {
          "output_type": "stream",
          "name": "stdout",
          "text": [
            "Epoch: 3, Loss:  0.999868631362915\n"
          ]
        },
        {
          "output_type": "stream",
          "name": "stderr",
          "text": [
            "14001it [1:15:32,  3.09it/s]"
          ]
        },
        {
          "output_type": "stream",
          "name": "stdout",
          "text": [
            "Epoch: 3, Loss:  0.8334221243858337\n"
          ]
        },
        {
          "output_type": "stream",
          "name": "stderr",
          "text": [
            "14501it [1:18:14,  3.07it/s]"
          ]
        },
        {
          "output_type": "stream",
          "name": "stdout",
          "text": [
            "Epoch: 3, Loss:  0.7550663352012634\n"
          ]
        },
        {
          "output_type": "stream",
          "name": "stderr",
          "text": [
            "15001it [1:20:56,  3.09it/s]"
          ]
        },
        {
          "output_type": "stream",
          "name": "stdout",
          "text": [
            "Epoch: 3, Loss:  0.9338326454162598\n"
          ]
        },
        {
          "output_type": "stream",
          "name": "stderr",
          "text": [
            "15501it [1:23:37,  3.08it/s]"
          ]
        },
        {
          "output_type": "stream",
          "name": "stdout",
          "text": [
            "Epoch: 3, Loss:  0.9993605613708496\n"
          ]
        },
        {
          "output_type": "stream",
          "name": "stderr",
          "text": [
            "16001it [1:26:19,  3.08it/s]"
          ]
        },
        {
          "output_type": "stream",
          "name": "stdout",
          "text": [
            "Epoch: 3, Loss:  0.8751338720321655\n"
          ]
        },
        {
          "output_type": "stream",
          "name": "stderr",
          "text": [
            "16501it [1:29:00,  3.10it/s]"
          ]
        },
        {
          "output_type": "stream",
          "name": "stdout",
          "text": [
            "Epoch: 3, Loss:  1.4911702871322632\n"
          ]
        },
        {
          "output_type": "stream",
          "name": "stderr",
          "text": [
            "17001it [1:31:42,  3.07it/s]"
          ]
        },
        {
          "output_type": "stream",
          "name": "stdout",
          "text": [
            "Epoch: 3, Loss:  0.8653680086135864\n"
          ]
        },
        {
          "output_type": "stream",
          "name": "stderr",
          "text": [
            "17501it [1:34:24,  3.09it/s]"
          ]
        },
        {
          "output_type": "stream",
          "name": "stdout",
          "text": [
            "Epoch: 3, Loss:  1.2400448322296143\n"
          ]
        },
        {
          "output_type": "stream",
          "name": "stderr",
          "text": [
            "18001it [1:37:06,  3.09it/s]"
          ]
        },
        {
          "output_type": "stream",
          "name": "stdout",
          "text": [
            "Epoch: 3, Loss:  1.1578559875488281\n"
          ]
        },
        {
          "output_type": "stream",
          "name": "stderr",
          "text": [
            "18501it [1:39:48,  3.08it/s]"
          ]
        },
        {
          "output_type": "stream",
          "name": "stdout",
          "text": [
            "Epoch: 3, Loss:  0.7661975026130676\n"
          ]
        },
        {
          "output_type": "stream",
          "name": "stderr",
          "text": [
            "19001it [1:42:30,  3.08it/s]"
          ]
        },
        {
          "output_type": "stream",
          "name": "stdout",
          "text": [
            "Epoch: 3, Loss:  1.1499793529510498\n"
          ]
        },
        {
          "output_type": "stream",
          "name": "stderr",
          "text": [
            "19501it [1:45:12,  3.09it/s]"
          ]
        },
        {
          "output_type": "stream",
          "name": "stdout",
          "text": [
            "Epoch: 3, Loss:  0.460292786359787\n"
          ]
        },
        {
          "output_type": "stream",
          "name": "stderr",
          "text": [
            "20001it [1:47:53,  3.08it/s]"
          ]
        },
        {
          "output_type": "stream",
          "name": "stdout",
          "text": [
            "Epoch: 3, Loss:  0.7526785731315613\n"
          ]
        },
        {
          "output_type": "stream",
          "name": "stderr",
          "text": [
            "20501it [1:50:35,  3.09it/s]"
          ]
        },
        {
          "output_type": "stream",
          "name": "stdout",
          "text": [
            "Epoch: 3, Loss:  1.0311938524246216\n"
          ]
        },
        {
          "output_type": "stream",
          "name": "stderr",
          "text": [
            "21001it [1:53:17,  3.09it/s]"
          ]
        },
        {
          "output_type": "stream",
          "name": "stdout",
          "text": [
            "Epoch: 3, Loss:  0.897070050239563\n"
          ]
        },
        {
          "output_type": "stream",
          "name": "stderr",
          "text": [
            "21501it [1:55:59,  3.08it/s]"
          ]
        },
        {
          "output_type": "stream",
          "name": "stdout",
          "text": [
            "Epoch: 3, Loss:  1.5029665231704712\n"
          ]
        },
        {
          "output_type": "stream",
          "name": "stderr",
          "text": [
            "22001it [1:58:41,  3.08it/s]"
          ]
        },
        {
          "output_type": "stream",
          "name": "stdout",
          "text": [
            "Epoch: 3, Loss:  0.8586297035217285\n"
          ]
        },
        {
          "output_type": "stream",
          "name": "stderr",
          "text": [
            "22501it [2:01:23,  3.10it/s]"
          ]
        },
        {
          "output_type": "stream",
          "name": "stdout",
          "text": [
            "Epoch: 3, Loss:  1.0860556364059448\n"
          ]
        },
        {
          "output_type": "stream",
          "name": "stderr",
          "text": [
            "23001it [2:04:04,  3.10it/s]"
          ]
        },
        {
          "output_type": "stream",
          "name": "stdout",
          "text": [
            "Epoch: 3, Loss:  1.1717239618301392\n"
          ]
        },
        {
          "output_type": "stream",
          "name": "stderr",
          "text": [
            "23501it [2:06:46,  3.07it/s]"
          ]
        },
        {
          "output_type": "stream",
          "name": "stdout",
          "text": [
            "Epoch: 3, Loss:  0.6885965466499329\n"
          ]
        },
        {
          "output_type": "stream",
          "name": "stderr",
          "text": [
            "24001it [2:09:28,  3.08it/s]"
          ]
        },
        {
          "output_type": "stream",
          "name": "stdout",
          "text": [
            "Epoch: 3, Loss:  1.2614762783050537\n"
          ]
        },
        {
          "output_type": "stream",
          "name": "stderr",
          "text": [
            "24501it [2:12:10,  3.08it/s]"
          ]
        },
        {
          "output_type": "stream",
          "name": "stdout",
          "text": [
            "Epoch: 3, Loss:  1.3334027528762817\n"
          ]
        },
        {
          "output_type": "stream",
          "name": "stderr",
          "text": [
            "25001it [2:14:52,  3.10it/s]"
          ]
        },
        {
          "output_type": "stream",
          "name": "stdout",
          "text": [
            "Epoch: 3, Loss:  0.6701098680496216\n"
          ]
        },
        {
          "output_type": "stream",
          "name": "stderr",
          "text": [
            "25501it [2:17:33,  3.08it/s]"
          ]
        },
        {
          "output_type": "stream",
          "name": "stdout",
          "text": [
            "Epoch: 3, Loss:  1.5108085870742798\n"
          ]
        },
        {
          "output_type": "stream",
          "name": "stderr",
          "text": [
            "26001it [2:20:16,  3.07it/s]"
          ]
        },
        {
          "output_type": "stream",
          "name": "stdout",
          "text": [
            "Epoch: 3, Loss:  2.0159549713134766\n"
          ]
        },
        {
          "output_type": "stream",
          "name": "stderr",
          "text": [
            "26501it [2:22:59,  3.08it/s]"
          ]
        },
        {
          "output_type": "stream",
          "name": "stdout",
          "text": [
            "Epoch: 3, Loss:  1.2319680452346802\n"
          ]
        },
        {
          "output_type": "stream",
          "name": "stderr",
          "text": [
            "27001it [2:25:41,  3.07it/s]"
          ]
        },
        {
          "output_type": "stream",
          "name": "stdout",
          "text": [
            "Epoch: 3, Loss:  0.950664222240448\n"
          ]
        },
        {
          "output_type": "stream",
          "name": "stderr",
          "text": [
            "27501it [2:28:23,  3.08it/s]"
          ]
        },
        {
          "output_type": "stream",
          "name": "stdout",
          "text": [
            "Epoch: 3, Loss:  1.0244708061218262\n"
          ]
        },
        {
          "output_type": "stream",
          "name": "stderr",
          "text": [
            "28001it [2:31:05,  3.07it/s]"
          ]
        },
        {
          "output_type": "stream",
          "name": "stdout",
          "text": [
            "Epoch: 3, Loss:  0.9634732604026794\n"
          ]
        },
        {
          "output_type": "stream",
          "name": "stderr",
          "text": [
            "28501it [2:33:47,  3.08it/s]"
          ]
        },
        {
          "output_type": "stream",
          "name": "stdout",
          "text": [
            "Epoch: 3, Loss:  0.6716915965080261\n"
          ]
        },
        {
          "output_type": "stream",
          "name": "stderr",
          "text": [
            "29001it [2:36:29,  3.09it/s]"
          ]
        },
        {
          "output_type": "stream",
          "name": "stdout",
          "text": [
            "Epoch: 3, Loss:  1.3324084281921387\n"
          ]
        },
        {
          "output_type": "stream",
          "name": "stderr",
          "text": [
            "29501it [2:39:11,  3.08it/s]"
          ]
        },
        {
          "output_type": "stream",
          "name": "stdout",
          "text": [
            "Epoch: 3, Loss:  1.0229300260543823\n"
          ]
        },
        {
          "output_type": "stream",
          "name": "stderr",
          "text": [
            "30000it [2:41:53,  3.09it/s]\n"
          ]
        },
        {
          "output_type": "stream",
          "name": "stdout",
          "text": [
            "1\n"
          ]
        },
        {
          "output_type": "stream",
          "name": "stderr",
          "text": [
            "\r0it [00:00, ?it/s]"
          ]
        },
        {
          "output_type": "stream",
          "name": "stdout",
          "text": [
            "Epoch: 4, Loss:  0.4315798878669739\n"
          ]
        },
        {
          "output_type": "stream",
          "name": "stderr",
          "text": [
            "501it [02:42,  3.08it/s]"
          ]
        },
        {
          "output_type": "stream",
          "name": "stdout",
          "text": [
            "Epoch: 4, Loss:  0.6628550887107849\n"
          ]
        },
        {
          "output_type": "stream",
          "name": "stderr",
          "text": [
            "1001it [05:24,  3.08it/s]"
          ]
        },
        {
          "output_type": "stream",
          "name": "stdout",
          "text": [
            "Epoch: 4, Loss:  0.5695888996124268\n"
          ]
        },
        {
          "output_type": "stream",
          "name": "stderr",
          "text": [
            "1501it [08:06,  3.07it/s]"
          ]
        },
        {
          "output_type": "stream",
          "name": "stdout",
          "text": [
            "Epoch: 4, Loss:  0.6455336809158325\n"
          ]
        },
        {
          "output_type": "stream",
          "name": "stderr",
          "text": [
            "2001it [10:49,  3.07it/s]"
          ]
        },
        {
          "output_type": "stream",
          "name": "stdout",
          "text": [
            "Epoch: 4, Loss:  0.3933452367782593\n"
          ]
        },
        {
          "output_type": "stream",
          "name": "stderr",
          "text": [
            "2501it [13:32,  3.07it/s]"
          ]
        },
        {
          "output_type": "stream",
          "name": "stdout",
          "text": [
            "Epoch: 4, Loss:  0.5994188785552979\n"
          ]
        },
        {
          "output_type": "stream",
          "name": "stderr",
          "text": [
            "3001it [16:15,  3.07it/s]"
          ]
        },
        {
          "output_type": "stream",
          "name": "stdout",
          "text": [
            "Epoch: 4, Loss:  0.9476863741874695\n"
          ]
        },
        {
          "output_type": "stream",
          "name": "stderr",
          "text": [
            "3501it [18:57,  3.06it/s]"
          ]
        },
        {
          "output_type": "stream",
          "name": "stdout",
          "text": [
            "Epoch: 4, Loss:  0.8573257923126221\n"
          ]
        },
        {
          "output_type": "stream",
          "name": "stderr",
          "text": [
            "4001it [21:40,  3.06it/s]"
          ]
        },
        {
          "output_type": "stream",
          "name": "stdout",
          "text": [
            "Epoch: 4, Loss:  0.2990459203720093\n"
          ]
        },
        {
          "output_type": "stream",
          "name": "stderr",
          "text": [
            "4501it [24:23,  3.08it/s]"
          ]
        },
        {
          "output_type": "stream",
          "name": "stdout",
          "text": [
            "Epoch: 4, Loss:  0.581031084060669\n"
          ]
        },
        {
          "output_type": "stream",
          "name": "stderr",
          "text": [
            "5001it [27:05,  3.09it/s]"
          ]
        },
        {
          "output_type": "stream",
          "name": "stdout",
          "text": [
            "Epoch: 4, Loss:  0.7893224954605103\n"
          ]
        },
        {
          "output_type": "stream",
          "name": "stderr",
          "text": [
            "5501it [29:47,  3.09it/s]"
          ]
        },
        {
          "output_type": "stream",
          "name": "stdout",
          "text": [
            "Epoch: 4, Loss:  0.6547648310661316\n"
          ]
        },
        {
          "output_type": "stream",
          "name": "stderr",
          "text": [
            "6001it [32:29,  3.08it/s]"
          ]
        },
        {
          "output_type": "stream",
          "name": "stdout",
          "text": [
            "Epoch: 4, Loss:  1.1166242361068726\n"
          ]
        },
        {
          "output_type": "stream",
          "name": "stderr",
          "text": [
            "6501it [35:12,  3.07it/s]"
          ]
        },
        {
          "output_type": "stream",
          "name": "stdout",
          "text": [
            "Epoch: 4, Loss:  0.6253243684768677\n"
          ]
        },
        {
          "output_type": "stream",
          "name": "stderr",
          "text": [
            "7001it [37:54,  3.07it/s]"
          ]
        },
        {
          "output_type": "stream",
          "name": "stdout",
          "text": [
            "Epoch: 4, Loss:  0.831264317035675\n"
          ]
        },
        {
          "output_type": "stream",
          "name": "stderr",
          "text": [
            "7501it [40:37,  3.08it/s]"
          ]
        },
        {
          "output_type": "stream",
          "name": "stdout",
          "text": [
            "Epoch: 4, Loss:  0.5090578198432922\n"
          ]
        },
        {
          "output_type": "stream",
          "name": "stderr",
          "text": [
            "8001it [43:19,  3.09it/s]"
          ]
        },
        {
          "output_type": "stream",
          "name": "stdout",
          "text": [
            "Epoch: 4, Loss:  1.1539151668548584\n"
          ]
        },
        {
          "output_type": "stream",
          "name": "stderr",
          "text": [
            "8501it [46:00,  3.08it/s]"
          ]
        },
        {
          "output_type": "stream",
          "name": "stdout",
          "text": [
            "Epoch: 4, Loss:  0.6482135057449341\n"
          ]
        },
        {
          "output_type": "stream",
          "name": "stderr",
          "text": [
            "9001it [48:43,  3.08it/s]"
          ]
        },
        {
          "output_type": "stream",
          "name": "stdout",
          "text": [
            "Epoch: 4, Loss:  0.5186022520065308\n"
          ]
        },
        {
          "output_type": "stream",
          "name": "stderr",
          "text": [
            "9501it [51:25,  3.09it/s]"
          ]
        },
        {
          "output_type": "stream",
          "name": "stdout",
          "text": [
            "Epoch: 4, Loss:  0.6286874413490295\n"
          ]
        },
        {
          "output_type": "stream",
          "name": "stderr",
          "text": [
            "10001it [54:07,  3.07it/s]"
          ]
        },
        {
          "output_type": "stream",
          "name": "stdout",
          "text": [
            "Epoch: 4, Loss:  0.6667909026145935\n"
          ]
        },
        {
          "output_type": "stream",
          "name": "stderr",
          "text": [
            "10501it [56:49,  3.07it/s]"
          ]
        },
        {
          "output_type": "stream",
          "name": "stdout",
          "text": [
            "Epoch: 4, Loss:  0.9646101593971252\n"
          ]
        },
        {
          "output_type": "stream",
          "name": "stderr",
          "text": [
            "11001it [59:32,  3.06it/s]"
          ]
        },
        {
          "output_type": "stream",
          "name": "stdout",
          "text": [
            "Epoch: 4, Loss:  0.7595713138580322\n"
          ]
        },
        {
          "output_type": "stream",
          "name": "stderr",
          "text": [
            "11501it [1:02:15,  3.06it/s]"
          ]
        },
        {
          "output_type": "stream",
          "name": "stdout",
          "text": [
            "Epoch: 4, Loss:  0.36847421526908875\n"
          ]
        },
        {
          "output_type": "stream",
          "name": "stderr",
          "text": [
            "12001it [1:04:58,  3.08it/s]"
          ]
        },
        {
          "output_type": "stream",
          "name": "stdout",
          "text": [
            "Epoch: 4, Loss:  0.8054141402244568\n"
          ]
        },
        {
          "output_type": "stream",
          "name": "stderr",
          "text": [
            "12501it [1:07:40,  3.07it/s]"
          ]
        },
        {
          "output_type": "stream",
          "name": "stdout",
          "text": [
            "Epoch: 4, Loss:  0.8422946333885193\n"
          ]
        },
        {
          "output_type": "stream",
          "name": "stderr",
          "text": [
            "13001it [1:10:23,  3.05it/s]"
          ]
        },
        {
          "output_type": "stream",
          "name": "stdout",
          "text": [
            "Epoch: 4, Loss:  0.5770681500434875\n"
          ]
        },
        {
          "output_type": "stream",
          "name": "stderr",
          "text": [
            "13501it [1:13:06,  3.07it/s]"
          ]
        },
        {
          "output_type": "stream",
          "name": "stdout",
          "text": [
            "Epoch: 4, Loss:  1.5370290279388428\n"
          ]
        },
        {
          "output_type": "stream",
          "name": "stderr",
          "text": [
            "14001it [1:15:49,  3.08it/s]"
          ]
        },
        {
          "output_type": "stream",
          "name": "stdout",
          "text": [
            "Epoch: 4, Loss:  0.5186256170272827\n"
          ]
        },
        {
          "output_type": "stream",
          "name": "stderr",
          "text": [
            "14501it [1:18:31,  3.08it/s]"
          ]
        },
        {
          "output_type": "stream",
          "name": "stdout",
          "text": [
            "Epoch: 4, Loss:  1.5319088697433472\n"
          ]
        },
        {
          "output_type": "stream",
          "name": "stderr",
          "text": [
            "15001it [1:21:14,  3.08it/s]"
          ]
        },
        {
          "output_type": "stream",
          "name": "stdout",
          "text": [
            "Epoch: 4, Loss:  0.4807044565677643\n"
          ]
        },
        {
          "output_type": "stream",
          "name": "stderr",
          "text": [
            "15501it [1:23:57,  3.08it/s]"
          ]
        },
        {
          "output_type": "stream",
          "name": "stdout",
          "text": [
            "Epoch: 4, Loss:  0.9012317061424255\n"
          ]
        },
        {
          "output_type": "stream",
          "name": "stderr",
          "text": [
            "16001it [1:26:39,  3.08it/s]"
          ]
        },
        {
          "output_type": "stream",
          "name": "stdout",
          "text": [
            "Epoch: 4, Loss:  1.237678050994873\n"
          ]
        },
        {
          "output_type": "stream",
          "name": "stderr",
          "text": [
            "16501it [1:29:22,  3.07it/s]"
          ]
        },
        {
          "output_type": "stream",
          "name": "stdout",
          "text": [
            "Epoch: 4, Loss:  0.6877729296684265\n"
          ]
        },
        {
          "output_type": "stream",
          "name": "stderr",
          "text": [
            "17001it [1:32:05,  3.08it/s]"
          ]
        },
        {
          "output_type": "stream",
          "name": "stdout",
          "text": [
            "Epoch: 4, Loss:  1.1663148403167725\n"
          ]
        },
        {
          "output_type": "stream",
          "name": "stderr",
          "text": [
            "17501it [1:34:47,  3.07it/s]"
          ]
        },
        {
          "output_type": "stream",
          "name": "stdout",
          "text": [
            "Epoch: 4, Loss:  1.3216209411621094\n"
          ]
        },
        {
          "output_type": "stream",
          "name": "stderr",
          "text": [
            "18001it [1:37:30,  3.07it/s]"
          ]
        },
        {
          "output_type": "stream",
          "name": "stdout",
          "text": [
            "Epoch: 4, Loss:  1.0805130004882812\n"
          ]
        },
        {
          "output_type": "stream",
          "name": "stderr",
          "text": [
            "18501it [1:40:13,  3.07it/s]"
          ]
        },
        {
          "output_type": "stream",
          "name": "stdout",
          "text": [
            "Epoch: 4, Loss:  0.85295170545578\n"
          ]
        },
        {
          "output_type": "stream",
          "name": "stderr",
          "text": [
            "19001it [1:42:55,  3.08it/s]"
          ]
        },
        {
          "output_type": "stream",
          "name": "stdout",
          "text": [
            "Epoch: 4, Loss:  1.2435318231582642\n"
          ]
        },
        {
          "output_type": "stream",
          "name": "stderr",
          "text": [
            "19501it [1:45:38,  3.08it/s]"
          ]
        },
        {
          "output_type": "stream",
          "name": "stdout",
          "text": [
            "Epoch: 4, Loss:  1.2015585899353027\n"
          ]
        },
        {
          "output_type": "stream",
          "name": "stderr",
          "text": [
            "20001it [1:48:21,  3.06it/s]"
          ]
        },
        {
          "output_type": "stream",
          "name": "stdout",
          "text": [
            "Epoch: 4, Loss:  0.45568594336509705\n"
          ]
        },
        {
          "output_type": "stream",
          "name": "stderr",
          "text": [
            "20501it [1:51:04,  3.06it/s]"
          ]
        },
        {
          "output_type": "stream",
          "name": "stdout",
          "text": [
            "Epoch: 4, Loss:  0.5838662981987\n"
          ]
        },
        {
          "output_type": "stream",
          "name": "stderr",
          "text": [
            "21001it [1:53:46,  3.07it/s]"
          ]
        },
        {
          "output_type": "stream",
          "name": "stdout",
          "text": [
            "Epoch: 4, Loss:  0.8467938899993896\n"
          ]
        },
        {
          "output_type": "stream",
          "name": "stderr",
          "text": [
            "21501it [1:56:29,  3.08it/s]"
          ]
        },
        {
          "output_type": "stream",
          "name": "stdout",
          "text": [
            "Epoch: 4, Loss:  0.9395205974578857\n"
          ]
        },
        {
          "output_type": "stream",
          "name": "stderr",
          "text": [
            "22001it [1:59:12,  3.07it/s]"
          ]
        },
        {
          "output_type": "stream",
          "name": "stdout",
          "text": [
            "Epoch: 4, Loss:  0.9132344126701355\n"
          ]
        },
        {
          "output_type": "stream",
          "name": "stderr",
          "text": [
            "22501it [2:01:55,  3.06it/s]"
          ]
        },
        {
          "output_type": "stream",
          "name": "stdout",
          "text": [
            "Epoch: 4, Loss:  0.5872517824172974\n"
          ]
        },
        {
          "output_type": "stream",
          "name": "stderr",
          "text": [
            "23001it [2:04:37,  3.08it/s]"
          ]
        },
        {
          "output_type": "stream",
          "name": "stdout",
          "text": [
            "Epoch: 4, Loss:  0.5586392879486084\n"
          ]
        },
        {
          "output_type": "stream",
          "name": "stderr",
          "text": [
            "23501it [2:07:20,  3.07it/s]"
          ]
        },
        {
          "output_type": "stream",
          "name": "stdout",
          "text": [
            "Epoch: 4, Loss:  1.2948769330978394\n"
          ]
        },
        {
          "output_type": "stream",
          "name": "stderr",
          "text": [
            "24001it [2:10:03,  3.07it/s]"
          ]
        },
        {
          "output_type": "stream",
          "name": "stdout",
          "text": [
            "Epoch: 4, Loss:  1.475056767463684\n"
          ]
        },
        {
          "output_type": "stream",
          "name": "stderr",
          "text": [
            "24501it [2:12:45,  3.07it/s]"
          ]
        },
        {
          "output_type": "stream",
          "name": "stdout",
          "text": [
            "Epoch: 4, Loss:  0.8662793040275574\n"
          ]
        },
        {
          "output_type": "stream",
          "name": "stderr",
          "text": [
            "25001it [2:15:28,  3.06it/s]"
          ]
        },
        {
          "output_type": "stream",
          "name": "stdout",
          "text": [
            "Epoch: 4, Loss:  1.3843204975128174\n"
          ]
        },
        {
          "output_type": "stream",
          "name": "stderr",
          "text": [
            "25501it [2:18:11,  3.06it/s]"
          ]
        },
        {
          "output_type": "stream",
          "name": "stdout",
          "text": [
            "Epoch: 4, Loss:  0.7354118824005127\n"
          ]
        },
        {
          "output_type": "stream",
          "name": "stderr",
          "text": [
            "26001it [2:20:54,  3.08it/s]"
          ]
        },
        {
          "output_type": "stream",
          "name": "stdout",
          "text": [
            "Epoch: 4, Loss:  0.47545430064201355\n"
          ]
        },
        {
          "output_type": "stream",
          "name": "stderr",
          "text": [
            "26501it [2:23:36,  3.07it/s]"
          ]
        },
        {
          "output_type": "stream",
          "name": "stdout",
          "text": [
            "Epoch: 4, Loss:  0.912640392780304\n"
          ]
        },
        {
          "output_type": "stream",
          "name": "stderr",
          "text": [
            "27001it [2:26:19,  3.07it/s]"
          ]
        },
        {
          "output_type": "stream",
          "name": "stdout",
          "text": [
            "Epoch: 4, Loss:  0.6161231398582458\n"
          ]
        },
        {
          "output_type": "stream",
          "name": "stderr",
          "text": [
            "27501it [2:29:02,  3.07it/s]"
          ]
        },
        {
          "output_type": "stream",
          "name": "stdout",
          "text": [
            "Epoch: 4, Loss:  0.7062153816223145\n"
          ]
        },
        {
          "output_type": "stream",
          "name": "stderr",
          "text": [
            "28001it [2:31:45,  3.05it/s]"
          ]
        },
        {
          "output_type": "stream",
          "name": "stdout",
          "text": [
            "Epoch: 4, Loss:  0.9926178455352783\n"
          ]
        },
        {
          "output_type": "stream",
          "name": "stderr",
          "text": [
            "28501it [2:34:27,  3.06it/s]"
          ]
        },
        {
          "output_type": "stream",
          "name": "stdout",
          "text": [
            "Epoch: 4, Loss:  1.1634753942489624\n"
          ]
        },
        {
          "output_type": "stream",
          "name": "stderr",
          "text": [
            "29001it [2:37:10,  3.07it/s]"
          ]
        },
        {
          "output_type": "stream",
          "name": "stdout",
          "text": [
            "Epoch: 4, Loss:  1.3649758100509644\n"
          ]
        },
        {
          "output_type": "stream",
          "name": "stderr",
          "text": [
            "29501it [2:39:53,  3.07it/s]"
          ]
        },
        {
          "output_type": "stream",
          "name": "stdout",
          "text": [
            "Epoch: 4, Loss:  0.9193541407585144\n"
          ]
        },
        {
          "output_type": "stream",
          "name": "stderr",
          "text": [
            "30000it [2:42:35,  3.08it/s]\n"
          ]
        },
        {
          "output_type": "stream",
          "name": "stdout",
          "text": [
            "1\n"
          ]
        },
        {
          "output_type": "stream",
          "name": "stderr",
          "text": [
            "\r0it [00:00, ?it/s]"
          ]
        },
        {
          "output_type": "stream",
          "name": "stdout",
          "text": [
            "Epoch: 5, Loss:  0.4979391396045685\n"
          ]
        },
        {
          "output_type": "stream",
          "name": "stderr",
          "text": [
            "501it [02:43,  3.06it/s]"
          ]
        },
        {
          "output_type": "stream",
          "name": "stdout",
          "text": [
            "Epoch: 5, Loss:  0.5346119403839111\n"
          ]
        },
        {
          "output_type": "stream",
          "name": "stderr",
          "text": [
            "1001it [05:25,  3.07it/s]"
          ]
        },
        {
          "output_type": "stream",
          "name": "stdout",
          "text": [
            "Epoch: 5, Loss:  0.4302605092525482\n"
          ]
        },
        {
          "output_type": "stream",
          "name": "stderr",
          "text": [
            "1501it [08:08,  3.07it/s]"
          ]
        },
        {
          "output_type": "stream",
          "name": "stdout",
          "text": [
            "Epoch: 5, Loss:  0.5255592465400696\n"
          ]
        },
        {
          "output_type": "stream",
          "name": "stderr",
          "text": [
            "2001it [10:51,  3.07it/s]"
          ]
        },
        {
          "output_type": "stream",
          "name": "stdout",
          "text": [
            "Epoch: 5, Loss:  0.5890074372291565\n"
          ]
        },
        {
          "output_type": "stream",
          "name": "stderr",
          "text": [
            "2501it [13:34,  3.07it/s]"
          ]
        },
        {
          "output_type": "stream",
          "name": "stdout",
          "text": [
            "Epoch: 5, Loss:  0.5433550477027893\n"
          ]
        },
        {
          "output_type": "stream",
          "name": "stderr",
          "text": [
            "3001it [16:16,  3.07it/s]"
          ]
        },
        {
          "output_type": "stream",
          "name": "stdout",
          "text": [
            "Epoch: 5, Loss:  0.4062838852405548\n"
          ]
        },
        {
          "output_type": "stream",
          "name": "stderr",
          "text": [
            "3501it [18:59,  3.07it/s]"
          ]
        },
        {
          "output_type": "stream",
          "name": "stdout",
          "text": [
            "Epoch: 5, Loss:  0.9220868945121765\n"
          ]
        },
        {
          "output_type": "stream",
          "name": "stderr",
          "text": [
            "4001it [21:42,  3.06it/s]"
          ]
        },
        {
          "output_type": "stream",
          "name": "stdout",
          "text": [
            "Epoch: 5, Loss:  0.576367974281311\n"
          ]
        },
        {
          "output_type": "stream",
          "name": "stderr",
          "text": [
            "4501it [24:25,  3.07it/s]"
          ]
        },
        {
          "output_type": "stream",
          "name": "stdout",
          "text": [
            "Epoch: 5, Loss:  0.46835657954216003\n"
          ]
        },
        {
          "output_type": "stream",
          "name": "stderr",
          "text": [
            "5001it [27:08,  3.06it/s]"
          ]
        },
        {
          "output_type": "stream",
          "name": "stdout",
          "text": [
            "Epoch: 5, Loss:  0.8877454996109009\n"
          ]
        },
        {
          "output_type": "stream",
          "name": "stderr",
          "text": [
            "5501it [29:51,  3.07it/s]"
          ]
        },
        {
          "output_type": "stream",
          "name": "stdout",
          "text": [
            "Epoch: 5, Loss:  0.6632224321365356\n"
          ]
        },
        {
          "output_type": "stream",
          "name": "stderr",
          "text": [
            "6001it [32:34,  3.07it/s]"
          ]
        },
        {
          "output_type": "stream",
          "name": "stdout",
          "text": [
            "Epoch: 5, Loss:  0.513206958770752\n"
          ]
        },
        {
          "output_type": "stream",
          "name": "stderr",
          "text": [
            "6501it [35:16,  3.07it/s]"
          ]
        },
        {
          "output_type": "stream",
          "name": "stdout",
          "text": [
            "Epoch: 5, Loss:  0.6023056507110596\n"
          ]
        },
        {
          "output_type": "stream",
          "name": "stderr",
          "text": [
            "7001it [37:59,  3.06it/s]"
          ]
        },
        {
          "output_type": "stream",
          "name": "stdout",
          "text": [
            "Epoch: 5, Loss:  0.9947381019592285\n"
          ]
        },
        {
          "output_type": "stream",
          "name": "stderr",
          "text": [
            "7501it [40:42,  3.06it/s]"
          ]
        },
        {
          "output_type": "stream",
          "name": "stdout",
          "text": [
            "Epoch: 5, Loss:  0.6577480435371399\n"
          ]
        },
        {
          "output_type": "stream",
          "name": "stderr",
          "text": [
            "8001it [43:25,  3.05it/s]"
          ]
        },
        {
          "output_type": "stream",
          "name": "stdout",
          "text": [
            "Epoch: 5, Loss:  0.5799556374549866\n"
          ]
        },
        {
          "output_type": "stream",
          "name": "stderr",
          "text": [
            "8501it [46:08,  3.06it/s]"
          ]
        },
        {
          "output_type": "stream",
          "name": "stdout",
          "text": [
            "Epoch: 5, Loss:  0.9163540005683899\n"
          ]
        },
        {
          "output_type": "stream",
          "name": "stderr",
          "text": [
            "9001it [48:51,  3.07it/s]"
          ]
        },
        {
          "output_type": "stream",
          "name": "stdout",
          "text": [
            "Epoch: 5, Loss:  0.7008623480796814\n"
          ]
        },
        {
          "output_type": "stream",
          "name": "stderr",
          "text": [
            "9501it [51:34,  3.06it/s]"
          ]
        },
        {
          "output_type": "stream",
          "name": "stdout",
          "text": [
            "Epoch: 5, Loss:  0.6861301064491272\n"
          ]
        },
        {
          "output_type": "stream",
          "name": "stderr",
          "text": [
            "10001it [54:16,  3.06it/s]"
          ]
        },
        {
          "output_type": "stream",
          "name": "stdout",
          "text": [
            "Epoch: 5, Loss:  0.9229195713996887\n"
          ]
        },
        {
          "output_type": "stream",
          "name": "stderr",
          "text": [
            "10501it [56:59,  3.07it/s]"
          ]
        },
        {
          "output_type": "stream",
          "name": "stdout",
          "text": [
            "Epoch: 5, Loss:  1.2631744146347046\n"
          ]
        },
        {
          "output_type": "stream",
          "name": "stderr",
          "text": [
            "11001it [59:42,  3.05it/s]"
          ]
        },
        {
          "output_type": "stream",
          "name": "stdout",
          "text": [
            "Epoch: 5, Loss:  0.6538395881652832\n"
          ]
        },
        {
          "output_type": "stream",
          "name": "stderr",
          "text": [
            "11501it [1:02:25,  3.06it/s]"
          ]
        },
        {
          "output_type": "stream",
          "name": "stdout",
          "text": [
            "Epoch: 5, Loss:  0.5068191289901733\n"
          ]
        },
        {
          "output_type": "stream",
          "name": "stderr",
          "text": [
            "12001it [1:05:08,  3.07it/s]"
          ]
        },
        {
          "output_type": "stream",
          "name": "stdout",
          "text": [
            "Epoch: 5, Loss:  0.7374697923660278\n"
          ]
        },
        {
          "output_type": "stream",
          "name": "stderr",
          "text": [
            "12501it [1:07:51,  3.07it/s]"
          ]
        },
        {
          "output_type": "stream",
          "name": "stdout",
          "text": [
            "Epoch: 5, Loss:  1.0471333265304565\n"
          ]
        },
        {
          "output_type": "stream",
          "name": "stderr",
          "text": [
            "13001it [1:10:34,  3.07it/s]"
          ]
        },
        {
          "output_type": "stream",
          "name": "stdout",
          "text": [
            "Epoch: 5, Loss:  0.6265550851821899\n"
          ]
        },
        {
          "output_type": "stream",
          "name": "stderr",
          "text": [
            "13501it [1:13:17,  3.08it/s]"
          ]
        },
        {
          "output_type": "stream",
          "name": "stdout",
          "text": [
            "Epoch: 5, Loss:  0.5562383532524109\n"
          ]
        },
        {
          "output_type": "stream",
          "name": "stderr",
          "text": [
            "14001it [1:16:00,  3.06it/s]"
          ]
        },
        {
          "output_type": "stream",
          "name": "stdout",
          "text": [
            "Epoch: 5, Loss:  1.1930687427520752\n"
          ]
        },
        {
          "output_type": "stream",
          "name": "stderr",
          "text": [
            "14501it [1:18:43,  3.06it/s]"
          ]
        },
        {
          "output_type": "stream",
          "name": "stdout",
          "text": [
            "Epoch: 5, Loss:  0.5687845945358276\n"
          ]
        },
        {
          "output_type": "stream",
          "name": "stderr",
          "text": [
            "15001it [1:21:25,  3.07it/s]"
          ]
        },
        {
          "output_type": "stream",
          "name": "stdout",
          "text": [
            "Epoch: 5, Loss:  1.226830244064331\n"
          ]
        },
        {
          "output_type": "stream",
          "name": "stderr",
          "text": [
            "15501it [1:24:08,  3.07it/s]"
          ]
        },
        {
          "output_type": "stream",
          "name": "stdout",
          "text": [
            "Epoch: 5, Loss:  0.8994959592819214\n"
          ]
        },
        {
          "output_type": "stream",
          "name": "stderr",
          "text": [
            "16001it [1:26:51,  3.04it/s]"
          ]
        },
        {
          "output_type": "stream",
          "name": "stdout",
          "text": [
            "Epoch: 5, Loss:  0.4500456154346466\n"
          ]
        },
        {
          "output_type": "stream",
          "name": "stderr",
          "text": [
            "16501it [1:29:34,  3.07it/s]"
          ]
        },
        {
          "output_type": "stream",
          "name": "stdout",
          "text": [
            "Epoch: 5, Loss:  0.738908588886261\n"
          ]
        },
        {
          "output_type": "stream",
          "name": "stderr",
          "text": [
            "17001it [1:32:17,  3.07it/s]"
          ]
        },
        {
          "output_type": "stream",
          "name": "stdout",
          "text": [
            "Epoch: 5, Loss:  0.7008978724479675\n"
          ]
        },
        {
          "output_type": "stream",
          "name": "stderr",
          "text": [
            "17501it [1:35:00,  3.08it/s]"
          ]
        },
        {
          "output_type": "stream",
          "name": "stdout",
          "text": [
            "Epoch: 5, Loss:  0.5897391438484192\n"
          ]
        },
        {
          "output_type": "stream",
          "name": "stderr",
          "text": [
            "18001it [1:37:43,  3.07it/s]"
          ]
        },
        {
          "output_type": "stream",
          "name": "stdout",
          "text": [
            "Epoch: 5, Loss:  0.854765772819519\n"
          ]
        },
        {
          "output_type": "stream",
          "name": "stderr",
          "text": [
            "18501it [1:40:26,  3.07it/s]"
          ]
        },
        {
          "output_type": "stream",
          "name": "stdout",
          "text": [
            "Epoch: 5, Loss:  0.683672308921814\n"
          ]
        },
        {
          "output_type": "stream",
          "name": "stderr",
          "text": [
            "19001it [1:43:09,  3.07it/s]"
          ]
        },
        {
          "output_type": "stream",
          "name": "stdout",
          "text": [
            "Epoch: 5, Loss:  0.488542377948761\n"
          ]
        },
        {
          "output_type": "stream",
          "name": "stderr",
          "text": [
            "19501it [1:45:52,  3.06it/s]"
          ]
        },
        {
          "output_type": "stream",
          "name": "stdout",
          "text": [
            "Epoch: 5, Loss:  0.8620700836181641\n"
          ]
        },
        {
          "output_type": "stream",
          "name": "stderr",
          "text": [
            "20001it [1:48:35,  3.06it/s]"
          ]
        },
        {
          "output_type": "stream",
          "name": "stdout",
          "text": [
            "Epoch: 5, Loss:  0.8555943369865417\n"
          ]
        },
        {
          "output_type": "stream",
          "name": "stderr",
          "text": [
            "20501it [1:51:18,  3.07it/s]"
          ]
        },
        {
          "output_type": "stream",
          "name": "stdout",
          "text": [
            "Epoch: 5, Loss:  0.5271888971328735\n"
          ]
        },
        {
          "output_type": "stream",
          "name": "stderr",
          "text": [
            "21001it [1:54:01,  3.06it/s]"
          ]
        },
        {
          "output_type": "stream",
          "name": "stdout",
          "text": [
            "Epoch: 5, Loss:  1.0041019916534424\n"
          ]
        },
        {
          "output_type": "stream",
          "name": "stderr",
          "text": [
            "21501it [1:56:44,  3.06it/s]"
          ]
        },
        {
          "output_type": "stream",
          "name": "stdout",
          "text": [
            "Epoch: 5, Loss:  0.4123988151550293\n"
          ]
        },
        {
          "output_type": "stream",
          "name": "stderr",
          "text": [
            "22001it [1:59:27,  3.07it/s]"
          ]
        },
        {
          "output_type": "stream",
          "name": "stdout",
          "text": [
            "Epoch: 5, Loss:  0.9593533873558044\n"
          ]
        },
        {
          "output_type": "stream",
          "name": "stderr",
          "text": [
            "22501it [2:02:10,  3.05it/s]"
          ]
        },
        {
          "output_type": "stream",
          "name": "stdout",
          "text": [
            "Epoch: 5, Loss:  1.297949194908142\n"
          ]
        },
        {
          "output_type": "stream",
          "name": "stderr",
          "text": [
            "23001it [2:04:53,  3.07it/s]"
          ]
        },
        {
          "output_type": "stream",
          "name": "stdout",
          "text": [
            "Epoch: 5, Loss:  0.8873023390769958\n"
          ]
        },
        {
          "output_type": "stream",
          "name": "stderr",
          "text": [
            "23501it [2:07:36,  3.06it/s]"
          ]
        },
        {
          "output_type": "stream",
          "name": "stdout",
          "text": [
            "Epoch: 5, Loss:  1.3500441312789917\n"
          ]
        },
        {
          "output_type": "stream",
          "name": "stderr",
          "text": [
            "24001it [2:10:19,  2.98it/s]"
          ]
        },
        {
          "output_type": "stream",
          "name": "stdout",
          "text": [
            "Epoch: 5, Loss:  1.266831398010254\n"
          ]
        },
        {
          "output_type": "stream",
          "name": "stderr",
          "text": [
            "24501it [2:13:03,  3.06it/s]"
          ]
        },
        {
          "output_type": "stream",
          "name": "stdout",
          "text": [
            "Epoch: 5, Loss:  1.0421866178512573\n"
          ]
        },
        {
          "output_type": "stream",
          "name": "stderr",
          "text": [
            "25001it [2:15:46,  3.06it/s]"
          ]
        },
        {
          "output_type": "stream",
          "name": "stdout",
          "text": [
            "Epoch: 5, Loss:  0.5725901126861572\n"
          ]
        },
        {
          "output_type": "stream",
          "name": "stderr",
          "text": [
            "25501it [2:18:29,  3.06it/s]"
          ]
        },
        {
          "output_type": "stream",
          "name": "stdout",
          "text": [
            "Epoch: 5, Loss:  1.2243692874908447\n"
          ]
        },
        {
          "output_type": "stream",
          "name": "stderr",
          "text": [
            "26001it [2:21:12,  3.05it/s]"
          ]
        },
        {
          "output_type": "stream",
          "name": "stdout",
          "text": [
            "Epoch: 5, Loss:  0.9995388984680176\n"
          ]
        },
        {
          "output_type": "stream",
          "name": "stderr",
          "text": [
            "26501it [2:23:55,  3.06it/s]"
          ]
        },
        {
          "output_type": "stream",
          "name": "stdout",
          "text": [
            "Epoch: 5, Loss:  1.2009786367416382\n"
          ]
        },
        {
          "output_type": "stream",
          "name": "stderr",
          "text": [
            "27001it [2:26:38,  3.06it/s]"
          ]
        },
        {
          "output_type": "stream",
          "name": "stdout",
          "text": [
            "Epoch: 5, Loss:  0.8288237452507019\n"
          ]
        },
        {
          "output_type": "stream",
          "name": "stderr",
          "text": [
            "27501it [2:29:21,  3.07it/s]"
          ]
        },
        {
          "output_type": "stream",
          "name": "stdout",
          "text": [
            "Epoch: 5, Loss:  0.5957037210464478\n"
          ]
        },
        {
          "output_type": "stream",
          "name": "stderr",
          "text": [
            "28001it [2:32:04,  3.08it/s]"
          ]
        },
        {
          "output_type": "stream",
          "name": "stdout",
          "text": [
            "Epoch: 5, Loss:  0.8024159073829651\n"
          ]
        },
        {
          "output_type": "stream",
          "name": "stderr",
          "text": [
            "28501it [2:34:47,  3.08it/s]"
          ]
        },
        {
          "output_type": "stream",
          "name": "stdout",
          "text": [
            "Epoch: 5, Loss:  0.7159542441368103\n"
          ]
        },
        {
          "output_type": "stream",
          "name": "stderr",
          "text": [
            "29001it [2:37:29,  3.08it/s]"
          ]
        },
        {
          "output_type": "stream",
          "name": "stdout",
          "text": [
            "Epoch: 5, Loss:  0.35940301418304443\n"
          ]
        },
        {
          "output_type": "stream",
          "name": "stderr",
          "text": [
            "29501it [2:40:12,  3.07it/s]"
          ]
        },
        {
          "output_type": "stream",
          "name": "stdout",
          "text": [
            "Epoch: 5, Loss:  0.7257717847824097\n"
          ]
        },
        {
          "output_type": "stream",
          "name": "stderr",
          "text": [
            "30000it [2:42:54,  3.07it/s]\n"
          ]
        },
        {
          "output_type": "stream",
          "name": "stdout",
          "text": [
            "1\n"
          ]
        },
        {
          "output_type": "stream",
          "name": "stderr",
          "text": [
            "\r0it [00:00, ?it/s]"
          ]
        },
        {
          "output_type": "stream",
          "name": "stdout",
          "text": [
            "Epoch: 6, Loss:  0.45701420307159424\n"
          ]
        },
        {
          "output_type": "stream",
          "name": "stderr",
          "text": [
            "501it [02:43,  3.07it/s]"
          ]
        },
        {
          "output_type": "stream",
          "name": "stdout",
          "text": [
            "Epoch: 6, Loss:  0.4045940637588501\n"
          ]
        },
        {
          "output_type": "stream",
          "name": "stderr",
          "text": [
            "1001it [05:26,  3.07it/s]"
          ]
        },
        {
          "output_type": "stream",
          "name": "stdout",
          "text": [
            "Epoch: 6, Loss:  0.4238598942756653\n"
          ]
        },
        {
          "output_type": "stream",
          "name": "stderr",
          "text": [
            "1501it [08:09,  3.07it/s]"
          ]
        },
        {
          "output_type": "stream",
          "name": "stdout",
          "text": [
            "Epoch: 6, Loss:  0.4844036400318146\n"
          ]
        },
        {
          "output_type": "stream",
          "name": "stderr",
          "text": [
            "2001it [10:52,  3.06it/s]"
          ]
        },
        {
          "output_type": "stream",
          "name": "stdout",
          "text": [
            "Epoch: 6, Loss:  0.7959424257278442\n"
          ]
        },
        {
          "output_type": "stream",
          "name": "stderr",
          "text": [
            "2501it [13:35,  3.06it/s]"
          ]
        },
        {
          "output_type": "stream",
          "name": "stdout",
          "text": [
            "Epoch: 6, Loss:  0.4402787983417511\n"
          ]
        },
        {
          "output_type": "stream",
          "name": "stderr",
          "text": [
            "3001it [16:18,  3.07it/s]"
          ]
        },
        {
          "output_type": "stream",
          "name": "stdout",
          "text": [
            "Epoch: 6, Loss:  0.3831658363342285\n"
          ]
        },
        {
          "output_type": "stream",
          "name": "stderr",
          "text": [
            "3501it [19:01,  3.06it/s]"
          ]
        },
        {
          "output_type": "stream",
          "name": "stdout",
          "text": [
            "Epoch: 6, Loss:  0.6707152724266052\n"
          ]
        },
        {
          "output_type": "stream",
          "name": "stderr",
          "text": [
            "4001it [21:44,  3.06it/s]"
          ]
        },
        {
          "output_type": "stream",
          "name": "stdout",
          "text": [
            "Epoch: 6, Loss:  0.38394230604171753\n"
          ]
        },
        {
          "output_type": "stream",
          "name": "stderr",
          "text": [
            "4501it [24:27,  3.07it/s]"
          ]
        },
        {
          "output_type": "stream",
          "name": "stdout",
          "text": [
            "Epoch: 6, Loss:  0.2860069274902344\n"
          ]
        },
        {
          "output_type": "stream",
          "name": "stderr",
          "text": [
            "5001it [27:09,  3.07it/s]"
          ]
        },
        {
          "output_type": "stream",
          "name": "stdout",
          "text": [
            "Epoch: 6, Loss:  0.6661827564239502\n"
          ]
        },
        {
          "output_type": "stream",
          "name": "stderr",
          "text": [
            "5501it [29:52,  3.07it/s]"
          ]
        },
        {
          "output_type": "stream",
          "name": "stdout",
          "text": [
            "Epoch: 6, Loss:  0.7920077443122864\n"
          ]
        },
        {
          "output_type": "stream",
          "name": "stderr",
          "text": [
            "6001it [32:35,  3.06it/s]"
          ]
        },
        {
          "output_type": "stream",
          "name": "stdout",
          "text": [
            "Epoch: 6, Loss:  0.48081207275390625\n"
          ]
        },
        {
          "output_type": "stream",
          "name": "stderr",
          "text": [
            "6501it [35:18,  3.06it/s]"
          ]
        },
        {
          "output_type": "stream",
          "name": "stdout",
          "text": [
            "Epoch: 6, Loss:  0.485763281583786\n"
          ]
        },
        {
          "output_type": "stream",
          "name": "stderr",
          "text": [
            "7001it [38:01,  3.08it/s]"
          ]
        },
        {
          "output_type": "stream",
          "name": "stdout",
          "text": [
            "Epoch: 6, Loss:  0.38809752464294434\n"
          ]
        },
        {
          "output_type": "stream",
          "name": "stderr",
          "text": [
            "7501it [40:44,  3.07it/s]"
          ]
        },
        {
          "output_type": "stream",
          "name": "stdout",
          "text": [
            "Epoch: 6, Loss:  0.43065598607063293\n"
          ]
        },
        {
          "output_type": "stream",
          "name": "stderr",
          "text": [
            "8001it [43:27,  3.06it/s]"
          ]
        },
        {
          "output_type": "stream",
          "name": "stdout",
          "text": [
            "Epoch: 6, Loss:  0.4022153615951538\n"
          ]
        },
        {
          "output_type": "stream",
          "name": "stderr",
          "text": [
            "8501it [46:10,  3.07it/s]"
          ]
        },
        {
          "output_type": "stream",
          "name": "stdout",
          "text": [
            "Epoch: 6, Loss:  0.5490599870681763\n"
          ]
        },
        {
          "output_type": "stream",
          "name": "stderr",
          "text": [
            "9001it [48:53,  3.07it/s]"
          ]
        },
        {
          "output_type": "stream",
          "name": "stdout",
          "text": [
            "Epoch: 6, Loss:  0.4211239814758301\n"
          ]
        },
        {
          "output_type": "stream",
          "name": "stderr",
          "text": [
            "9501it [51:36,  3.07it/s]"
          ]
        },
        {
          "output_type": "stream",
          "name": "stdout",
          "text": [
            "Epoch: 6, Loss:  0.8457147479057312\n"
          ]
        },
        {
          "output_type": "stream",
          "name": "stderr",
          "text": [
            "10001it [54:18,  3.07it/s]"
          ]
        },
        {
          "output_type": "stream",
          "name": "stdout",
          "text": [
            "Epoch: 6, Loss:  0.5415872931480408\n"
          ]
        },
        {
          "output_type": "stream",
          "name": "stderr",
          "text": [
            "10501it [57:01,  3.07it/s]"
          ]
        },
        {
          "output_type": "stream",
          "name": "stdout",
          "text": [
            "Epoch: 6, Loss:  0.7300738096237183\n"
          ]
        },
        {
          "output_type": "stream",
          "name": "stderr",
          "text": [
            "11001it [59:44,  3.08it/s]"
          ]
        },
        {
          "output_type": "stream",
          "name": "stdout",
          "text": [
            "Epoch: 6, Loss:  0.4325450658798218\n"
          ]
        },
        {
          "output_type": "stream",
          "name": "stderr",
          "text": [
            "11501it [1:02:26,  3.07it/s]"
          ]
        },
        {
          "output_type": "stream",
          "name": "stdout",
          "text": [
            "Epoch: 6, Loss:  0.40583503246307373\n"
          ]
        },
        {
          "output_type": "stream",
          "name": "stderr",
          "text": [
            "12001it [1:05:09,  3.06it/s]"
          ]
        },
        {
          "output_type": "stream",
          "name": "stdout",
          "text": [
            "Epoch: 6, Loss:  0.4636301100254059\n"
          ]
        },
        {
          "output_type": "stream",
          "name": "stderr",
          "text": [
            "12501it [1:07:52,  3.06it/s]"
          ]
        },
        {
          "output_type": "stream",
          "name": "stdout",
          "text": [
            "Epoch: 6, Loss:  0.5707880854606628\n"
          ]
        },
        {
          "output_type": "stream",
          "name": "stderr",
          "text": [
            "13001it [1:10:35,  3.06it/s]"
          ]
        },
        {
          "output_type": "stream",
          "name": "stdout",
          "text": [
            "Epoch: 6, Loss:  0.7009210586547852\n"
          ]
        },
        {
          "output_type": "stream",
          "name": "stderr",
          "text": [
            "13501it [1:13:18,  3.06it/s]"
          ]
        },
        {
          "output_type": "stream",
          "name": "stdout",
          "text": [
            "Epoch: 6, Loss:  0.5400041937828064\n"
          ]
        },
        {
          "output_type": "stream",
          "name": "stderr",
          "text": [
            "14001it [1:16:01,  3.06it/s]"
          ]
        },
        {
          "output_type": "stream",
          "name": "stdout",
          "text": [
            "Epoch: 6, Loss:  1.2800955772399902\n"
          ]
        },
        {
          "output_type": "stream",
          "name": "stderr",
          "text": [
            "14501it [1:18:44,  3.07it/s]"
          ]
        },
        {
          "output_type": "stream",
          "name": "stdout",
          "text": [
            "Epoch: 6, Loss:  0.6462123394012451\n"
          ]
        },
        {
          "output_type": "stream",
          "name": "stderr",
          "text": [
            "15001it [1:21:26,  3.08it/s]"
          ]
        },
        {
          "output_type": "stream",
          "name": "stdout",
          "text": [
            "Epoch: 6, Loss:  0.6202783584594727\n"
          ]
        },
        {
          "output_type": "stream",
          "name": "stderr",
          "text": [
            "15501it [1:24:08,  3.07it/s]"
          ]
        },
        {
          "output_type": "stream",
          "name": "stdout",
          "text": [
            "Epoch: 6, Loss:  1.235048770904541\n"
          ]
        },
        {
          "output_type": "stream",
          "name": "stderr",
          "text": [
            "16001it [1:26:51,  3.08it/s]"
          ]
        },
        {
          "output_type": "stream",
          "name": "stdout",
          "text": [
            "Epoch: 6, Loss:  1.4182037115097046\n"
          ]
        },
        {
          "output_type": "stream",
          "name": "stderr",
          "text": [
            "16501it [1:29:33,  3.08it/s]"
          ]
        },
        {
          "output_type": "stream",
          "name": "stdout",
          "text": [
            "Epoch: 6, Loss:  0.5772541761398315\n"
          ]
        },
        {
          "output_type": "stream",
          "name": "stderr",
          "text": [
            "17001it [1:32:15,  3.08it/s]"
          ]
        },
        {
          "output_type": "stream",
          "name": "stdout",
          "text": [
            "Epoch: 6, Loss:  1.0359712839126587\n"
          ]
        },
        {
          "output_type": "stream",
          "name": "stderr",
          "text": [
            "17501it [1:34:57,  3.07it/s]"
          ]
        },
        {
          "output_type": "stream",
          "name": "stdout",
          "text": [
            "Epoch: 6, Loss:  0.8633343577384949\n"
          ]
        },
        {
          "output_type": "stream",
          "name": "stderr",
          "text": [
            "18001it [1:37:39,  3.08it/s]"
          ]
        },
        {
          "output_type": "stream",
          "name": "stdout",
          "text": [
            "Epoch: 6, Loss:  0.4887361526489258\n"
          ]
        },
        {
          "output_type": "stream",
          "name": "stderr",
          "text": [
            "18501it [1:40:22,  3.08it/s]"
          ]
        },
        {
          "output_type": "stream",
          "name": "stdout",
          "text": [
            "Epoch: 6, Loss:  0.5849276185035706\n"
          ]
        },
        {
          "output_type": "stream",
          "name": "stderr",
          "text": [
            "19001it [1:43:04,  3.08it/s]"
          ]
        },
        {
          "output_type": "stream",
          "name": "stdout",
          "text": [
            "Epoch: 6, Loss:  0.42960086464881897\n"
          ]
        },
        {
          "output_type": "stream",
          "name": "stderr",
          "text": [
            "19501it [1:45:46,  3.08it/s]"
          ]
        },
        {
          "output_type": "stream",
          "name": "stdout",
          "text": [
            "Epoch: 6, Loss:  0.5808352828025818\n"
          ]
        },
        {
          "output_type": "stream",
          "name": "stderr",
          "text": [
            "20001it [1:48:28,  3.08it/s]"
          ]
        },
        {
          "output_type": "stream",
          "name": "stdout",
          "text": [
            "Epoch: 6, Loss:  0.5370188355445862\n"
          ]
        },
        {
          "output_type": "stream",
          "name": "stderr",
          "text": [
            "20501it [1:51:10,  3.08it/s]"
          ]
        },
        {
          "output_type": "stream",
          "name": "stdout",
          "text": [
            "Epoch: 6, Loss:  0.5517206788063049\n"
          ]
        },
        {
          "output_type": "stream",
          "name": "stderr",
          "text": [
            "21001it [1:53:53,  3.08it/s]"
          ]
        },
        {
          "output_type": "stream",
          "name": "stdout",
          "text": [
            "Epoch: 6, Loss:  0.33785727620124817\n"
          ]
        },
        {
          "output_type": "stream",
          "name": "stderr",
          "text": [
            "21501it [1:56:35,  3.09it/s]"
          ]
        },
        {
          "output_type": "stream",
          "name": "stdout",
          "text": [
            "Epoch: 6, Loss:  0.41185134649276733\n"
          ]
        },
        {
          "output_type": "stream",
          "name": "stderr",
          "text": [
            "22001it [1:59:17,  3.08it/s]"
          ]
        },
        {
          "output_type": "stream",
          "name": "stdout",
          "text": [
            "Epoch: 6, Loss:  0.8296933770179749\n"
          ]
        },
        {
          "output_type": "stream",
          "name": "stderr",
          "text": [
            "22501it [2:02:00,  3.07it/s]"
          ]
        },
        {
          "output_type": "stream",
          "name": "stdout",
          "text": [
            "Epoch: 6, Loss:  0.38251960277557373\n"
          ]
        },
        {
          "output_type": "stream",
          "name": "stderr",
          "text": [
            "23001it [2:04:42,  3.08it/s]"
          ]
        },
        {
          "output_type": "stream",
          "name": "stdout",
          "text": [
            "Epoch: 6, Loss:  0.6987821459770203\n"
          ]
        },
        {
          "output_type": "stream",
          "name": "stderr",
          "text": [
            "23501it [2:07:24,  3.07it/s]"
          ]
        },
        {
          "output_type": "stream",
          "name": "stdout",
          "text": [
            "Epoch: 6, Loss:  0.7775696516036987\n"
          ]
        },
        {
          "output_type": "stream",
          "name": "stderr",
          "text": [
            "24001it [2:10:06,  3.08it/s]"
          ]
        },
        {
          "output_type": "stream",
          "name": "stdout",
          "text": [
            "Epoch: 6, Loss:  0.49460288882255554\n"
          ]
        },
        {
          "output_type": "stream",
          "name": "stderr",
          "text": [
            "24501it [2:12:48,  3.07it/s]"
          ]
        },
        {
          "output_type": "stream",
          "name": "stdout",
          "text": [
            "Epoch: 6, Loss:  0.8881520628929138\n"
          ]
        },
        {
          "output_type": "stream",
          "name": "stderr",
          "text": [
            "25001it [2:15:30,  3.09it/s]"
          ]
        },
        {
          "output_type": "stream",
          "name": "stdout",
          "text": [
            "Epoch: 6, Loss:  0.9707104563713074\n"
          ]
        },
        {
          "output_type": "stream",
          "name": "stderr",
          "text": [
            "25501it [2:18:13,  3.07it/s]"
          ]
        },
        {
          "output_type": "stream",
          "name": "stdout",
          "text": [
            "Epoch: 6, Loss:  0.452333003282547\n"
          ]
        },
        {
          "output_type": "stream",
          "name": "stderr",
          "text": [
            "26001it [2:20:55,  3.08it/s]"
          ]
        },
        {
          "output_type": "stream",
          "name": "stdout",
          "text": [
            "Epoch: 6, Loss:  0.6775931715965271\n"
          ]
        },
        {
          "output_type": "stream",
          "name": "stderr",
          "text": [
            "26501it [2:23:37,  3.08it/s]"
          ]
        },
        {
          "output_type": "stream",
          "name": "stdout",
          "text": [
            "Epoch: 6, Loss:  0.9431447982788086\n"
          ]
        },
        {
          "output_type": "stream",
          "name": "stderr",
          "text": [
            "27001it [2:26:20,  3.08it/s]"
          ]
        },
        {
          "output_type": "stream",
          "name": "stdout",
          "text": [
            "Epoch: 6, Loss:  0.9672999978065491\n"
          ]
        },
        {
          "output_type": "stream",
          "name": "stderr",
          "text": [
            "27501it [2:29:02,  3.08it/s]"
          ]
        },
        {
          "output_type": "stream",
          "name": "stdout",
          "text": [
            "Epoch: 6, Loss:  0.9665642976760864\n"
          ]
        },
        {
          "output_type": "stream",
          "name": "stderr",
          "text": [
            "28001it [2:31:44,  3.09it/s]"
          ]
        },
        {
          "output_type": "stream",
          "name": "stdout",
          "text": [
            "Epoch: 6, Loss:  0.5901225209236145\n"
          ]
        },
        {
          "output_type": "stream",
          "name": "stderr",
          "text": [
            "28501it [2:34:26,  3.09it/s]"
          ]
        },
        {
          "output_type": "stream",
          "name": "stdout",
          "text": [
            "Epoch: 6, Loss:  1.370618462562561\n"
          ]
        },
        {
          "output_type": "stream",
          "name": "stderr",
          "text": [
            "29001it [2:37:09,  3.06it/s]"
          ]
        },
        {
          "output_type": "stream",
          "name": "stdout",
          "text": [
            "Epoch: 6, Loss:  0.758554995059967\n"
          ]
        },
        {
          "output_type": "stream",
          "name": "stderr",
          "text": [
            "29501it [2:39:51,  3.06it/s]"
          ]
        },
        {
          "output_type": "stream",
          "name": "stdout",
          "text": [
            "Epoch: 6, Loss:  0.2872380316257477\n"
          ]
        },
        {
          "output_type": "stream",
          "name": "stderr",
          "text": [
            "30000it [2:42:33,  3.08it/s]\n"
          ]
        },
        {
          "output_type": "stream",
          "name": "stdout",
          "text": [
            "1\n"
          ]
        },
        {
          "output_type": "stream",
          "name": "stderr",
          "text": [
            "\r0it [00:00, ?it/s]"
          ]
        },
        {
          "output_type": "stream",
          "name": "stdout",
          "text": [
            "Epoch: 7, Loss:  0.5248010754585266\n"
          ]
        },
        {
          "output_type": "stream",
          "name": "stderr",
          "text": [
            "501it [02:43,  3.08it/s]"
          ]
        },
        {
          "output_type": "stream",
          "name": "stdout",
          "text": [
            "Epoch: 7, Loss:  0.18981851637363434\n"
          ]
        },
        {
          "output_type": "stream",
          "name": "stderr",
          "text": [
            "1001it [05:25,  3.07it/s]"
          ]
        },
        {
          "output_type": "stream",
          "name": "stdout",
          "text": [
            "Epoch: 7, Loss:  0.6321289539337158\n"
          ]
        },
        {
          "output_type": "stream",
          "name": "stderr",
          "text": [
            "1501it [08:07,  3.08it/s]"
          ]
        },
        {
          "output_type": "stream",
          "name": "stdout",
          "text": [
            "Epoch: 7, Loss:  0.2063043713569641\n"
          ]
        },
        {
          "output_type": "stream",
          "name": "stderr",
          "text": [
            "2001it [10:50,  3.08it/s]"
          ]
        },
        {
          "output_type": "stream",
          "name": "stdout",
          "text": [
            "Epoch: 7, Loss:  0.2499893456697464\n"
          ]
        },
        {
          "output_type": "stream",
          "name": "stderr",
          "text": [
            "2501it [13:32,  3.08it/s]"
          ]
        },
        {
          "output_type": "stream",
          "name": "stdout",
          "text": [
            "Epoch: 7, Loss:  0.37631016969680786\n"
          ]
        },
        {
          "output_type": "stream",
          "name": "stderr",
          "text": [
            "3001it [16:15,  3.08it/s]"
          ]
        },
        {
          "output_type": "stream",
          "name": "stdout",
          "text": [
            "Epoch: 7, Loss:  0.3373451232910156\n"
          ]
        },
        {
          "output_type": "stream",
          "name": "stderr",
          "text": [
            "3501it [18:57,  3.07it/s]"
          ]
        },
        {
          "output_type": "stream",
          "name": "stdout",
          "text": [
            "Epoch: 7, Loss:  0.5649866461753845\n"
          ]
        },
        {
          "output_type": "stream",
          "name": "stderr",
          "text": [
            "4001it [21:40,  3.08it/s]"
          ]
        },
        {
          "output_type": "stream",
          "name": "stdout",
          "text": [
            "Epoch: 7, Loss:  0.5415986776351929\n"
          ]
        },
        {
          "output_type": "stream",
          "name": "stderr",
          "text": [
            "4501it [24:22,  3.08it/s]"
          ]
        },
        {
          "output_type": "stream",
          "name": "stdout",
          "text": [
            "Epoch: 7, Loss:  0.512023389339447\n"
          ]
        },
        {
          "output_type": "stream",
          "name": "stderr",
          "text": [
            "5001it [27:04,  3.09it/s]"
          ]
        },
        {
          "output_type": "stream",
          "name": "stdout",
          "text": [
            "Epoch: 7, Loss:  0.6378215551376343\n"
          ]
        },
        {
          "output_type": "stream",
          "name": "stderr",
          "text": [
            "5501it [29:47,  3.08it/s]"
          ]
        },
        {
          "output_type": "stream",
          "name": "stdout",
          "text": [
            "Epoch: 7, Loss:  0.6031872034072876\n"
          ]
        },
        {
          "output_type": "stream",
          "name": "stderr",
          "text": [
            "6001it [32:29,  3.08it/s]"
          ]
        },
        {
          "output_type": "stream",
          "name": "stdout",
          "text": [
            "Epoch: 7, Loss:  0.5812278389930725\n"
          ]
        },
        {
          "output_type": "stream",
          "name": "stderr",
          "text": [
            "6501it [35:11,  3.06it/s]"
          ]
        },
        {
          "output_type": "stream",
          "name": "stdout",
          "text": [
            "Epoch: 7, Loss:  0.4626200497150421\n"
          ]
        },
        {
          "output_type": "stream",
          "name": "stderr",
          "text": [
            "7001it [37:54,  3.08it/s]"
          ]
        },
        {
          "output_type": "stream",
          "name": "stdout",
          "text": [
            "Epoch: 7, Loss:  0.3281835913658142\n"
          ]
        },
        {
          "output_type": "stream",
          "name": "stderr",
          "text": [
            "7501it [40:37,  3.07it/s]"
          ]
        },
        {
          "output_type": "stream",
          "name": "stdout",
          "text": [
            "Epoch: 7, Loss:  0.3335084617137909\n"
          ]
        },
        {
          "output_type": "stream",
          "name": "stderr",
          "text": [
            "8001it [43:19,  3.07it/s]"
          ]
        },
        {
          "output_type": "stream",
          "name": "stdout",
          "text": [
            "Epoch: 7, Loss:  0.8700746893882751\n"
          ]
        },
        {
          "output_type": "stream",
          "name": "stderr",
          "text": [
            "8501it [46:02,  3.08it/s]"
          ]
        },
        {
          "output_type": "stream",
          "name": "stdout",
          "text": [
            "Epoch: 7, Loss:  0.5119295716285706\n"
          ]
        },
        {
          "output_type": "stream",
          "name": "stderr",
          "text": [
            "9001it [48:44,  3.09it/s]"
          ]
        },
        {
          "output_type": "stream",
          "name": "stdout",
          "text": [
            "Epoch: 7, Loss:  0.39430445432662964\n"
          ]
        },
        {
          "output_type": "stream",
          "name": "stderr",
          "text": [
            "9501it [51:26,  3.08it/s]"
          ]
        },
        {
          "output_type": "stream",
          "name": "stdout",
          "text": [
            "Epoch: 7, Loss:  0.3555421531200409\n"
          ]
        },
        {
          "output_type": "stream",
          "name": "stderr",
          "text": [
            "10001it [54:08,  3.09it/s]"
          ]
        },
        {
          "output_type": "stream",
          "name": "stdout",
          "text": [
            "Epoch: 7, Loss:  0.27246150374412537\n"
          ]
        },
        {
          "output_type": "stream",
          "name": "stderr",
          "text": [
            "10501it [56:51,  3.08it/s]"
          ]
        },
        {
          "output_type": "stream",
          "name": "stdout",
          "text": [
            "Epoch: 7, Loss:  0.37368953227996826\n"
          ]
        },
        {
          "output_type": "stream",
          "name": "stderr",
          "text": [
            "11001it [59:33,  3.07it/s]"
          ]
        },
        {
          "output_type": "stream",
          "name": "stdout",
          "text": [
            "Epoch: 7, Loss:  0.8557763695716858\n"
          ]
        },
        {
          "output_type": "stream",
          "name": "stderr",
          "text": [
            "11501it [1:02:15,  3.07it/s]"
          ]
        },
        {
          "output_type": "stream",
          "name": "stdout",
          "text": [
            "Epoch: 7, Loss:  0.5920625925064087\n"
          ]
        },
        {
          "output_type": "stream",
          "name": "stderr",
          "text": [
            "12001it [1:04:58,  3.08it/s]"
          ]
        },
        {
          "output_type": "stream",
          "name": "stdout",
          "text": [
            "Epoch: 7, Loss:  1.0772854089736938\n"
          ]
        },
        {
          "output_type": "stream",
          "name": "stderr",
          "text": [
            "12501it [1:07:40,  3.08it/s]"
          ]
        },
        {
          "output_type": "stream",
          "name": "stdout",
          "text": [
            "Epoch: 7, Loss:  0.4320825934410095\n"
          ]
        },
        {
          "output_type": "stream",
          "name": "stderr",
          "text": [
            "13001it [1:10:22,  3.07it/s]"
          ]
        },
        {
          "output_type": "stream",
          "name": "stdout",
          "text": [
            "Epoch: 7, Loss:  0.6634989976882935\n"
          ]
        },
        {
          "output_type": "stream",
          "name": "stderr",
          "text": [
            "13501it [1:13:05,  3.07it/s]"
          ]
        },
        {
          "output_type": "stream",
          "name": "stdout",
          "text": [
            "Epoch: 7, Loss:  0.6378530263900757\n"
          ]
        },
        {
          "output_type": "stream",
          "name": "stderr",
          "text": [
            "14001it [1:15:47,  3.08it/s]"
          ]
        },
        {
          "output_type": "stream",
          "name": "stdout",
          "text": [
            "Epoch: 7, Loss:  0.46587833762168884\n"
          ]
        },
        {
          "output_type": "stream",
          "name": "stderr",
          "text": [
            "14501it [1:18:30,  3.08it/s]"
          ]
        },
        {
          "output_type": "stream",
          "name": "stdout",
          "text": [
            "Epoch: 7, Loss:  0.857449471950531\n"
          ]
        },
        {
          "output_type": "stream",
          "name": "stderr",
          "text": [
            "15001it [1:21:12,  3.07it/s]"
          ]
        },
        {
          "output_type": "stream",
          "name": "stdout",
          "text": [
            "Epoch: 7, Loss:  0.6198942065238953\n"
          ]
        },
        {
          "output_type": "stream",
          "name": "stderr",
          "text": [
            "15501it [1:23:54,  3.08it/s]"
          ]
        },
        {
          "output_type": "stream",
          "name": "stdout",
          "text": [
            "Epoch: 7, Loss:  0.4326850175857544\n"
          ]
        },
        {
          "output_type": "stream",
          "name": "stderr",
          "text": [
            "16001it [1:26:37,  3.08it/s]"
          ]
        },
        {
          "output_type": "stream",
          "name": "stdout",
          "text": [
            "Epoch: 7, Loss:  0.6888332366943359\n"
          ]
        },
        {
          "output_type": "stream",
          "name": "stderr",
          "text": [
            "16501it [1:29:19,  3.07it/s]"
          ]
        },
        {
          "output_type": "stream",
          "name": "stdout",
          "text": [
            "Epoch: 7, Loss:  0.5222280025482178\n"
          ]
        },
        {
          "output_type": "stream",
          "name": "stderr",
          "text": [
            "17001it [1:32:02,  3.07it/s]"
          ]
        },
        {
          "output_type": "stream",
          "name": "stdout",
          "text": [
            "Epoch: 7, Loss:  0.2832738757133484\n"
          ]
        },
        {
          "output_type": "stream",
          "name": "stderr",
          "text": [
            "17501it [1:34:44,  3.08it/s]"
          ]
        },
        {
          "output_type": "stream",
          "name": "stdout",
          "text": [
            "Epoch: 7, Loss:  0.6014673709869385\n"
          ]
        },
        {
          "output_type": "stream",
          "name": "stderr",
          "text": [
            "18001it [1:37:26,  3.07it/s]"
          ]
        },
        {
          "output_type": "stream",
          "name": "stdout",
          "text": [
            "Epoch: 7, Loss:  0.6324526071548462\n"
          ]
        },
        {
          "output_type": "stream",
          "name": "stderr",
          "text": [
            "18501it [1:40:09,  3.07it/s]"
          ]
        },
        {
          "output_type": "stream",
          "name": "stdout",
          "text": [
            "Epoch: 7, Loss:  0.604568600654602\n"
          ]
        },
        {
          "output_type": "stream",
          "name": "stderr",
          "text": [
            "19001it [1:42:52,  3.06it/s]"
          ]
        },
        {
          "output_type": "stream",
          "name": "stdout",
          "text": [
            "Epoch: 7, Loss:  0.35500290989875793\n"
          ]
        },
        {
          "output_type": "stream",
          "name": "stderr",
          "text": [
            "19501it [1:45:34,  3.07it/s]"
          ]
        },
        {
          "output_type": "stream",
          "name": "stdout",
          "text": [
            "Epoch: 7, Loss:  0.6793262958526611\n"
          ]
        },
        {
          "output_type": "stream",
          "name": "stderr",
          "text": [
            "20001it [1:48:17,  3.07it/s]"
          ]
        },
        {
          "output_type": "stream",
          "name": "stdout",
          "text": [
            "Epoch: 7, Loss:  0.7254267930984497\n"
          ]
        },
        {
          "output_type": "stream",
          "name": "stderr",
          "text": [
            "20501it [1:51:00,  3.08it/s]"
          ]
        },
        {
          "output_type": "stream",
          "name": "stdout",
          "text": [
            "Epoch: 7, Loss:  0.6052694916725159\n"
          ]
        },
        {
          "output_type": "stream",
          "name": "stderr",
          "text": [
            "21001it [1:53:42,  3.08it/s]"
          ]
        },
        {
          "output_type": "stream",
          "name": "stdout",
          "text": [
            "Epoch: 7, Loss:  0.6490647792816162\n"
          ]
        },
        {
          "output_type": "stream",
          "name": "stderr",
          "text": [
            "21501it [1:56:24,  3.08it/s]"
          ]
        },
        {
          "output_type": "stream",
          "name": "stdout",
          "text": [
            "Epoch: 7, Loss:  0.9059565663337708\n"
          ]
        },
        {
          "output_type": "stream",
          "name": "stderr",
          "text": [
            "22001it [1:59:07,  3.07it/s]"
          ]
        },
        {
          "output_type": "stream",
          "name": "stdout",
          "text": [
            "Epoch: 7, Loss:  0.5728247165679932\n"
          ]
        },
        {
          "output_type": "stream",
          "name": "stderr",
          "text": [
            "22501it [2:01:49,  3.08it/s]"
          ]
        },
        {
          "output_type": "stream",
          "name": "stdout",
          "text": [
            "Epoch: 7, Loss:  0.44781070947647095\n"
          ]
        },
        {
          "output_type": "stream",
          "name": "stderr",
          "text": [
            "23001it [2:04:32,  3.06it/s]"
          ]
        },
        {
          "output_type": "stream",
          "name": "stdout",
          "text": [
            "Epoch: 7, Loss:  0.6477379202842712\n"
          ]
        },
        {
          "output_type": "stream",
          "name": "stderr",
          "text": [
            "23501it [2:07:15,  3.07it/s]"
          ]
        },
        {
          "output_type": "stream",
          "name": "stdout",
          "text": [
            "Epoch: 7, Loss:  0.4983980059623718\n"
          ]
        },
        {
          "output_type": "stream",
          "name": "stderr",
          "text": [
            "24001it [2:09:57,  3.08it/s]"
          ]
        },
        {
          "output_type": "stream",
          "name": "stdout",
          "text": [
            "Epoch: 7, Loss:  0.7456405758857727\n"
          ]
        },
        {
          "output_type": "stream",
          "name": "stderr",
          "text": [
            "24501it [2:12:40,  3.08it/s]"
          ]
        },
        {
          "output_type": "stream",
          "name": "stdout",
          "text": [
            "Epoch: 7, Loss:  0.806767463684082\n"
          ]
        },
        {
          "output_type": "stream",
          "name": "stderr",
          "text": [
            "25001it [2:15:22,  3.07it/s]"
          ]
        },
        {
          "output_type": "stream",
          "name": "stdout",
          "text": [
            "Epoch: 7, Loss:  0.9615698456764221\n"
          ]
        },
        {
          "output_type": "stream",
          "name": "stderr",
          "text": [
            "25501it [2:18:05,  3.06it/s]"
          ]
        },
        {
          "output_type": "stream",
          "name": "stdout",
          "text": [
            "Epoch: 7, Loss:  0.8362576961517334\n"
          ]
        },
        {
          "output_type": "stream",
          "name": "stderr",
          "text": [
            "26001it [2:20:48,  3.07it/s]"
          ]
        },
        {
          "output_type": "stream",
          "name": "stdout",
          "text": [
            "Epoch: 7, Loss:  0.3102246820926666\n"
          ]
        },
        {
          "output_type": "stream",
          "name": "stderr",
          "text": [
            "26501it [2:23:30,  3.06it/s]"
          ]
        },
        {
          "output_type": "stream",
          "name": "stdout",
          "text": [
            "Epoch: 7, Loss:  0.629725456237793\n"
          ]
        },
        {
          "output_type": "stream",
          "name": "stderr",
          "text": [
            "27001it [2:26:13,  3.08it/s]"
          ]
        },
        {
          "output_type": "stream",
          "name": "stdout",
          "text": [
            "Epoch: 7, Loss:  0.8421176671981812\n"
          ]
        },
        {
          "output_type": "stream",
          "name": "stderr",
          "text": [
            "27501it [2:28:56,  3.07it/s]"
          ]
        },
        {
          "output_type": "stream",
          "name": "stdout",
          "text": [
            "Epoch: 7, Loss:  1.215556263923645\n"
          ]
        },
        {
          "output_type": "stream",
          "name": "stderr",
          "text": [
            "28001it [2:31:38,  3.07it/s]"
          ]
        },
        {
          "output_type": "stream",
          "name": "stdout",
          "text": [
            "Epoch: 7, Loss:  0.7136792540550232\n"
          ]
        },
        {
          "output_type": "stream",
          "name": "stderr",
          "text": [
            "28501it [2:34:21,  3.06it/s]"
          ]
        },
        {
          "output_type": "stream",
          "name": "stdout",
          "text": [
            "Epoch: 7, Loss:  0.752888023853302\n"
          ]
        },
        {
          "output_type": "stream",
          "name": "stderr",
          "text": [
            "29001it [2:37:04,  3.07it/s]"
          ]
        },
        {
          "output_type": "stream",
          "name": "stdout",
          "text": [
            "Epoch: 7, Loss:  0.6683358550071716\n"
          ]
        },
        {
          "output_type": "stream",
          "name": "stderr",
          "text": [
            "29501it [2:39:47,  3.07it/s]"
          ]
        },
        {
          "output_type": "stream",
          "name": "stdout",
          "text": [
            "Epoch: 7, Loss:  1.2356292009353638\n"
          ]
        },
        {
          "output_type": "stream",
          "name": "stderr",
          "text": [
            "30000it [2:42:29,  3.08it/s]\n"
          ]
        }
      ]
    },
    {
      "cell_type": "code",
      "metadata": {
        "id": "swARTTCKRJyB"
      },
      "source": [
        "tokenizer.save_pretrained('/content/drive/MyDrive/3차프로젝트_현정/eT5_epoch8/pretrained_120000/')\n",
        "model.save_pretrained('/content/drive/MyDrive/3차프로젝트_현정/eT5_epoch8/pretrained_120000/')"
      ],
      "execution_count": null,
      "outputs": []
    },
    {
      "cell_type": "markdown",
      "metadata": {
        "id": "CcxJOF7T6w2y"
      },
      "source": [
        "test"
      ]
    },
    {
      "cell_type": "code",
      "metadata": {
        "id": "h0ly0z2xsSwq",
        "colab": {
          "base_uri": "https://localhost:8080/"
        },
        "outputId": "7dba65a0-cc58-4180-bfbc-daa4fb795df6"
      },
      "source": [
        "validation_dataset.columns = ['ctext','text']\n",
        "validation_dataset.ctext = 'summarize: ' + validation_dataset.ctext\n",
        "\n",
        "val_set = CustomDataset(validation_dataset, tokenizer, config.MAX_LEN, config.SUMMARY_LEN)\n",
        "\n",
        "val_loader = DataLoader(val_set, **val_params)\n",
        "\n",
        "for epoch in range(config.VAL_EPOCHS):\n",
        "    predictions, actuals = validate(epoch, tokenizer, model, device, val_loader)\n",
        "    final_df = pd.DataFrame({'Generated Text':predictions,'Actual Text':actuals})\n",
        "\n",
        "final_df.to_csv('/content/drive/MyDrive/3차프로젝트_현정/eT5_epoch8/final_df_train120000(8).csv')"
      ],
      "execution_count": null,
      "outputs": [
        {
          "output_type": "stream",
          "name": "stderr",
          "text": [
            "/usr/local/lib/python3.7/dist-packages/transformers/tokenization_utils_base.py:2218: FutureWarning: The `pad_to_max_length` argument is deprecated and will be removed in a future version, use `padding=True` or `padding='longest'` to pad to the longest sequence in the batch, or use `padding='max_length'` to pad to a max length. In this case, you can give a specific length with `max_length` (e.g. `max_length=45`) or leave max_length to None to pad to the maximal input size of the model (e.g. 512 for Bert).\n",
            "  FutureWarning,\n"
          ]
        },
        {
          "output_type": "stream",
          "name": "stdout",
          "text": [
            "Completed 0\n",
            "Completed 100\n",
            "Completed 200\n",
            "Completed 300\n",
            "Completed 400\n",
            "Completed 500\n",
            "Completed 600\n",
            "Completed 700\n",
            "Completed 800\n",
            "Completed 900\n",
            "Completed 1000\n",
            "Completed 1100\n",
            "Completed 1200\n",
            "Completed 1300\n",
            "Completed 1400\n",
            "Completed 1500\n",
            "Completed 1600\n",
            "Completed 1700\n",
            "Completed 1800\n",
            "Completed 1900\n",
            "Completed 2000\n",
            "Completed 2100\n",
            "Completed 2200\n",
            "Completed 2300\n",
            "Completed 2400\n",
            "Completed 2500\n",
            "Completed 2600\n",
            "Completed 2700\n",
            "Completed 2800\n",
            "Completed 2900\n",
            "Completed 3000\n",
            "Completed 3100\n",
            "Completed 3200\n",
            "Completed 3300\n",
            "Completed 3400\n",
            "Completed 3500\n",
            "Completed 3600\n",
            "Completed 3700\n",
            "Completed 3800\n",
            "Completed 3900\n",
            "Completed 4000\n",
            "Completed 4100\n",
            "Completed 4200\n",
            "Completed 4300\n",
            "Completed 4400\n",
            "Completed 4500\n",
            "Completed 4600\n",
            "Completed 4700\n",
            "Completed 4800\n",
            "Completed 4900\n"
          ]
        }
      ]
    }
  ]
}