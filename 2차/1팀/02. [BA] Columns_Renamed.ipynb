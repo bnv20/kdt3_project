{
  "nbformat": 4,
  "nbformat_minor": 0,
  "metadata": {
    "colab": {
      "name": "outlier?.ipynb",
      "provenance": [],
      "collapsed_sections": [],
      "machine_shape": "hm",
      "mount_file_id": "1UvlBOekeEhwXj5x49VORVHTf5hHZYFJA",
      "authorship_tag": "ABX9TyO8S+vuF79as35q9vpoBKZf",
      "include_colab_link": true
    },
    "kernelspec": {
      "name": "python3",
      "display_name": "Python 3"
    },
    "language_info": {
      "name": "python"
    },
    "accelerator": "GPU"
  },
  "cells": [
    {
      "cell_type": "markdown",
      "metadata": {
        "id": "view-in-github",
        "colab_type": "text"
      },
      "source": [
        "<a href=\"https://colab.research.google.com/github/kikiru328/Bone_Detection/blob/main/%5BBA%5D%20Columns_Renamed.ipynb\" target=\"_parent\"><img src=\"https://colab.research.google.com/assets/colab-badge.svg\" alt=\"Open In Colab\"/></a>"
      ]
    },
    {
      "cell_type": "code",
      "metadata": {
        "id": "EnIwZShu1ubc"
      },
      "source": [
        "import pandas as pd\n",
        "import numpy as np\n",
        "import matplotlib.pyplot as plt\n",
        "import cv2\n",
        "import seaborn as sns\n",
        "import os\n",
        "%matplotlib inline"
      ],
      "execution_count": null,
      "outputs": []
    },
    {
      "cell_type": "code",
      "metadata": {
        "id": "iHCUn6YDPvCR"
      },
      "source": [
        "carpal_path = '/content/drive/MyDrive/2차 프로젝트 원본 데이터/crop_img/female/CARPAL'\n",
        "carpal = os.listdir(carpal_path) \n",
        "\n",
        "ip_path = '/content/drive/MyDrive/2차 프로젝트 원본 데이터/crop_img/female/IP'\n",
        "ip = os.listdir(ip_path)\n",
        "\n",
        "lpip_path = '/content/drive/MyDrive/2차 프로젝트 원본 데이터/crop_img/female/LPIP'\n",
        "lpip = os.listdir(lpip_path)\n",
        "\n",
        "mpip_path = '/content/drive/MyDrive/2차 프로젝트 원본 데이터/crop_img/female/MPIP'\n",
        "mpip = os.listdir(mpip_path)\n",
        "\n",
        "LMCP_path = '/content/drive/MyDrive/2차 프로젝트 원본 데이터/crop_img/female/LMCP'\n",
        "lmcp = os.listdir(LMCP_path)\n",
        "\n",
        "MMCP_path = '/content/drive/MyDrive/2차 프로젝트 원본 데이터/crop_img/female/MMCP'\n",
        "mmcp = os.listdir(MMCP_path)\n",
        "\n",
        "TMCP_path = '/content/drive/MyDrive/2차 프로젝트 원본 데이터/crop_img/female/TMCP'\n",
        "tmcp = os.listdir(TMCP_path)"
      ],
      "execution_count": null,
      "outputs": []
    },
    {
      "cell_type": "code",
      "metadata": {
        "id": "NjkHUjghWpWo"
      },
      "source": [
        "carpal_path = '/content/drive/MyDrive/2차 프로젝트 원본 데이터/crop_img/male/CARPAL'\n",
        "carpal = os.listdir(carpal_path) \n",
        "\n",
        "ip_path = '/content/drive/MyDrive/2차 프로젝트 원본 데이터/crop_img/male/IP'\n",
        "ip = os.listdir(ip_path)\n",
        "\n",
        "lpip_path = '/content/drive/MyDrive/2차 프로젝트 원본 데이터/crop_img/male/LPIP'\n",
        "lpip = os.listdir(lpip_path)\n",
        "\n",
        "mpip_path = '/content/drive/MyDrive/2차 프로젝트 원본 데이터/crop_img/male/MPIP'\n",
        "mpip = os.listdir(mpip_path)\n",
        "\n",
        "LMCP_path = '/content/drive/MyDrive/2차 프로젝트 원본 데이터/crop_img/male/LMCP'\n",
        "lmcp = os.listdir(LMCP_path)\n",
        "\n",
        "MMCP_path = '/content/drive/MyDrive/2차 프로젝트 원본 데이터/crop_img/male/MMCP'\n",
        "mmcp = os.listdir(MMCP_path)\n",
        "\n",
        "TMCP_path = '/content/drive/MyDrive/2차 프로젝트 원본 데이터/crop_img/male/TMCP'\n",
        "tmcp = os.listdir(TMCP_path)"
      ],
      "execution_count": null,
      "outputs": []
    },
    {
      "cell_type": "code",
      "metadata": {
        "id": "ZF9_oy1OP1od"
      },
      "source": [
        "all = all.rename(\n",
        "    columns={\n",
        "        'No.' : 'NO',\n",
        "        '등록번호' : 'REGI',\n",
        "        '진료의' : 'DCT_CODE',\n",
        "        '생년월일' : 'BD',\n",
        "        '처방일자' : 'PD',\n",
        "        '시행일자' : 'OD',\n",
        "        '검사 시 나이' : 'DIG_AGE',\n",
        "        '신장' : 'HEIGT',\n",
        "        '체중' : 'WEIGT',\n",
        "        'Bone' : 'BONE',\n",
        "        'BA 1' : 'BA_1',\n",
        "        'BA 2' : 'BA_2',\n",
        "        'carpal' : 'CARPAL',\n",
        "        'lmcp' : 'LMCP',\n",
        "        'mmcp' : 'MMCP',\n",
        "        'tmcp' : 'TMCP',\n",
        "        'lpip' : 'LPIP',\n",
        "        'mpip' : 'MPIP',\n",
        "        'ip' : 'IP'   }\n",
        ")"
      ],
      "execution_count": null,
      "outputs": []
    }
  ]
}
