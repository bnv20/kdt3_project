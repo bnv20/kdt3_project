{
 "cells": [
  {
   "cell_type": "code",
   "execution_count": 2,
   "id": "348193fb-ac02-4619-a0dd-e51cf7f7bbb6",
   "metadata": {},
   "outputs": [],
   "source": [
    "import cv2\n",
    "import matplotlib.pyplot as plt\n",
    "%matplotlib inline"
   ]
  },
  {
   "cell_type": "code",
   "execution_count": 9,
   "id": "f5d08c23-0ce1-4693-88d8-05fbf2edce62",
   "metadata": {},
   "outputs": [],
   "source": [
    "src = cv2.imread('./data/Lena.png', cv2.IMREAD_GRAYSCALE)"
   ]
  },
  {
   "cell_type": "code",
   "execution_count": 10,
   "id": "a2f2e287-6b9d-4055-9b42-2740f341c47a",
   "metadata": {},
   "outputs": [
    {
     "data": {
      "text/plain": [
       "(512, 512)"
      ]
     },
     "execution_count": 10,
     "metadata": {},
     "output_type": "execute_result"
    }
   ],
   "source": [
    "src.shape"
   ]
  },
  {
   "cell_type": "code",
   "execution_count": 11,
   "id": "3572188a-1d68-4cf9-b2a8-6963b3ca47c4",
   "metadata": {},
   "outputs": [
    {
     "name": "stdout",
     "output_type": "stream",
     "text": [
      "roi =  (194, 202, 178, 198)\n"
     ]
    }
   ],
   "source": [
    "src = cv2.imread('./data/Lena.png', cv2.IMREAD_GRAYSCALE)\n",
    "roi = cv2.selectROI(src)\n",
    "print('roi = ',roi)\n",
    "\n",
    "img=src[roi[1] : roi[1] + roi[3],\n",
    "       roi[0] : roi[0] + roi[2]]\n",
    "\n",
    "cv2.imshow('Img > ', img)\n",
    "cv2.waitKey(0)\n",
    "cv2.destroyAllWindows()"
   ]
  },
  {
   "cell_type": "code",
   "execution_count": 28,
   "id": "5ec76562-f9c7-47b7-b251-2a9e3a6b5802",
   "metadata": {},
   "outputs": [],
   "source": [
    "import cv2\n",
    "\n",
    "src = cv2.imread('./data/Lena.png', cv2.IMREAD_GRAYSCALE)\n",
    "\n",
    "img2 = src[202:202+198,194:194+178]\n",
    "cv2.imshow('Img2', img2)\n",
    "cv2.waitKey(0)\n",
    "cv2.destroyAllWindows()"
   ]
  },
  {
   "cell_type": "code",
   "execution_count": 24,
   "id": "deee696d-23e5-4ae1-a9b0-74ac949e14d1",
   "metadata": {},
   "outputs": [
    {
     "data": {
      "text/plain": [
       "372"
      ]
     },
     "execution_count": 24,
     "metadata": {},
     "output_type": "execute_result"
    }
   ],
   "source": []
  },
  {
   "cell_type": "code",
   "execution_count": null,
   "id": "43f0c13f-d783-4ead-94a2-ff389103be5d",
   "metadata": {},
   "outputs": [],
   "source": []
  }
 ],
 "metadata": {
  "kernelspec": {
   "display_name": "Python 3",
   "language": "python",
   "name": "python3"
  },
  "language_info": {
   "codemirror_mode": {
    "name": "ipython",
    "version": 3
   },
   "file_extension": ".py",
   "mimetype": "text/x-python",
   "name": "python",
   "nbconvert_exporter": "python",
   "pygments_lexer": "ipython3",
   "version": "3.8.11"
  }
 },
 "nbformat": 4,
 "nbformat_minor": 5
}
